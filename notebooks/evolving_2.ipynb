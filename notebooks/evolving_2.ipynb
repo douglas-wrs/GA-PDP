{
 "cells": [
  {
   "cell_type": "code",
   "execution_count": 1,
   "metadata": {},
   "outputs": [],
   "source": [
    "import auxiliary_tools\n",
    "from tqdm import tqdm \n",
    "from geopy.distance import geodesic"
   ]
  },
  {
   "cell_type": "code",
   "execution_count": 2,
   "metadata": {},
   "outputs": [],
   "source": [
    "import array\n",
    "import random\n",
    "import numpy as np\n",
    "import json\n",
    "import pickle\n",
    "import numpy\n",
    "from math import sqrt\n",
    "from deap import algorithms\n",
    "from deap import base\n",
    "from deap import benchmarks\n",
    "from deap.benchmarks.tools import diversity, convergence, hypervolume\n",
    "from deap import creator\n",
    "from deap import tools"
   ]
  },
  {
   "cell_type": "code",
   "execution_count": 3,
   "metadata": {},
   "outputs": [],
   "source": [
    "def generate_individual(creator, route_requests, rand_dist_min, rand_dist_max):\n",
    "    individual = []\n",
    "    for request in route_requests:\n",
    "        \n",
    "        rand_distance = random.randint(rand_dist_min, rand_dist_max)/1000\n",
    "        rand_angle = random.randint(1, 360)\n",
    "        \n",
    "        gene = geodesic(kilometers=rand_distance).destination(request, rand_angle)[:2]\n",
    "        \n",
    "        individual.append(gene)\n",
    "    individual = np.array(individual)\n",
    "    return creator.individual(individual)"
   ]
  },
  {
   "cell_type": "code",
   "execution_count": 4,
   "metadata": {},
   "outputs": [],
   "source": [
    "def mutation(individual, mutation_probability, rand_dist_min, rand_dist_max):\n",
    "    mutated_individual = []\n",
    "    for gene in individual:\n",
    "        if random.random() < mutation_probability:\n",
    "            rand_distance = random.randint(rand_dist_min, rand_dist_max)/1000\n",
    "            rand_angle = random.randint(1, 360)\n",
    "            \n",
    "            mutated_gene = geodesic(kilometers=rand_distance).destination(gene, rand_angle)[:2]\n",
    "            mutated_individual.append( mutated_gene )\n",
    "        else:\n",
    "            mutated_individual.append( gene )\n",
    "    return  creator.individual(np.array(mutated_individual))"
   ]
  },
  {
   "cell_type": "code",
   "execution_count": 5,
   "metadata": {},
   "outputs": [],
   "source": [
    "def crossover(individual_a, individual_b, crossover_probability):\n",
    "    child_a = []\n",
    "    child_b = []\n",
    "\n",
    "    for i, (gene_a, gene_b) in enumerate(zip(individual_a, individual_b)):\n",
    "        if random.random() < crossover_probability:\n",
    "            child_a.append(gene_b)\n",
    "            child_b.append(gene_a)\n",
    "        else:\n",
    "            child_a.append(gene_a)\n",
    "            child_b.append(gene_b)\n",
    "\n",
    "    return (creator.individual(np.array(child_a)), creator.individual(np.array(child_b)))"
   ]
  },
  {
   "cell_type": "code",
   "execution_count": 6,
   "metadata": {},
   "outputs": [],
   "source": [
    "def client_fitness(route_requests, individual):\n",
    "    c_fitness = []\n",
    "    for i in range(len(route_requests)):\n",
    "        request_r = route_requests[i]\n",
    "        request_origin = [request_r[0], request_r[1]]\n",
    "        vs_individual = individual[i]\n",
    "        vs_destination = vs_individual\n",
    "        c_fitness.append(auxiliary_tools.getGeoDistanceETA_OSRM(request_origin, vs_destination, 5003, 'walking'))\n",
    "    fitness_value = np.sum([f[0] for f in c_fitness])\n",
    "    return fitness_value\n",
    "\n",
    "def operator_fitness(individual, penalty_const):\n",
    "    ori_dest = [(first, second) for first, second in zip(individual, individual[1:])]\n",
    "    penalty_sum = 0\n",
    "    for pair in ori_dest:\n",
    "        if max(pair[0] != pair[1]) == True:\n",
    "            penalty_sum+=penalty_const\n",
    "    o_fitness = []\n",
    "    for od_r in ori_dest:\n",
    "        o_fitness.append(auxiliary_tools.getGeoDistanceETA_OSRM(od_r[0], od_r[1], 5002, 'driving'))\n",
    "        \n",
    "    fitness_value = np.sum([f[0] for f in o_fitness]) + penalty_sum\n",
    "    return fitness_value\n",
    "\n",
    "def fitness(individual, route_requests, penalty_const):\n",
    "    import time\n",
    "#     start_time = time.time()\n",
    "    from pexecute.thread import ThreadLoom\n",
    "    loom = ThreadLoom(max_runner_cap=10)\n",
    "    \n",
    "    loom.add_function(client_fitness, [route_requests, individual], {})\n",
    "    loom.add_function(operator_fitness, [individual, penalty_const], {})\n",
    "\n",
    "    output = loom.execute()\n",
    "    client_f = output[0]['output']\n",
    "    operator_f = output[1]['output']\n",
    "#     print(\"--- %s seconds ---\" % round(time.time() - start_time))\n",
    "    return client_f, operator_f"
   ]
  },
  {
   "cell_type": "code",
   "execution_count": 7,
   "metadata": {},
   "outputs": [
    {
     "name": "stdout",
     "output_type": "stream",
     "text": [
      "# proposals:  123402\n",
      "# requests 121427\n",
      "# rides 46616\n"
     ]
    }
   ],
   "source": [
    "penalty_const = auxiliary_tools.getPenaltyConst(2)\n",
    "\n",
    "route_requests = auxiliary_tools.loadPrep(1, 0)\n",
    "\n",
    "crossover_probability = 0.8\n",
    "mutation_probability = 0.5\n",
    "\n",
    "rand_dist_min = 0\n",
    "rand_dist_max = 500\n",
    "\n",
    "population_size = 25\n",
    "number_generations = 100\n",
    "\n",
    "idx_evol = 8"
   ]
  },
  {
   "cell_type": "code",
   "execution_count": 8,
   "metadata": {},
   "outputs": [],
   "source": [
    "import time\n",
    "start_time = time.time()"
   ]
  },
  {
   "cell_type": "code",
   "execution_count": 9,
   "metadata": {},
   "outputs": [],
   "source": [
    "creator.create(\"min_fitness\", base.Fitness, weights=(-1.0, -1.0))\n",
    "creator.create(\"individual\", list, fitness=creator.min_fitness)\n",
    "\n",
    "toolbox = base.Toolbox()\n",
    "\n",
    "toolbox.register(\"create_individual\", generate_individual, creator, route_requests=route_requests,  rand_dist_min=rand_dist_min, rand_dist_max=rand_dist_max)\n",
    "toolbox.register(\"initialize_population\", tools.initRepeat, list, toolbox.create_individual)\n",
    "\n",
    "toolbox.register(\"evaluate\", fitness, route_requests=route_requests, penalty_const=penalty_const)\n",
    "toolbox.register(\"crossover\", crossover, crossover_probability=crossover_probability)\n",
    "toolbox.register(\"mutate\", mutation, mutation_probability=mutation_probability, rand_dist_min=rand_dist_min, rand_dist_max=rand_dist_min)\n",
    "\n",
    "toolbox.register(\"select\", tools.selNSGA2)"
   ]
  },
  {
   "cell_type": "code",
   "execution_count": 10,
   "metadata": {},
   "outputs": [],
   "source": [
    "population = toolbox.initialize_population(n=population_size)"
   ]
  },
  {
   "cell_type": "code",
   "execution_count": 11,
   "metadata": {},
   "outputs": [
    {
     "name": "stderr",
     "output_type": "stream",
     "text": [
      "100%|██████████| 25/25 [12:36<00:00, 30.25s/it]\n"
     ]
    }
   ],
   "source": [
    "population_fitnesses = [toolbox.evaluate(individual) for individual in tqdm(population)]"
   ]
  },
  {
   "cell_type": "code",
   "execution_count": 12,
   "metadata": {},
   "outputs": [],
   "source": [
    "for individual, fitness in zip(population, population_fitnesses):\n",
    "    individual.fitness.values = fitness"
   ]
  },
  {
   "cell_type": "code",
   "execution_count": 13,
   "metadata": {},
   "outputs": [],
   "source": [
    "list_generations_mean_fitness = []\n",
    "list_generations_std_fitness = []\n",
    "list_generations_min_fitness = []\n",
    "list_generations_max_fitness = []\n",
    "\n",
    "list_population_generations = []\n",
    "list_best_individuo_generations = []\n",
    "list_best_individuo_fitness_generations = []"
   ]
  },
  {
   "cell_type": "code",
   "execution_count": 14,
   "metadata": {},
   "outputs": [
    {
     "name": "stderr",
     "output_type": "stream",
     "text": [
      "100%|██████████| 24/24 [15:20<00:00, 38.36s/it]\n"
     ]
    },
    {
     "name": "stdout",
     "output_type": "stream",
     "text": [
      "---- STATISTICS GENERATION 0 ----\n",
      "  Min 776.6078 7535.108485964724\n",
      "  Max 820.4495999999999 7643.833885964726\n",
      "  Avg 795.6784399999998 7582.768861964722\n",
      "  Std 10.757863163823348 24.672606419157574\n",
      "Best individual is 776.6078, 7576.796585964725\n"
     ]
    },
    {
     "name": "stderr",
     "output_type": "stream",
     "text": [
      "100%|██████████| 24/24 [16:36<00:00, 41.52s/it]\n"
     ]
    },
    {
     "name": "stdout",
     "output_type": "stream",
     "text": [
      "---- STATISTICS GENERATION 1 ----\n",
      "  Min 765.8934999999999 7529.549985964725\n",
      "  Max 824.7535 7643.833885964726\n",
      "  Avg 793.1993280000002 7574.717293964725\n",
      "  Std 13.301671138566043 28.7246182408562\n",
      "Best individual is 765.8934999999999, 7553.769685964725\n"
     ]
    },
    {
     "name": "stderr",
     "output_type": "stream",
     "text": [
      "100%|██████████| 24/24 [16:03<00:00, 40.15s/it]\n"
     ]
    },
    {
     "name": "stdout",
     "output_type": "stream",
     "text": [
      "---- STATISTICS GENERATION 2 ----\n",
      "  Min 762.6856 7529.221685964724\n",
      "  Max 817.7656 7636.864085964725\n",
      "  Avg 791.9069959999999 7559.378565964725\n",
      "  Std 15.490633398558662 24.140490988942734\n",
      "Best individual is 762.6856, 7538.684685964725\n"
     ]
    },
    {
     "name": "stderr",
     "output_type": "stream",
     "text": [
      "100%|██████████| 24/24 [18:22<00:00, 45.94s/it]\n"
     ]
    },
    {
     "name": "stdout",
     "output_type": "stream",
     "text": [
      "---- STATISTICS GENERATION 3 ----\n",
      "  Min 762.6856 7516.213485964725\n",
      "  Max 819.6753 7588.677285964725\n",
      "  Avg 791.151836 7546.024025964726\n",
      "  Std 17.072640809078393 17.150343234239237\n",
      "Best individual is 762.6856, 7538.684685964725\n"
     ]
    },
    {
     "name": "stderr",
     "output_type": "stream",
     "text": [
      "100%|██████████| 24/24 [21:02<00:00, 52.62s/it]\n"
     ]
    },
    {
     "name": "stdout",
     "output_type": "stream",
     "text": [
      "---- STATISTICS GENERATION 4 ----\n",
      "  Min 758.5728 7516.213485964725\n",
      "  Max 812.2596000000001 7582.414785964725\n",
      "  Avg 782.754744 7541.974753964727\n",
      "  Std 15.727588917341004 16.666289256759992\n",
      "Best individual is 758.5728, 7577.738385964724\n"
     ]
    },
    {
     "name": "stderr",
     "output_type": "stream",
     "text": [
      "100%|██████████| 24/24 [17:20<00:00, 43.33s/it]\n"
     ]
    },
    {
     "name": "stdout",
     "output_type": "stream",
     "text": [
      "---- STATISTICS GENERATION 5 ----\n",
      "  Min 758.5728 7513.491085964724\n",
      "  Max 812.2596000000001 7577.738385964724\n",
      "  Avg 781.8516919999997 7534.2640619647245\n",
      "  Std 17.626509466901783 13.553528440978276\n",
      "Best individual is 758.5728, 7577.738385964724\n"
     ]
    },
    {
     "name": "stderr",
     "output_type": "stream",
     "text": [
      "100%|██████████| 24/24 [12:26<00:00, 31.11s/it]\n"
     ]
    },
    {
     "name": "stdout",
     "output_type": "stream",
     "text": [
      "---- STATISTICS GENERATION 6 ----\n",
      "  Min 754.3290000000001 7493.963585964724\n",
      "  Max 812.2596000000001 7579.926785964725\n",
      "  Avg 777.2984920000001 7530.938493964724\n",
      "  Std 17.70900796990397 18.950721140925527\n",
      "Best individual is 754.3290000000001, 7579.926785964725\n"
     ]
    },
    {
     "name": "stderr",
     "output_type": "stream",
     "text": [
      "100%|██████████| 24/24 [14:08<00:00, 35.36s/it]\n"
     ]
    },
    {
     "name": "stdout",
     "output_type": "stream",
     "text": [
      "---- STATISTICS GENERATION 7 ----\n",
      "  Min 754.3290000000001 7493.963585964724\n",
      "  Max 810.0095000000001 7579.926785964725\n",
      "  Avg 772.677056 7528.979481964726\n",
      "  Std 16.527618371149824 23.76086883163112\n",
      "Best individual is 754.3290000000001, 7579.926785964725\n"
     ]
    },
    {
     "name": "stderr",
     "output_type": "stream",
     "text": [
      "100%|██████████| 24/24 [18:31<00:00, 46.33s/it]\n"
     ]
    },
    {
     "name": "stdout",
     "output_type": "stream",
     "text": [
      "---- STATISTICS GENERATION 8 ----\n",
      "  Min 753.8078 7488.353085964724\n",
      "  Max 800.1346 7579.926785964725\n",
      "  Avg 769.573076 7521.584121964725\n",
      "  Std 14.319175100411865 23.750484094736823\n",
      "Best individual is 753.8078, 7549.537385964725\n"
     ]
    },
    {
     "name": "stderr",
     "output_type": "stream",
     "text": [
      "100%|██████████| 24/24 [23:11<00:00, 57.97s/it]\n"
     ]
    },
    {
     "name": "stdout",
     "output_type": "stream",
     "text": [
      "---- STATISTICS GENERATION 9 ----\n",
      "  Min 752.2119 7486.389785964725\n",
      "  Max 799.3907 7590.9781859647255\n",
      "  Avg 767.5898960000002 7521.981757964723\n",
      "  Std 13.477374059516542 28.93406778456858\n",
      "Best individual is 752.2119, 7590.9781859647255\n"
     ]
    },
    {
     "name": "stderr",
     "output_type": "stream",
     "text": [
      "100%|██████████| 24/24 [23:28<00:00, 58.71s/it]\n"
     ]
    },
    {
     "name": "stdout",
     "output_type": "stream",
     "text": [
      "---- STATISTICS GENERATION 10 ----\n",
      "  Min 741.2801000000001 7468.202085964725\n",
      "  Max 795.894 7590.9781859647255\n",
      "  Avg 764.3243920000001 7517.649525964724\n",
      "  Std 13.895968105831919 31.94457811673877\n",
      "Best individual is 741.2801000000001, 7533.428985964725\n"
     ]
    },
    {
     "name": "stderr",
     "output_type": "stream",
     "text": [
      "100%|██████████| 24/24 [23:39<00:00, 59.13s/it]\n"
     ]
    },
    {
     "name": "stdout",
     "output_type": "stream",
     "text": [
      "---- STATISTICS GENERATION 11 ----\n",
      "  Min 741.2801000000001 7466.496185964726\n",
      "  Max 795.894 7550.212685964724\n",
      "  Avg 766.9537720000001 7498.7280539647245\n",
      "  Std 14.622334537009367 22.551289225767217\n",
      "Best individual is 741.2801000000001, 7533.428985964725\n"
     ]
    },
    {
     "name": "stderr",
     "output_type": "stream",
     "text": [
      "100%|██████████| 24/24 [25:00<00:00, 62.52s/it]\n"
     ]
    },
    {
     "name": "stdout",
     "output_type": "stream",
     "text": [
      "---- STATISTICS GENERATION 12 ----\n",
      "  Min 740.7248999999999 7457.529685964725\n",
      "  Max 787.8874000000001 7545.477885964725\n",
      "  Avg 762.565024 7494.6898699647245\n",
      "  Std 14.71817264774972 22.635519231261657\n",
      "Best individual is 740.7248999999999, 7491.003985964724\n"
     ]
    },
    {
     "name": "stderr",
     "output_type": "stream",
     "text": [
      "100%|██████████| 24/24 [24:05<00:00, 60.23s/it]\n"
     ]
    },
    {
     "name": "stdout",
     "output_type": "stream",
     "text": [
      "---- STATISTICS GENERATION 13 ----\n",
      "  Min 740.7248999999999 7436.655485964725\n",
      "  Max 782.3339000000001 7533.428985964725\n",
      "  Avg 759.3514800000002 7489.243921964724\n",
      "  Std 11.52092183564185 21.180751512614187\n",
      "Best individual is 740.7248999999999, 7491.003985964724\n"
     ]
    },
    {
     "name": "stderr",
     "output_type": "stream",
     "text": [
      "100%|██████████| 24/24 [25:24<00:00, 63.50s/it]\n"
     ]
    },
    {
     "name": "stdout",
     "output_type": "stream",
     "text": [
      "---- STATISTICS GENERATION 14 ----\n",
      "  Min 740.7248999999999 7436.655485964725\n",
      "  Max 782.3339000000001 7533.428985964725\n",
      "  Avg 755.0583359999999 7489.488281964725\n",
      "  Std 12.09397708795958 24.964279829934323\n",
      "Best individual is 740.7248999999999, 7491.003985964724\n"
     ]
    },
    {
     "name": "stderr",
     "output_type": "stream",
     "text": [
      "100%|██████████| 24/24 [24:57<00:00, 62.38s/it]\n"
     ]
    },
    {
     "name": "stdout",
     "output_type": "stream",
     "text": [
      "---- STATISTICS GENERATION 15 ----\n",
      "  Min 736.6681 7436.655485964725\n",
      "  Max 779.4576999999999 7533.428985964725\n",
      "  Avg 751.7542560000002 7487.738613964725\n",
      "  Std 10.782787799226716 27.15060146887394\n",
      "Best individual is 736.6681, 7507.021785964725\n"
     ]
    },
    {
     "name": "stderr",
     "output_type": "stream",
     "text": [
      "100%|██████████| 24/24 [22:51<00:00, 57.16s/it]\n"
     ]
    },
    {
     "name": "stdout",
     "output_type": "stream",
     "text": [
      "---- STATISTICS GENERATION 16 ----\n",
      "  Min 736.6681 7436.655485964725\n",
      "  Max 779.4576999999999 7523.8499859647245\n",
      "  Avg 748.1408759999999 7482.024413964723\n",
      "  Std 9.302976294687314 25.309984217825427\n",
      "Best individual is 736.6681, 7507.021785964725\n"
     ]
    },
    {
     "name": "stderr",
     "output_type": "stream",
     "text": [
      "100%|██████████| 24/24 [20:16<00:00, 50.68s/it]\n"
     ]
    },
    {
     "name": "stdout",
     "output_type": "stream",
     "text": [
      "---- STATISTICS GENERATION 17 ----\n",
      "  Min 732.8386 7436.122785964725\n",
      "  Max 760.0583999999999 7519.132285964725\n",
      "  Avg 744.889032 7475.444473964724\n",
      "  Std 7.597904998596426 24.8611477063067\n",
      "Best individual is 732.8386, 7490.733285964725\n"
     ]
    },
    {
     "name": "stderr",
     "output_type": "stream",
     "text": [
      "100%|██████████| 24/24 [21:53<00:00, 54.74s/it]\n"
     ]
    },
    {
     "name": "stdout",
     "output_type": "stream",
     "text": [
      "---- STATISTICS GENERATION 18 ----\n",
      "  Min 732.8386 7432.960785964725\n",
      "  Max 760.0583999999999 7519.132285964725\n",
      "  Avg 743.7566559999998 7467.801641964725\n",
      "  Std 7.9320029251879065 25.81186710478293\n",
      "Best individual is 732.8386, 7490.733285964725\n"
     ]
    },
    {
     "name": "stderr",
     "output_type": "stream",
     "text": [
      "100%|██████████| 24/24 [20:55<00:00, 52.32s/it]\n"
     ]
    },
    {
     "name": "stdout",
     "output_type": "stream",
     "text": [
      "---- STATISTICS GENERATION 19 ----\n",
      "  Min 726.0773 7418.230485964726\n",
      "  Max 759.5727999999999 7502.8346859647245\n",
      "  Avg 742.3385079999998 7459.822089964725\n",
      "  Std 8.853031245958162 26.187398488256548\n",
      "Best individual is 726.0773, 7491.767585964725\n"
     ]
    },
    {
     "name": "stderr",
     "output_type": "stream",
     "text": [
      "100%|██████████| 24/24 [18:12<00:00, 45.51s/it]\n"
     ]
    },
    {
     "name": "stdout",
     "output_type": "stream",
     "text": [
      "---- STATISTICS GENERATION 20 ----\n",
      "  Min 726.0773 7418.230485964726\n",
      "  Max 759.5727999999999 7503.138285964725\n",
      "  Avg 740.1225959999999 7454.984705964725\n",
      "  Std 8.815709418145186 25.890391541402852\n",
      "Best individual is 726.0773, 7491.767585964725\n"
     ]
    },
    {
     "name": "stderr",
     "output_type": "stream",
     "text": [
      "100%|██████████| 24/24 [17:36<00:00, 44.02s/it]\n"
     ]
    },
    {
     "name": "stdout",
     "output_type": "stream",
     "text": [
      "---- STATISTICS GENERATION 21 ----\n",
      "  Min 725.9133 7418.1570859647245\n",
      "  Max 759.5727999999999 7501.171085964725\n",
      "  Avg 739.66448 7446.4140819647255\n",
      "  Std 9.549640130476135 23.110734184349056\n",
      "Best individual is 725.9133, 7487.312985964724\n"
     ]
    },
    {
     "name": "stderr",
     "output_type": "stream",
     "text": [
      "100%|██████████| 24/24 [12:44<00:00, 31.87s/it]\n"
     ]
    },
    {
     "name": "stdout",
     "output_type": "stream",
     "text": [
      "---- STATISTICS GENERATION 22 ----\n",
      "  Min 722.7248999999999 7417.4947859647245\n",
      "  Max 753.2647 7491.767585964725\n",
      "  Avg 735.94392 7448.631573964726\n",
      "  Std 8.686605730097158 25.280596047691613\n",
      "Best individual is 722.7248999999999, 7487.129185964725\n"
     ]
    },
    {
     "name": "stderr",
     "output_type": "stream",
     "text": [
      "100%|██████████| 24/24 [11:54<00:00, 29.76s/it]\n"
     ]
    },
    {
     "name": "stdout",
     "output_type": "stream",
     "text": [
      "---- STATISTICS GENERATION 23 ----\n",
      "  Min 722.3609 7416.581985964725\n",
      "  Max 753.2647 7489.471485964726\n",
      "  Avg 736.5775879999998 7442.630581964725\n",
      "  Std 9.810346154085845 24.494164854140664\n",
      "Best individual is 722.3609, 7475.882185964725\n"
     ]
    },
    {
     "name": "stderr",
     "output_type": "stream",
     "text": [
      "100%|██████████| 24/24 [18:08<00:00, 45.36s/it]\n"
     ]
    },
    {
     "name": "stdout",
     "output_type": "stream",
     "text": [
      "---- STATISTICS GENERATION 24 ----\n",
      "  Min 722.3609 7413.652685964725\n",
      "  Max 753.2647 7494.9893859647245\n",
      "  Avg 734.4711039999999 7442.560369964725\n",
      "  Std 9.65528820540003 25.898414418338255\n",
      "Best individual is 722.3609, 7475.882185964725\n"
     ]
    },
    {
     "name": "stderr",
     "output_type": "stream",
     "text": [
      "100%|██████████| 24/24 [19:30<00:00, 48.77s/it]\n"
     ]
    },
    {
     "name": "stdout",
     "output_type": "stream",
     "text": [
      "---- STATISTICS GENERATION 25 ----\n",
      "  Min 718.3611 7399.646985964725\n",
      "  Max 750.2942 7494.9893859647245\n",
      "  Avg 732.034676 7440.470597964725\n",
      "  Std 9.184199509906685 26.064583864023497\n",
      "Best individual is 718.3611, 7484.478685964726\n"
     ]
    },
    {
     "name": "stderr",
     "output_type": "stream",
     "text": [
      "100%|██████████| 24/24 [22:11<00:00, 55.47s/it]\n"
     ]
    },
    {
     "name": "stdout",
     "output_type": "stream",
     "text": [
      "---- STATISTICS GENERATION 26 ----\n",
      "  Min 718.3611 7397.997585964725\n",
      "  Max 750.2942 7484.478685964726\n",
      "  Avg 732.8805199999999 7429.186557964726\n",
      "  Std 9.941885220707972 22.563730960180365\n",
      "Best individual is 718.3611, 7484.478685964726\n"
     ]
    },
    {
     "name": "stderr",
     "output_type": "stream",
     "text": [
      "100%|██████████| 24/24 [21:00<00:00, 52.51s/it]\n"
     ]
    },
    {
     "name": "stdout",
     "output_type": "stream",
     "text": [
      "---- STATISTICS GENERATION 27 ----\n",
      "  Min 718.3611 7397.997585964725\n",
      "  Max 745.4571 7484.478685964726\n",
      "  Avg 729.148544 7429.423001964725\n",
      "  Std 8.849021508664437 27.39965143524775\n",
      "Best individual is 718.3611, 7484.478685964726\n"
     ]
    },
    {
     "name": "stderr",
     "output_type": "stream",
     "text": [
      "100%|██████████| 24/24 [22:51<00:00, 57.13s/it]\n"
     ]
    },
    {
     "name": "stdout",
     "output_type": "stream",
     "text": [
      "---- STATISTICS GENERATION 28 ----\n",
      "  Min 717.291 7397.855985964725\n",
      "  Max 745.4571 7484.478685964726\n",
      "  Avg 725.4574799999999 7433.156769964724\n",
      "  Std 7.9761680825341115 27.652053363604733\n",
      "Best individual is 717.291, 7468.6426859647245\n"
     ]
    },
    {
     "name": "stderr",
     "output_type": "stream",
     "text": [
      "100%|██████████| 24/24 [24:25<00:00, 61.07s/it]\n"
     ]
    },
    {
     "name": "stdout",
     "output_type": "stream",
     "text": [
      "---- STATISTICS GENERATION 29 ----\n",
      "  Min 715.0174 7382.662785964724\n",
      "  Max 745.4571 7484.478685964726\n",
      "  Avg 726.6959439999998 7423.155501964726\n",
      "  Std 9.316469597932233 27.119990416479784\n",
      "Best individual is 715.0174, 7451.498685964724\n"
     ]
    },
    {
     "name": "stderr",
     "output_type": "stream",
     "text": [
      "100%|██████████| 24/24 [24:39<00:00, 61.66s/it]\n"
     ]
    },
    {
     "name": "stdout",
     "output_type": "stream",
     "text": [
      "---- STATISTICS GENERATION 30 ----\n",
      "  Min 714.9602 7382.662785964724\n",
      "  Max 745.4571 7455.397585964725\n",
      "  Avg 723.9187440000001 7417.463549964726\n",
      "  Std 8.748782218475142 22.16290934866953\n",
      "Best individual is 714.9602, 7452.820085964725\n"
     ]
    },
    {
     "name": "stderr",
     "output_type": "stream",
     "text": [
      "100%|██████████| 24/24 [23:43<00:00, 59.30s/it]\n"
     ]
    },
    {
     "name": "stdout",
     "output_type": "stream",
     "text": [
      "---- STATISTICS GENERATION 31 ----\n",
      "  Min 713.5202999999999 7382.662785964724\n",
      "  Max 740.8910000000001 7454.039485964725\n",
      "  Avg 721.193016 7415.974949964724\n",
      "  Std 6.732748330880473 22.809581703346186\n",
      "Best individual is 713.5202999999999, 7448.479985964725\n"
     ]
    },
    {
     "name": "stderr",
     "output_type": "stream",
     "text": [
      "100%|██████████| 24/24 [21:11<00:00, 52.96s/it]\n"
     ]
    },
    {
     "name": "stdout",
     "output_type": "stream",
     "text": [
      "---- STATISTICS GENERATION 32 ----\n",
      "  Min 707.7861 7382.662785964724\n",
      "  Max 732.1767 7452.820085964725\n",
      "  Avg 719.5781079999999 7410.271449964724\n",
      "  Std 6.322434321815031 20.519103367656243\n",
      "Best individual is 707.7861, 7428.333885964725\n"
     ]
    },
    {
     "name": "stderr",
     "output_type": "stream",
     "text": [
      "100%|██████████| 24/24 [19:42<00:00, 49.28s/it]\n"
     ]
    },
    {
     "name": "stdout",
     "output_type": "stream",
     "text": [
      "---- STATISTICS GENERATION 33 ----\n",
      "  Min 705.9685999999999 7382.662785964724\n",
      "  Max 728.665 7450.182185964725\n",
      "  Avg 719.2128559999999 7405.391469964723\n",
      "  Std 6.789825205184838 18.94073912625183\n",
      "Best individual is 705.9685999999999, 7419.282785964725\n"
     ]
    },
    {
     "name": "stderr",
     "output_type": "stream",
     "text": [
      "100%|██████████| 24/24 [21:16<00:00, 53.20s/it]\n"
     ]
    },
    {
     "name": "stdout",
     "output_type": "stream",
     "text": [
      "---- STATISTICS GENERATION 34 ----\n",
      "  Min 704.4887 7382.295085964725\n",
      "  Max 728.9559 7428.333885964725\n",
      "  Avg 717.7850840000002 7402.108285964725\n",
      "  Std 6.757869726724095 14.016739610380089\n",
      "Best individual is 704.4887, 7416.897985964725\n"
     ]
    },
    {
     "name": "stderr",
     "output_type": "stream",
     "text": [
      "100%|██████████| 24/24 [17:19<00:00, 43.32s/it]\n"
     ]
    },
    {
     "name": "stdout",
     "output_type": "stream",
     "text": [
      "---- STATISTICS GENERATION 35 ----\n",
      "  Min 704.4887 7375.635585964726\n",
      "  Max 727.6519 7429.643885964725\n",
      "  Avg 714.3000200000002 7404.448969964725\n",
      "  Std 5.466449194528304 14.951681103745722\n",
      "Best individual is 704.4887, 7416.897985964725\n"
     ]
    },
    {
     "name": "stderr",
     "output_type": "stream",
     "text": [
      "100%|██████████| 24/24 [12:36<00:00, 31.52s/it]\n"
     ]
    },
    {
     "name": "stdout",
     "output_type": "stream",
     "text": [
      "---- STATISTICS GENERATION 36 ----\n",
      "  Min 704.4887 7375.635585964726\n",
      "  Max 725.1959 7420.107285964725\n",
      "  Avg 713.0129519999999 7400.183441964724\n",
      "  Std 5.2152596648832 12.992015307885922\n",
      "Best individual is 704.4887, 7416.897985964725\n"
     ]
    },
    {
     "name": "stderr",
     "output_type": "stream",
     "text": [
      "100%|██████████| 24/24 [11:50<00:00, 29.59s/it]\n"
     ]
    },
    {
     "name": "stdout",
     "output_type": "stream",
     "text": [
      "---- STATISTICS GENERATION 37 ----\n",
      "  Min 704.4887 7375.635585964726\n",
      "  Max 725.1959 7422.670285964726\n",
      "  Avg 712.2698519999999 7396.380301964726\n",
      "  Std 5.957484989308038 13.71952729206366\n",
      "Best individual is 704.4887, 7416.897985964725\n"
     ]
    },
    {
     "name": "stderr",
     "output_type": "stream",
     "text": [
      "100%|██████████| 24/24 [16:33<00:00, 41.42s/it]\n"
     ]
    },
    {
     "name": "stdout",
     "output_type": "stream",
     "text": [
      "---- STATISTICS GENERATION 38 ----\n",
      "  Min 701.4904000000001 7371.335985964725\n",
      "  Max 720.6496999999999 7423.158385964724\n",
      "  Avg 709.893476 7395.270721964725\n",
      "  Std 5.023078076347989 15.860879718871434\n",
      "Best individual is 701.4904000000001, 7423.158385964724\n"
     ]
    },
    {
     "name": "stderr",
     "output_type": "stream",
     "text": [
      "100%|██████████| 24/24 [18:00<00:00, 45.04s/it]\n"
     ]
    },
    {
     "name": "stdout",
     "output_type": "stream",
     "text": [
      "---- STATISTICS GENERATION 39 ----\n",
      "  Min 700.8546 7371.335985964725\n",
      "  Max 717.2211 7423.158385964724\n",
      "  Avg 708.057184 7393.914457964724\n",
      "  Std 4.586970891433224 15.265322182706205\n",
      "Best individual is 700.8546, 7394.984485964725\n"
     ]
    },
    {
     "name": "stderr",
     "output_type": "stream",
     "text": [
      "100%|██████████| 24/24 [20:30<00:00, 51.29s/it]\n"
     ]
    },
    {
     "name": "stdout",
     "output_type": "stream",
     "text": [
      "---- STATISTICS GENERATION 40 ----\n",
      "  Min 700.8546 7371.335985964725\n",
      "  Max 716.4373 7421.906985964725\n",
      "  Avg 706.5412280000002 7390.917573964725\n",
      "  Std 4.00096681977652 15.573375163111903\n",
      "Best individual is 700.8546, 7394.984485964725\n"
     ]
    },
    {
     "name": "stderr",
     "output_type": "stream",
     "text": [
      "100%|██████████| 24/24 [22:01<00:00, 55.05s/it]\n"
     ]
    },
    {
     "name": "stdout",
     "output_type": "stream",
     "text": [
      "---- STATISTICS GENERATION 41 ----\n",
      "  Min 698.5622999999999 7364.822185964725\n",
      "  Max 713.7428 7421.906985964725\n",
      "  Avg 704.3629000000001 7391.643945964726\n",
      "  Std 3.22936751923955 17.11406321285695\n",
      "Best individual is 698.5622999999999, 7399.735785964725\n"
     ]
    },
    {
     "name": "stderr",
     "output_type": "stream",
     "text": [
      "100%|██████████| 24/24 [19:03<00:00, 47.66s/it]\n"
     ]
    },
    {
     "name": "stdout",
     "output_type": "stream",
     "text": [
      "---- STATISTICS GENERATION 42 ----\n",
      "  Min 698.5622999999999 7362.888985964725\n",
      "  Max 713.7428 7417.691385964725\n",
      "  Avg 704.080888 7384.017837964726\n",
      "  Std 3.7075619709271685 15.687326386856956\n",
      "Best individual is 698.5622999999999, 7399.735785964725\n"
     ]
    },
    {
     "name": "stderr",
     "output_type": "stream",
     "text": [
      "100%|██████████| 24/24 [20:37<00:00, 51.56s/it]\n"
     ]
    },
    {
     "name": "stdout",
     "output_type": "stream",
     "text": [
      "---- STATISTICS GENERATION 43 ----\n",
      "  Min 697.9835 7362.136085964726\n",
      "  Max 712.4048 7417.691385964725\n",
      "  Avg 703.2432560000001 7378.933853964725\n",
      "  Std 3.7558284042771857 14.650616150393981\n",
      "Best individual is 697.9835, 7402.5774859647245\n"
     ]
    },
    {
     "name": "stderr",
     "output_type": "stream",
     "text": [
      "100%|██████████| 24/24 [23:36<00:00, 59.02s/it]\n"
     ]
    },
    {
     "name": "stdout",
     "output_type": "stream",
     "text": [
      "---- STATISTICS GENERATION 44 ----\n",
      "  Min 695.3589 7358.607085964725\n",
      "  Max 709.438 7402.5774859647245\n",
      "  Avg 702.4800999999998 7375.161549964727\n",
      "  Std 3.9361145874996297 12.009898648880066\n",
      "Best individual is 695.3589, 7393.615585964725\n"
     ]
    },
    {
     "name": "stderr",
     "output_type": "stream",
     "text": [
      "100%|██████████| 24/24 [26:07<00:00, 65.32s/it]\n"
     ]
    },
    {
     "name": "stdout",
     "output_type": "stream",
     "text": [
      "---- STATISTICS GENERATION 45 ----\n",
      "  Min 695.3589 7358.097085964725\n",
      "  Max 709.438 7393.615585964725\n",
      "  Avg 702.3126599999999 7370.901181964725\n",
      "  Std 4.8969766925389 9.996986939199122\n",
      "Best individual is 695.3589, 7393.615585964725\n"
     ]
    },
    {
     "name": "stderr",
     "output_type": "stream",
     "text": [
      "100%|██████████| 24/24 [23:50<00:00, 59.62s/it]\n"
     ]
    },
    {
     "name": "stdout",
     "output_type": "stream",
     "text": [
      "---- STATISTICS GENERATION 46 ----\n",
      "  Min 695.3589 7356.086485964725\n",
      "  Max 708.6922 7393.615585964725\n",
      "  Avg 700.397104 7369.913341964727\n",
      "  Std 3.870661810233829 9.73945113230892\n",
      "Best individual is 695.3589, 7393.615585964725\n"
     ]
    },
    {
     "name": "stderr",
     "output_type": "stream",
     "text": [
      "100%|██████████| 24/24 [23:43<00:00, 59.30s/it]\n"
     ]
    },
    {
     "name": "stdout",
     "output_type": "stream",
     "text": [
      "---- STATISTICS GENERATION 47 ----\n",
      "  Min 693.4199000000001 7349.065085964724\n",
      "  Max 707.4998 7393.615585964725\n",
      "  Avg 699.780548 7366.760761964725\n",
      "  Std 3.9094510003487235 10.570110009319851\n",
      "Best individual is 693.4199000000001, 7370.138485964725\n"
     ]
    },
    {
     "name": "stderr",
     "output_type": "stream",
     "text": [
      "100%|██████████| 24/24 [19:25<00:00, 48.56s/it]\n"
     ]
    },
    {
     "name": "stdout",
     "output_type": "stream",
     "text": [
      "---- STATISTICS GENERATION 48 ----\n",
      "  Min 692.2922000000001 7349.065085964724\n",
      "  Max 707.4998 7394.828085964725\n",
      "  Avg 699.4643960000001 7364.161281964724\n",
      "  Std 4.61812407979211 11.698695196877692\n",
      "Best individual is 692.2922000000001, 7360.540685964725\n"
     ]
    },
    {
     "name": "stderr",
     "output_type": "stream",
     "text": [
      "100%|██████████| 24/24 [15:21<00:00, 38.39s/it]\n"
     ]
    },
    {
     "name": "stdout",
     "output_type": "stream",
     "text": [
      "---- STATISTICS GENERATION 49 ----\n",
      "  Min 691.9399000000001 7349.065085964724\n",
      "  Max 707.4998 7392.663785964724\n",
      "  Avg 698.8137200000002 7361.833365964723\n",
      "  Std 4.877571810620405 10.777427865543881\n",
      "Best individual is 691.9399000000001, 7363.549685964725\n"
     ]
    },
    {
     "name": "stderr",
     "output_type": "stream",
     "text": [
      "100%|██████████| 24/24 [12:37<00:00, 31.57s/it]\n"
     ]
    },
    {
     "name": "stdout",
     "output_type": "stream",
     "text": [
      "---- STATISTICS GENERATION 50 ----\n",
      "  Min 691.9399000000001 7347.019585964725\n",
      "  Max 707.4998 7392.663785964724\n",
      "  Avg 697.5894239999999 7360.731017964723\n",
      "  Std 4.2715872235386625 10.187341716259295\n",
      "Best individual is 691.9399000000001, 7363.549685964725\n"
     ]
    },
    {
     "name": "stderr",
     "output_type": "stream",
     "text": [
      "100%|██████████| 24/24 [16:28<00:00, 41.20s/it]\n"
     ]
    },
    {
     "name": "stdout",
     "output_type": "stream",
     "text": [
      "---- STATISTICS GENERATION 51 ----\n",
      "  Min 691.7574 7344.174485964725\n",
      "  Max 707.4998 7392.663785964724\n",
      "  Avg 696.1238959999998 7360.029205964725\n",
      "  Std 4.117037827726136 11.265311515218858\n",
      "Best individual is 691.7574, 7374.187085964725\n"
     ]
    },
    {
     "name": "stderr",
     "output_type": "stream",
     "text": [
      "100%|██████████| 24/24 [20:14<00:00, 50.59s/it]\n"
     ]
    },
    {
     "name": "stdout",
     "output_type": "stream",
     "text": [
      "---- STATISTICS GENERATION 52 ----\n",
      "  Min 691.141 7343.938485964724\n",
      "  Max 702.7147 7374.187085964725\n",
      "  Avg 694.8248880000002 7356.872573964725\n",
      "  Std 3.4061921527567445 8.436840387010268\n",
      "Best individual is 691.141, 7361.672685964725\n"
     ]
    },
    {
     "name": "stderr",
     "output_type": "stream",
     "text": [
      "100%|██████████| 24/24 [23:01<00:00, 57.55s/it]\n"
     ]
    },
    {
     "name": "stdout",
     "output_type": "stream",
     "text": [
      "---- STATISTICS GENERATION 53 ----\n",
      "  Min 688.2273 7340.830785964725\n",
      "  Max 704.978 7376.736085964724\n",
      "  Avg 695.246992 7352.9362059647265\n",
      "  Std 4.314244680201401 8.15558882523608\n",
      "Best individual is 688.2273, 7360.795585964725\n"
     ]
    },
    {
     "name": "stderr",
     "output_type": "stream",
     "text": [
      "100%|██████████| 24/24 [20:31<00:00, 51.32s/it]\n"
     ]
    },
    {
     "name": "stdout",
     "output_type": "stream",
     "text": [
      "---- STATISTICS GENERATION 54 ----\n",
      "  Min 687.9357 7340.830785964725\n",
      "  Max 704.978 7364.403785964725\n",
      "  Avg 694.0537840000002 7351.815265964724\n",
      "  Std 4.629352131111655 7.572083110149593\n",
      "Best individual is 687.9357, 7357.194985964724\n"
     ]
    },
    {
     "name": "stderr",
     "output_type": "stream",
     "text": [
      "100%|██████████| 24/24 [21:23<00:00, 53.49s/it]\n"
     ]
    },
    {
     "name": "stdout",
     "output_type": "stream",
     "text": [
      "---- STATISTICS GENERATION 55 ----\n",
      "  Min 687.8162 7336.861985964725\n",
      "  Max 704.978 7360.795585964725\n",
      "  Avg 694.4781320000001 7347.974685964722\n",
      "  Std 5.048256499943629 6.320092048855554\n",
      "Best individual is 687.8162, 7348.476985964725\n"
     ]
    },
    {
     "name": "stderr",
     "output_type": "stream",
     "text": [
      "100%|██████████| 24/24 [22:09<00:00, 55.40s/it]\n"
     ]
    },
    {
     "name": "stdout",
     "output_type": "stream",
     "text": [
      "---- STATISTICS GENERATION 56 ----\n",
      "  Min 685.3375 7334.510585964726\n",
      "  Max 703.6966 7360.795585964725\n",
      "  Avg 693.975492 7346.626229964724\n",
      "  Std 5.222735402217436 6.963887970641539\n",
      "Best individual is 685.3375, 7352.740085964725\n"
     ]
    },
    {
     "name": "stderr",
     "output_type": "stream",
     "text": [
      "100%|██████████| 24/24 [24:32<00:00, 61.34s/it]\n"
     ]
    },
    {
     "name": "stdout",
     "output_type": "stream",
     "text": [
      "---- STATISTICS GENERATION 57 ----\n",
      "  Min 685.3375 7334.510585964726\n",
      "  Max 703.6966 7357.194985964724\n",
      "  Avg 693.488928 7344.483181964725\n",
      "  Std 5.516520910600756 6.609572540649857\n",
      "Best individual is 685.3375, 7352.740085964725\n"
     ]
    },
    {
     "name": "stderr",
     "output_type": "stream",
     "text": [
      "100%|██████████| 24/24 [25:38<00:00, 64.11s/it]\n"
     ]
    },
    {
     "name": "stdout",
     "output_type": "stream",
     "text": [
      "---- STATISTICS GENERATION 58 ----\n",
      "  Min 685.3375 7332.455485964724\n",
      "  Max 700.3723 7357.194985964724\n",
      "  Avg 690.7510719999998 7345.250601964725\n",
      "  Std 3.9137827873279143 7.040442895015738\n",
      "Best individual is 685.3375, 7352.740085964725\n"
     ]
    },
    {
     "name": "stderr",
     "output_type": "stream",
     "text": [
      "100%|██████████| 24/24 [26:07<00:00, 65.30s/it]\n"
     ]
    },
    {
     "name": "stdout",
     "output_type": "stream",
     "text": [
      "---- STATISTICS GENERATION 59 ----\n",
      "  Min 685.3375 7330.488785964724\n",
      "  Max 700.3723 7353.6939859647255\n",
      "  Avg 689.9696560000001 7343.1996059647245\n",
      "  Std 3.819803612737094 7.57937999833701\n",
      "Best individual is 685.3375, 7352.740085964725\n"
     ]
    },
    {
     "name": "stderr",
     "output_type": "stream",
     "text": [
      "100%|██████████| 24/24 [22:34<00:00, 56.45s/it]\n"
     ]
    },
    {
     "name": "stdout",
     "output_type": "stream",
     "text": [
      "---- STATISTICS GENERATION 60 ----\n",
      "  Min 684.7592 7330.488785964724\n",
      "  Max 700.3723 7353.860285964725\n",
      "  Avg 689.9740480000002 7341.539557964724\n",
      "  Std 4.044618053059862 7.738229124614808\n",
      "Best individual is 684.7592, 7353.860285964725\n"
     ]
    },
    {
     "name": "stderr",
     "output_type": "stream",
     "text": [
      "100%|██████████| 24/24 [20:48<00:00, 52.03s/it]\n"
     ]
    },
    {
     "name": "stdout",
     "output_type": "stream",
     "text": [
      "---- STATISTICS GENERATION 61 ----\n",
      "  Min 684.7592 7330.488785964724\n",
      "  Max 697.187 7353.860285964725\n",
      "  Avg 689.5277520000001 7339.869713964726\n",
      "  Std 3.5071823432420652 7.535820635075905\n",
      "Best individual is 684.7592, 7353.860285964725\n"
     ]
    },
    {
     "ename": "KeyboardInterrupt",
     "evalue": "",
     "output_type": "error",
     "traceback": [
      "\u001b[0;31m---------------------------------------------------------------------------\u001b[0m",
      "\u001b[0;31mKeyboardInterrupt\u001b[0m                         Traceback (most recent call last)",
      "\u001b[0;32m<ipython-input-14-782fd82648aa>\u001b[0m in \u001b[0;36m<module>\u001b[0;34m\u001b[0m\n\u001b[1;32m      1\u001b[0m \u001b[0mcurrent_generation\u001b[0m \u001b[0;34m=\u001b[0m \u001b[0;36m0\u001b[0m\u001b[0;34m\u001b[0m\u001b[0;34m\u001b[0m\u001b[0m\n\u001b[1;32m      2\u001b[0m \u001b[0;32mwhile\u001b[0m \u001b[0mcurrent_generation\u001b[0m \u001b[0;34m<\u001b[0m \u001b[0mnumber_generations\u001b[0m\u001b[0;34m:\u001b[0m\u001b[0;34m\u001b[0m\u001b[0;34m\u001b[0m\u001b[0m\n\u001b[0;32m----> 3\u001b[0;31m     \u001b[0moffspring\u001b[0m \u001b[0;34m=\u001b[0m \u001b[0mlist\u001b[0m\u001b[0;34m(\u001b[0m\u001b[0mmap\u001b[0m\u001b[0;34m(\u001b[0m\u001b[0mtoolbox\u001b[0m\u001b[0;34m.\u001b[0m\u001b[0mclone\u001b[0m\u001b[0;34m,\u001b[0m \u001b[0mpopulation\u001b[0m\u001b[0;34m)\u001b[0m\u001b[0;34m)\u001b[0m\u001b[0;34m\u001b[0m\u001b[0;34m\u001b[0m\u001b[0m\n\u001b[0m\u001b[1;32m      4\u001b[0m     \u001b[0mcrossed_offspring\u001b[0m \u001b[0;34m=\u001b[0m \u001b[0;34m[\u001b[0m\u001b[0;34m]\u001b[0m\u001b[0;34m\u001b[0m\u001b[0;34m\u001b[0m\u001b[0m\n\u001b[1;32m      5\u001b[0m \u001b[0;34m\u001b[0m\u001b[0m\n",
      "\u001b[0;32m/usr/local/anaconda3/lib/python3.7/copy.py\u001b[0m in \u001b[0;36mdeepcopy\u001b[0;34m(x, memo, _nil)\u001b[0m\n\u001b[1;32m    178\u001b[0m                     \u001b[0my\u001b[0m \u001b[0;34m=\u001b[0m \u001b[0mx\u001b[0m\u001b[0;34m\u001b[0m\u001b[0;34m\u001b[0m\u001b[0m\n\u001b[1;32m    179\u001b[0m                 \u001b[0;32melse\u001b[0m\u001b[0;34m:\u001b[0m\u001b[0;34m\u001b[0m\u001b[0;34m\u001b[0m\u001b[0m\n\u001b[0;32m--> 180\u001b[0;31m                     \u001b[0my\u001b[0m \u001b[0;34m=\u001b[0m \u001b[0m_reconstruct\u001b[0m\u001b[0;34m(\u001b[0m\u001b[0mx\u001b[0m\u001b[0;34m,\u001b[0m \u001b[0mmemo\u001b[0m\u001b[0;34m,\u001b[0m \u001b[0;34m*\u001b[0m\u001b[0mrv\u001b[0m\u001b[0;34m)\u001b[0m\u001b[0;34m\u001b[0m\u001b[0;34m\u001b[0m\u001b[0m\n\u001b[0m\u001b[1;32m    181\u001b[0m \u001b[0;34m\u001b[0m\u001b[0m\n\u001b[1;32m    182\u001b[0m     \u001b[0;31m# If is its own copy, don't memoize.\u001b[0m\u001b[0;34m\u001b[0m\u001b[0;34m\u001b[0m\u001b[0;34m\u001b[0m\u001b[0m\n",
      "\u001b[0;32m/usr/local/anaconda3/lib/python3.7/copy.py\u001b[0m in \u001b[0;36m_reconstruct\u001b[0;34m(x, memo, func, args, state, listiter, dictiter, deepcopy)\u001b[0m\n\u001b[1;32m    295\u001b[0m         \u001b[0;32mif\u001b[0m \u001b[0mdeep\u001b[0m\u001b[0;34m:\u001b[0m\u001b[0;34m\u001b[0m\u001b[0;34m\u001b[0m\u001b[0m\n\u001b[1;32m    296\u001b[0m             \u001b[0;32mfor\u001b[0m \u001b[0mitem\u001b[0m \u001b[0;32min\u001b[0m \u001b[0mlistiter\u001b[0m\u001b[0;34m:\u001b[0m\u001b[0;34m\u001b[0m\u001b[0;34m\u001b[0m\u001b[0m\n\u001b[0;32m--> 297\u001b[0;31m                 \u001b[0mitem\u001b[0m \u001b[0;34m=\u001b[0m \u001b[0mdeepcopy\u001b[0m\u001b[0;34m(\u001b[0m\u001b[0mitem\u001b[0m\u001b[0;34m,\u001b[0m \u001b[0mmemo\u001b[0m\u001b[0;34m)\u001b[0m\u001b[0;34m\u001b[0m\u001b[0;34m\u001b[0m\u001b[0m\n\u001b[0m\u001b[1;32m    298\u001b[0m                 \u001b[0my\u001b[0m\u001b[0;34m.\u001b[0m\u001b[0mappend\u001b[0m\u001b[0;34m(\u001b[0m\u001b[0mitem\u001b[0m\u001b[0;34m)\u001b[0m\u001b[0;34m\u001b[0m\u001b[0;34m\u001b[0m\u001b[0m\n\u001b[1;32m    299\u001b[0m         \u001b[0;32melse\u001b[0m\u001b[0;34m:\u001b[0m\u001b[0;34m\u001b[0m\u001b[0;34m\u001b[0m\u001b[0m\n",
      "\u001b[0;32m/usr/local/anaconda3/lib/python3.7/copy.py\u001b[0m in \u001b[0;36mdeepcopy\u001b[0;34m(x, memo, _nil)\u001b[0m\n\u001b[1;32m    159\u001b[0m             \u001b[0mcopier\u001b[0m \u001b[0;34m=\u001b[0m \u001b[0mgetattr\u001b[0m\u001b[0;34m(\u001b[0m\u001b[0mx\u001b[0m\u001b[0;34m,\u001b[0m \u001b[0;34m\"__deepcopy__\"\u001b[0m\u001b[0;34m,\u001b[0m \u001b[0;32mNone\u001b[0m\u001b[0;34m)\u001b[0m\u001b[0;34m\u001b[0m\u001b[0;34m\u001b[0m\u001b[0m\n\u001b[1;32m    160\u001b[0m             \u001b[0;32mif\u001b[0m \u001b[0mcopier\u001b[0m\u001b[0;34m:\u001b[0m\u001b[0;34m\u001b[0m\u001b[0;34m\u001b[0m\u001b[0m\n\u001b[0;32m--> 161\u001b[0;31m                 \u001b[0my\u001b[0m \u001b[0;34m=\u001b[0m \u001b[0mcopier\u001b[0m\u001b[0;34m(\u001b[0m\u001b[0mmemo\u001b[0m\u001b[0;34m)\u001b[0m\u001b[0;34m\u001b[0m\u001b[0;34m\u001b[0m\u001b[0m\n\u001b[0m\u001b[1;32m    162\u001b[0m             \u001b[0;32melse\u001b[0m\u001b[0;34m:\u001b[0m\u001b[0;34m\u001b[0m\u001b[0;34m\u001b[0m\u001b[0m\n\u001b[1;32m    163\u001b[0m                 \u001b[0mreductor\u001b[0m \u001b[0;34m=\u001b[0m \u001b[0mdispatch_table\u001b[0m\u001b[0;34m.\u001b[0m\u001b[0mget\u001b[0m\u001b[0;34m(\u001b[0m\u001b[0mcls\u001b[0m\u001b[0;34m)\u001b[0m\u001b[0;34m\u001b[0m\u001b[0;34m\u001b[0m\u001b[0m\n",
      "\u001b[0;31mKeyboardInterrupt\u001b[0m: "
     ]
    }
   ],
   "source": [
    "current_generation = 0\n",
    "while current_generation < number_generations:\n",
    "    offspring = list(map(toolbox.clone, population))\n",
    "    crossed_offspring = []\n",
    "\n",
    "    # Crossing\n",
    "    for child_1, child_2 in zip(offspring[::2], offspring[1::2]):\n",
    "        child_a, child_b = toolbox.crossover(child_1, child_2)\n",
    "        del child_a.fitness.values\n",
    "        del child_b.fitness.values\n",
    "        crossed_offspring.append(child_a)\n",
    "        crossed_offspring.append(child_b)\n",
    "\n",
    "    # Mutation\n",
    "    for mu in range(0,len(crossed_offspring)):\n",
    "        mutant = toolbox.mutate(crossed_offspring[mu])\n",
    "        del mutant.fitness.values\n",
    "        crossed_offspring[mu] = mutant\n",
    "\n",
    "    # Fitness\n",
    "    crossed_offspring_fitnesses = [toolbox.evaluate(individual) for individual in tqdm(crossed_offspring)]\n",
    "    for individual, fitness in zip(crossed_offspring, crossed_offspring_fitnesses):\n",
    "        individual.fitness.values = fitness\n",
    "\n",
    "    new_population = population+crossed_offspring\n",
    "\n",
    "    # Selection\n",
    "    selected = toolbox.select(new_population, population_size)\n",
    "    population_selected = list(map(toolbox.clone, selected))\n",
    "\n",
    "    population[:] = population_selected\n",
    "\n",
    "    print(\"---- STATISTICS GENERATION %s ----\" % (current_generation))\n",
    "\n",
    "    fits_client = [ind.fitness.values[0] for ind in population]\n",
    "    fits_operator = [ind.fitness.values[1] for ind in population]\n",
    "\n",
    "    length = len(population)\n",
    "    mean_client = sum(fits_client) / length\n",
    "    mean_operator= sum(fits_operator) / length\n",
    "    sum2_client = sum(x*x for x in fits_client)\n",
    "    sum2_operator = sum(x*x for x in fits_operator)\n",
    "    std_client = abs(sum2_client / length - mean_client**2)**0.5\n",
    "    std_operator = abs(sum2_operator / length - mean_operator**2)**0.5\n",
    "    \n",
    "    list_generations_mean_fitness.append((mean_client, mean_operator))\n",
    "    list_generations_std_fitness.append((std_client, std_operator))\n",
    "    list_generations_min_fitness.append((min(fits_client), min(fits_operator)))\n",
    "    list_generations_max_fitness.append((max(fits_client), max(fits_operator)))\n",
    "    \n",
    "    list_population_generations.append(population)\n",
    "    \n",
    "    print(\"  Min %s %s\" % (min(fits_client), min(fits_operator)))\n",
    "    print(\"  Max %s %s\" % (max(fits_client), max(fits_operator)))\n",
    "    print(\"  Avg %s %s\" % (mean_client, mean_operator))\n",
    "    print(\"  Std %s %s\" % (std_client, std_operator))\n",
    "    \n",
    "    current_generation+= 1\n",
    "    \n",
    "    best_ind = tools.selBest(population, 1)[0]\n",
    "    \n",
    "    list_best_individuo_generations.append(best_ind)\n",
    "    list_best_individuo_fitness_generations.append(tuple(best_ind.fitness.values))\n",
    "    \n",
    "    print(\"Best individual is %s, %s\" % (best_ind.fitness.values))\n",
    "    \n",
    "    data_ga = [list_generations_mean_fitness, list_generations_std_fitness,\n",
    "              list_generations_min_fitness, list_generations_max_fitness,\n",
    "              list_population_generations, list_best_individuo_generations,\n",
    "              list_best_individuo_fitness_generations]\n",
    "    \n",
    "    pickle.dump(data_ga, open(\"data_ga_evol_\"+str(idx_evol)+\".pkl\", \"wb\"))\n",
    "print(\"--- %s seconds ---\" % round(time.time() - start_time))"
   ]
  },
  {
   "cell_type": "code",
   "execution_count": null,
   "metadata": {},
   "outputs": [],
   "source": [
    "import pickle"
   ]
  },
  {
   "cell_type": "code",
   "execution_count": null,
   "metadata": {},
   "outputs": [],
   "source": [
    "best_ind = tools.selBest(population, 1)[0]"
   ]
  },
  {
   "cell_type": "code",
   "execution_count": null,
   "metadata": {},
   "outputs": [],
   "source": [
    "pickle.dump(np.array(best_ind), open(\"best_individual\"+str(idx_evol)+\".pkl\", \"wb\"))"
   ]
  }
 ],
 "metadata": {
  "kernelspec": {
   "display_name": "Python 3",
   "language": "python",
   "name": "python3"
  },
  "language_info": {
   "codemirror_mode": {
    "name": "ipython",
    "version": 3
   },
   "file_extension": ".py",
   "mimetype": "text/x-python",
   "name": "python",
   "nbconvert_exporter": "python",
   "pygments_lexer": "ipython3",
   "version": "3.7.4"
  }
 },
 "nbformat": 4,
 "nbformat_minor": 4
}
