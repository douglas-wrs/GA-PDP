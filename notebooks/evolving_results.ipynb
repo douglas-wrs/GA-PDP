{
 "cells": [
  {
   "cell_type": "code",
   "execution_count": 1,
   "metadata": {},
   "outputs": [],
   "source": [
    "import auxiliary_tools\n",
    "from tqdm import tqdm \n",
    "from geopy.distance import geodesic"
   ]
  },
  {
   "cell_type": "code",
   "execution_count": 2,
   "metadata": {},
   "outputs": [],
   "source": [
    "import array\n",
    "import random\n",
    "import numpy as np\n",
    "import json\n",
    "import pickle\n",
    "import numpy\n",
    "from math import sqrt\n",
    "from deap import algorithms\n",
    "from deap import base\n",
    "from deap import benchmarks\n",
    "from deap.benchmarks.tools import diversity, convergence, hypervolume\n",
    "from deap import creator\n",
    "from deap import tools"
   ]
  },
  {
   "cell_type": "code",
   "execution_count": 3,
   "metadata": {},
   "outputs": [],
   "source": [
    "def generate_individual(creator, route_requests, rand_dist_min, rand_dist_max):\n",
    "    individual = []\n",
    "    for request in route_requests:\n",
    "        \n",
    "        rand_distance = random.randint(rand_dist_min, rand_dist_max)/1000\n",
    "        rand_angle = random.randint(1, 360)\n",
    "        \n",
    "        gene = geodesic(kilometers=rand_distance).destination(request, rand_angle)[:2]\n",
    "        \n",
    "        individual.append(gene)\n",
    "    individual = np.array(individual)\n",
    "    return creator.individual(individual)"
   ]
  },
  {
   "cell_type": "code",
   "execution_count": 4,
   "metadata": {},
   "outputs": [],
   "source": [
    "def mutation(individual, mutation_probability, rand_dist_min, rand_dist_max):\n",
    "    mutated_individual = []\n",
    "    for gene in individual:\n",
    "        if random.random() < mutation_probability:\n",
    "            rand_distance = random.randint(rand_dist_min, rand_dist_max)/1000\n",
    "            rand_angle = random.randint(1, 360)\n",
    "            \n",
    "            mutated_gene = geodesic(kilometers=rand_distance).destination(gene, rand_angle)[:2]\n",
    "            mutated_individual.append( mutated_gene )\n",
    "        else:\n",
    "            mutated_individual.append( gene )\n",
    "    return  creator.individual(np.array(mutated_individual))"
   ]
  },
  {
   "cell_type": "code",
   "execution_count": 5,
   "metadata": {},
   "outputs": [],
   "source": [
    "def crossover(individual_a, individual_b, crossover_probability):\n",
    "    child_a = []\n",
    "    child_b = []\n",
    "\n",
    "    for i, (gene_a, gene_b) in enumerate(zip(individual_a, individual_b)):\n",
    "        if random.random() < crossover_probability:\n",
    "            child_a.append(gene_b)\n",
    "            child_b.append(gene_a)\n",
    "        else:\n",
    "            child_a.append(gene_a)\n",
    "            child_b.append(gene_b)\n",
    "\n",
    "    return (creator.individual(np.array(child_a)), creator.individual(np.array(child_b)))"
   ]
  },
  {
   "cell_type": "code",
   "execution_count": 6,
   "metadata": {},
   "outputs": [],
   "source": [
    "def client_fitness(route_requests, individual):\n",
    "    c_fitness = []\n",
    "    for i in range(len(route_requests)):\n",
    "        request_r = route_requests[i]\n",
    "        request_origin = [request_r[0], request_r[1]]\n",
    "        vs_individual = individual[i]\n",
    "        vs_destination = vs_individual\n",
    "        c_fitness.append(auxiliary_tools.getGeoDistanceETA_OSRM(request_origin, vs_destination, 5005, 'walking'))\n",
    "    fitness_value = np.sum([f[0] for f in c_fitness])\n",
    "    return fitness_value\n",
    "\n",
    "def operator_fitness(individual, penalty_const):\n",
    "    ori_dest = [(first, second) for first, second in zip(individual, individual[1:])]\n",
    "    penalty_sum = 0\n",
    "    for pair in ori_dest:\n",
    "        if max(pair[0] != pair[1]) == True:\n",
    "            penalty_sum+=penalty_const\n",
    "    o_fitness = []\n",
    "    for od_r in ori_dest:\n",
    "        o_fitness.append(auxiliary_tools.getGeoDistanceETA_OSRM(od_r[0], od_r[1], 5004, 'driving'))\n",
    "        \n",
    "    fitness_value = np.sum([f[0] for f in o_fitness]) + penalty_sum\n",
    "    return fitness_value\n",
    "\n",
    "def fitness(individual, route_requests, penalty_const):\n",
    "    import time\n",
    "#     start_time = time.time()\n",
    "    from pexecute.thread import ThreadLoom\n",
    "    loom = ThreadLoom(max_runner_cap=10)\n",
    "    \n",
    "    loom.add_function(client_fitness, [route_requests, individual], {})\n",
    "    loom.add_function(operator_fitness, [individual, penalty_const], {})\n",
    "\n",
    "    output = loom.execute()\n",
    "    client_f = output[0]['output']\n",
    "    operator_f = output[1]['output']\n",
    "#     print(\"--- %s seconds ---\" % round(time.time() - start_time))\n",
    "    return client_f, operator_f"
   ]
  },
  {
   "cell_type": "code",
   "execution_count": 7,
   "metadata": {},
   "outputs": [
    {
     "name": "stdout",
     "output_type": "stream",
     "text": [
      "# proposals:  123402\n",
      "# requests 121427\n",
      "# rides 46616\n"
     ]
    }
   ],
   "source": [
    "penalty_const = auxiliary_tools.getPenaltyConst(2)\n",
    "\n",
    "route_requests = auxiliary_tools.loadPrep(2, 1)\n",
    "\n",
    "crossover_probability = 0.4\n",
    "mutation_probability = 0.5\n",
    "\n",
    "rand_dist_min = 0\n",
    "rand_dist_max = 500\n",
    "\n",
    "population_size = 25\n",
    "number_generations = 100\n",
    "\n",
    "idx_evol = 5"
   ]
  },
  {
   "cell_type": "code",
   "execution_count": 8,
   "metadata": {},
   "outputs": [],
   "source": [
    "import time\n",
    "start_time = time.time()"
   ]
  },
  {
   "cell_type": "code",
   "execution_count": 9,
   "metadata": {},
   "outputs": [],
   "source": [
    "creator.create(\"min_fitness\", base.Fitness, weights=(-1.0, -1.0))\n",
    "creator.create(\"individual\", list, fitness=creator.min_fitness)\n",
    "\n",
    "toolbox = base.Toolbox()\n",
    "\n",
    "toolbox.register(\"create_individual\", generate_individual, creator, route_requests=route_requests,  rand_dist_min=rand_dist_min, rand_dist_max=rand_dist_max)\n",
    "toolbox.register(\"initialize_population\", tools.initRepeat, list, toolbox.create_individual)\n",
    "\n",
    "toolbox.register(\"evaluate\", fitness, route_requests=route_requests, penalty_const=penalty_const)\n",
    "toolbox.register(\"crossover\", crossover, crossover_probability=crossover_probability)\n",
    "toolbox.register(\"mutate\", mutation, mutation_probability=mutation_probability, rand_dist_min=rand_dist_min, rand_dist_max=rand_dist_min)\n",
    "\n",
    "toolbox.register(\"select\", tools.selNSGA2)"
   ]
  },
  {
   "cell_type": "code",
   "execution_count": null,
   "metadata": {},
   "outputs": [],
   "source": [
    "data_ga = pickle.load(open(\"../../data_ga_evol_1.pkl\", \"rb\"))"
   ]
  },
  {
   "cell_type": "code",
   "execution_count": null,
   "metadata": {},
   "outputs": [],
   "source": []
  }
 ],
 "metadata": {
  "kernelspec": {
   "display_name": "Python 3",
   "language": "python",
   "name": "python3"
  },
  "language_info": {
   "codemirror_mode": {
    "name": "ipython",
    "version": 3
   },
   "file_extension": ".py",
   "mimetype": "text/x-python",
   "name": "python",
   "nbconvert_exporter": "python",
   "pygments_lexer": "ipython3",
   "version": "3.7.4"
  }
 },
 "nbformat": 4,
 "nbformat_minor": 4
}
