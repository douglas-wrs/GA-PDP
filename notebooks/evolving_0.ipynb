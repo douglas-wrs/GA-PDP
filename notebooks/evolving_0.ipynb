{
 "cells": [
  {
   "cell_type": "code",
   "execution_count": 1,
   "metadata": {},
   "outputs": [],
   "source": [
    "import auxiliary_tools\n",
    "from tqdm import tqdm \n",
    "from geopy.distance import geodesic"
   ]
  },
  {
   "cell_type": "code",
   "execution_count": 2,
   "metadata": {},
   "outputs": [],
   "source": [
    "import array\n",
    "import random\n",
    "import numpy as np\n",
    "import json\n",
    "import pickle\n",
    "import numpy\n",
    "from math import sqrt\n",
    "from deap import algorithms\n",
    "from deap import base\n",
    "from deap import benchmarks\n",
    "from deap.benchmarks.tools import diversity, convergence, hypervolume\n",
    "from deap import creator\n",
    "from deap import tools"
   ]
  },
  {
   "cell_type": "code",
   "execution_count": 3,
   "metadata": {},
   "outputs": [],
   "source": [
    "def generate_individual(creator, route_requests, rand_dist_min, rand_dist_max):\n",
    "    individual = []\n",
    "    for request in route_requests:\n",
    "        \n",
    "        rand_distance = random.randint(rand_dist_min, rand_dist_max)/1000\n",
    "        rand_angle = random.randint(1, 360)\n",
    "        \n",
    "        gene = geodesic(kilometers=rand_distance).destination(request, rand_angle)[:2]\n",
    "        \n",
    "        individual.append(gene)\n",
    "    individual = np.array(individual)\n",
    "    return creator.individual(individual)"
   ]
  },
  {
   "cell_type": "code",
   "execution_count": 4,
   "metadata": {},
   "outputs": [],
   "source": [
    "def mutation(individual, mutation_probability, rand_dist_min, rand_dist_max):\n",
    "    mutated_individual = []\n",
    "    for gene in individual:\n",
    "        if random.random() < mutation_probability:\n",
    "            rand_distance = random.randint(rand_dist_min, rand_dist_max)/1000\n",
    "            rand_angle = random.randint(1, 360)\n",
    "            \n",
    "            mutated_gene = geodesic(kilometers=rand_distance).destination(gene, rand_angle)[:2]\n",
    "            mutated_individual.append( mutated_gene )\n",
    "        else:\n",
    "            mutated_individual.append( gene )\n",
    "    return  creator.individual(np.array(mutated_individual))"
   ]
  },
  {
   "cell_type": "code",
   "execution_count": 5,
   "metadata": {},
   "outputs": [],
   "source": [
    "def crossover(individual_a, individual_b, crossover_probability):\n",
    "    child_a = []\n",
    "    child_b = []\n",
    "\n",
    "    for i, (gene_a, gene_b) in enumerate(zip(individual_a, individual_b)):\n",
    "        if random.random() < crossover_probability:\n",
    "            child_a.append(gene_b)\n",
    "            child_b.append(gene_a)\n",
    "        else:\n",
    "            child_a.append(gene_a)\n",
    "            child_b.append(gene_b)\n",
    "\n",
    "    return (creator.individual(np.array(child_a)), creator.individual(np.array(child_b)))"
   ]
  },
  {
   "cell_type": "code",
   "execution_count": 6,
   "metadata": {},
   "outputs": [],
   "source": [
    "def client_fitness(route_requests, individual):\n",
    "    c_fitness = []\n",
    "    for i in range(len(route_requests)):\n",
    "        request_r = route_requests[i]\n",
    "        request_origin = [request_r[0], request_r[1]]\n",
    "        vs_individual = individual[i]\n",
    "        vs_destination = vs_individual\n",
    "        c_fitness.append(auxiliary_tools.getGeoDistanceETA_OSRM(request_origin, vs_destination, 5001, 'walking'))\n",
    "    fitness_value = np.sum([f[0] for f in c_fitness])\n",
    "    return fitness_value\n",
    "\n",
    "def operator_fitness(individual, penalty_const):\n",
    "    ori_dest = [(first, second) for first, second in zip(individual, individual[1:])]\n",
    "    penalty_sum = 0\n",
    "    for pair in ori_dest:\n",
    "        if max(pair[0] != pair[1]) == True:\n",
    "            penalty_sum+=penalty_const\n",
    "    o_fitness = []\n",
    "    for od_r in ori_dest:\n",
    "        o_fitness.append(auxiliary_tools.getGeoDistanceETA_OSRM(od_r[0], od_r[1], 5000, 'driving'))\n",
    "        \n",
    "    fitness_value = np.sum([f[0] for f in o_fitness]) + penalty_sum\n",
    "    return fitness_value\n",
    "\n",
    "def fitness(individual, route_requests, penalty_const):\n",
    "    import time\n",
    "#     start_time = time.time()\n",
    "    from pexecute.thread import ThreadLoom\n",
    "    loom = ThreadLoom(max_runner_cap=10)\n",
    "    \n",
    "    loom.add_function(client_fitness, [route_requests, individual], {})\n",
    "    loom.add_function(operator_fitness, [individual, penalty_const], {})\n",
    "\n",
    "    output = loom.execute()\n",
    "    client_f = output[0]['output']\n",
    "    operator_f = output[1]['output']\n",
    "#     print(\"--- %s seconds ---\" % round(time.time() - start_time))\n",
    "    return client_f, operator_f"
   ]
  },
  {
   "cell_type": "code",
   "execution_count": 7,
   "metadata": {},
   "outputs": [
    {
     "name": "stdout",
     "output_type": "stream",
     "text": [
      "# proposals:  123402\n",
      "# requests 121427\n",
      "# rides 46616\n"
     ]
    }
   ],
   "source": [
    "penalty_const = auxiliary_tools.getPenaltyConst(2)\n",
    "\n",
    "route_requests = auxiliary_tools.loadPrep(1, 0)\n",
    "\n",
    "crossover_probability = 0.2\n",
    "mutation_probability = 0.5\n",
    "\n",
    "rand_dist_min = 0\n",
    "rand_dist_max = 500\n",
    "\n",
    "population_size = 25\n",
    "number_generations = 100\n",
    "\n",
    "idx_evol = 4"
   ]
  },
  {
   "cell_type": "code",
   "execution_count": 8,
   "metadata": {},
   "outputs": [],
   "source": [
    "import time\n",
    "start_time = time.time()"
   ]
  },
  {
   "cell_type": "code",
   "execution_count": 9,
   "metadata": {},
   "outputs": [],
   "source": [
    "creator.create(\"min_fitness\", base.Fitness, weights=(-1.0, -1.0))\n",
    "creator.create(\"individual\", list, fitness=creator.min_fitness)\n",
    "\n",
    "toolbox = base.Toolbox()\n",
    "\n",
    "toolbox.register(\"create_individual\", generate_individual, creator, route_requests=route_requests,  rand_dist_min=rand_dist_min, rand_dist_max=rand_dist_max)\n",
    "toolbox.register(\"initialize_population\", tools.initRepeat, list, toolbox.create_individual)\n",
    "\n",
    "toolbox.register(\"evaluate\", fitness, route_requests=route_requests, penalty_const=penalty_const)\n",
    "toolbox.register(\"crossover\", crossover, crossover_probability=crossover_probability)\n",
    "toolbox.register(\"mutate\", mutation, mutation_probability=mutation_probability, rand_dist_min=rand_dist_min, rand_dist_max=rand_dist_min)\n",
    "\n",
    "toolbox.register(\"select\", tools.selNSGA2)"
   ]
  },
  {
   "cell_type": "code",
   "execution_count": 10,
   "metadata": {},
   "outputs": [],
   "source": [
    "population = toolbox.initialize_population(n=population_size)"
   ]
  },
  {
   "cell_type": "code",
   "execution_count": 11,
   "metadata": {},
   "outputs": [
    {
     "name": "stderr",
     "output_type": "stream",
     "text": [
      "100%|██████████| 25/25 [15:27<00:00, 37.11s/it]\n"
     ]
    }
   ],
   "source": [
    "population_fitnesses = [toolbox.evaluate(individual) for individual in tqdm(population)]"
   ]
  },
  {
   "cell_type": "code",
   "execution_count": 12,
   "metadata": {},
   "outputs": [],
   "source": [
    "for individual, fitness in zip(population, population_fitnesses):\n",
    "    individual.fitness.values = fitness"
   ]
  },
  {
   "cell_type": "code",
   "execution_count": 13,
   "metadata": {},
   "outputs": [],
   "source": [
    "list_generations_mean_fitness = []\n",
    "list_generations_std_fitness = []\n",
    "list_generations_min_fitness = []\n",
    "list_generations_max_fitness = []\n",
    "\n",
    "list_population_generations = []\n",
    "list_best_individuo_generations = []\n",
    "list_best_individuo_fitness_generations = []"
   ]
  },
  {
   "cell_type": "code",
   "execution_count": 14,
   "metadata": {},
   "outputs": [
    {
     "name": "stderr",
     "output_type": "stream",
     "text": [
      "100%|██████████| 24/24 [15:40<00:00, 39.20s/it]\n"
     ]
    },
    {
     "name": "stdout",
     "output_type": "stream",
     "text": [
      "---- STATISTICS GENERATION 0 ----\n",
      "  Min 776.6035999999999 7521.622985964726\n",
      "  Max 795.9948 7619.046285964725\n",
      "  Avg 787.317796 7573.880749964724\n",
      "  Std 5.774550207752122 24.631309650205417\n",
      "Best individual is 776.6035999999999, 7598.0945859647245\n"
     ]
    },
    {
     "name": "stderr",
     "output_type": "stream",
     "text": [
      "100%|██████████| 24/24 [15:40<00:00, 39.19s/it]\n"
     ]
    },
    {
     "name": "stdout",
     "output_type": "stream",
     "text": [
      "---- STATISTICS GENERATION 1 ----\n",
      "  Min 762.8771 7513.8175859647245\n",
      "  Max 802.0551 7598.0945859647245\n",
      "  Avg 783.3665120000001 7563.534993964724\n",
      "  Std 8.981034658133389 25.190770077462123\n",
      "Best individual is 762.8771, 7568.217485964725\n"
     ]
    },
    {
     "name": "stderr",
     "output_type": "stream",
     "text": [
      "100%|██████████| 24/24 [14:39<00:00, 36.63s/it]\n"
     ]
    },
    {
     "name": "stdout",
     "output_type": "stream",
     "text": [
      "---- STATISTICS GENERATION 2 ----\n",
      "  Min 761.0715 7509.484985964725\n",
      "  Max 801.8568 7595.5442859647255\n",
      "  Avg 781.265888 7550.978217964725\n",
      "  Std 10.422971511167553 24.245419169297826\n",
      "Best individual is 761.0715, 7567.1939859647255\n"
     ]
    },
    {
     "name": "stderr",
     "output_type": "stream",
     "text": [
      "100%|██████████| 24/24 [16:13<00:00, 40.55s/it]\n"
     ]
    },
    {
     "name": "stdout",
     "output_type": "stream",
     "text": [
      "---- STATISTICS GENERATION 3 ----\n",
      "  Min 760.0930999999999 7509.484985964725\n",
      "  Max 801.8568 7595.5442859647255\n",
      "  Avg 776.9619959999999 7547.014913964725\n",
      "  Std 11.538465604673062 26.459664950111755\n",
      "Best individual is 760.0930999999999, 7590.712185964724\n"
     ]
    },
    {
     "name": "stderr",
     "output_type": "stream",
     "text": [
      "100%|██████████| 24/24 [19:58<00:00, 49.93s/it]\n"
     ]
    },
    {
     "name": "stdout",
     "output_type": "stream",
     "text": [
      "---- STATISTICS GENERATION 4 ----\n",
      "  Min 754.6044999999999 7509.484985964725\n",
      "  Max 800.4531999999999 7590.712185964724\n",
      "  Avg 773.327916 7541.065897964724\n",
      "  Std 11.965094652250661 24.966011654832897\n",
      "Best individual is 754.6044999999999, 7581.562085964725\n"
     ]
    },
    {
     "name": "stderr",
     "output_type": "stream",
     "text": [
      "100%|██████████| 24/24 [18:36<00:00, 46.51s/it]\n"
     ]
    },
    {
     "name": "stdout",
     "output_type": "stream",
     "text": [
      "---- STATISTICS GENERATION 5 ----\n",
      "  Min 752.6523 7479.518385964725\n",
      "  Max 791.167 7603.050385964725\n",
      "  Avg 767.7013000000001 7539.132965964724\n",
      "  Std 10.787859703046687 30.750780281531494\n",
      "Best individual is 752.6523, 7552.338185964724\n"
     ]
    },
    {
     "name": "stderr",
     "output_type": "stream",
     "text": [
      "100%|██████████| 24/24 [17:46<00:00, 44.44s/it]\n"
     ]
    },
    {
     "name": "stdout",
     "output_type": "stream",
     "text": [
      "---- STATISTICS GENERATION 6 ----\n",
      "  Min 746.8780999999999 7479.518385964725\n",
      "  Max 788.8471999999999 7603.828185964724\n",
      "  Avg 764.800584 7527.248993964725\n",
      "  Std 10.912094889824164 28.30564414644355\n",
      "Best individual is 746.8780999999999, 7603.828185964724\n"
     ]
    },
    {
     "name": "stderr",
     "output_type": "stream",
     "text": [
      "100%|██████████| 24/24 [17:18<00:00, 43.29s/it]\n"
     ]
    },
    {
     "name": "stdout",
     "output_type": "stream",
     "text": [
      "---- STATISTICS GENERATION 7 ----\n",
      "  Min 737.0914 7479.518385964725\n",
      "  Max 789.0705 7603.828185964724\n",
      "  Avg 762.2638160000001 7518.423373964727\n",
      "  Std 12.664535633535246 26.63324461404842\n",
      "Best individual is 737.0914, 7521.106885964725\n"
     ]
    },
    {
     "name": "stderr",
     "output_type": "stream",
     "text": [
      "100%|██████████| 24/24 [15:10<00:00, 37.94s/it]\n"
     ]
    },
    {
     "name": "stdout",
     "output_type": "stream",
     "text": [
      "---- STATISTICS GENERATION 8 ----\n",
      "  Min 737.0914 7479.518385964725\n",
      "  Max 786.375 7603.828185964724\n",
      "  Avg 761.4118160000002 7509.667409964725\n",
      "  Std 12.797235923695405 25.57550262793242\n",
      "Best individual is 737.0914, 7521.106885964725\n"
     ]
    },
    {
     "name": "stderr",
     "output_type": "stream",
     "text": [
      "100%|██████████| 24/24 [15:27<00:00, 38.65s/it]\n"
     ]
    },
    {
     "name": "stdout",
     "output_type": "stream",
     "text": [
      "---- STATISTICS GENERATION 9 ----\n",
      "  Min 737.0914 7472.587485964725\n",
      "  Max 785.6623 7538.1498859647245\n",
      "  Avg 761.6021599999999 7499.835225964725\n",
      "  Std 14.262491565085346 17.251501311962503\n",
      "Best individual is 737.0914, 7521.106885964725\n"
     ]
    },
    {
     "name": "stderr",
     "output_type": "stream",
     "text": [
      "100%|██████████| 24/24 [18:52<00:00, 47.17s/it]\n"
     ]
    },
    {
     "name": "stdout",
     "output_type": "stream",
     "text": [
      "---- STATISTICS GENERATION 10 ----\n",
      "  Min 733.1723 7466.696985964725\n",
      "  Max 785.6623 7544.531385964725\n",
      "  Avg 759.057788 7496.015349964725\n",
      "  Std 15.810910998913787 18.803921274827957\n",
      "Best individual is 733.1723, 7508.745885964724\n"
     ]
    },
    {
     "name": "stderr",
     "output_type": "stream",
     "text": [
      "100%|██████████| 24/24 [19:51<00:00, 49.66s/it]\n"
     ]
    },
    {
     "name": "stdout",
     "output_type": "stream",
     "text": [
      "---- STATISTICS GENERATION 11 ----\n",
      "  Min 733.1723 7455.297585964725\n",
      "  Max 786.6727 7544.531385964725\n",
      "  Avg 757.899636 7488.653321964725\n",
      "  Std 17.038583698538584 22.338758425421762\n",
      "Best individual is 733.1723, 7508.745885964724\n"
     ]
    },
    {
     "name": "stderr",
     "output_type": "stream",
     "text": [
      "100%|██████████| 24/24 [22:39<00:00, 56.63s/it]\n"
     ]
    },
    {
     "name": "stdout",
     "output_type": "stream",
     "text": [
      "---- STATISTICS GENERATION 12 ----\n",
      "  Min 731.3283 7450.854185964725\n",
      "  Max 786.6727 7521.106885964725\n",
      "  Avg 754.66014 7479.500741964725\n",
      "  Std 16.02860126307308 18.583126964424654\n",
      "Best individual is 731.3283, 7467.492085964725\n"
     ]
    },
    {
     "name": "stderr",
     "output_type": "stream",
     "text": [
      "100%|██████████| 24/24 [22:29<00:00, 56.24s/it]\n"
     ]
    },
    {
     "name": "stdout",
     "output_type": "stream",
     "text": [
      "---- STATISTICS GENERATION 13 ----\n",
      "  Min 731.1811 7450.148985964725\n",
      "  Max 778.3205 7521.106885964725\n",
      "  Avg 749.3764160000002 7472.0488339647245\n",
      "  Std 13.745225566839883 17.026462424044453\n",
      "Best individual is 731.1811, 7457.299385964725\n"
     ]
    },
    {
     "name": "stderr",
     "output_type": "stream",
     "text": [
      "100%|██████████| 24/24 [21:10<00:00, 52.95s/it]\n"
     ]
    },
    {
     "name": "stdout",
     "output_type": "stream",
     "text": [
      "---- STATISTICS GENERATION 14 ----\n",
      "  Min 727.3018999999999 7440.0113859647245\n",
      "  Max 772.1019999999999 7508.745885964724\n",
      "  Avg 744.6338039999999 7466.270565964726\n",
      "  Std 12.941868367233448 15.988859533387764\n",
      "Best individual is 727.3018999999999, 7453.021585964725\n"
     ]
    },
    {
     "name": "stderr",
     "output_type": "stream",
     "text": [
      "100%|██████████| 24/24 [21:02<00:00, 52.62s/it]\n"
     ]
    },
    {
     "name": "stdout",
     "output_type": "stream",
     "text": [
      "---- STATISTICS GENERATION 15 ----\n",
      "  Min 727.3018999999999 7439.478785964725\n",
      "  Max 772.1019999999999 7479.401385964725\n",
      "  Avg 744.812836 7455.656057964728\n",
      "  Std 14.568044959243519 8.558557118555509\n",
      "Best individual is 727.3018999999999, 7453.021585964725\n"
     ]
    },
    {
     "name": "stderr",
     "output_type": "stream",
     "text": [
      "100%|██████████| 24/24 [23:21<00:00, 58.40s/it]\n"
     ]
    },
    {
     "name": "stdout",
     "output_type": "stream",
     "text": [
      "---- STATISTICS GENERATION 16 ----\n",
      "  Min 727.3018999999999 7437.187085964725\n",
      "  Max 774.2279 7475.0891859647245\n",
      "  Avg 741.4695839999999 7451.591613964725\n",
      "  Std 14.624114600177649 8.841221857891089\n",
      "Best individual is 727.3018999999999, 7453.021585964725\n"
     ]
    },
    {
     "name": "stderr",
     "output_type": "stream",
     "text": [
      "100%|██████████| 24/24 [21:16<00:00, 53.19s/it]\n"
     ]
    },
    {
     "name": "stdout",
     "output_type": "stream",
     "text": [
      "---- STATISTICS GENERATION 17 ----\n",
      "  Min 727.3018999999999 7429.879785964725\n",
      "  Max 762.0087 7475.0891859647245\n",
      "  Avg 735.8312199999996 7447.926173964724\n",
      "  Std 9.855681864020527 9.999766079208161\n",
      "Best individual is 727.3018999999999, 7453.021585964725\n"
     ]
    },
    {
     "name": "stderr",
     "output_type": "stream",
     "text": [
      "100%|██████████| 24/24 [22:00<00:00, 55.02s/it]\n"
     ]
    },
    {
     "name": "stdout",
     "output_type": "stream",
     "text": [
      "---- STATISTICS GENERATION 18 ----\n",
      "  Min 726.4524 7426.409185964724\n",
      "  Max 755.4935 7460.201985964725\n",
      "  Avg 733.683584 7443.616321964724\n",
      "  Std 8.079550550609868 8.873593560200153\n",
      "Best individual is 726.4524, 7443.239985964724\n"
     ]
    },
    {
     "name": "stderr",
     "output_type": "stream",
     "text": [
      "100%|██████████| 24/24 [22:35<00:00, 56.48s/it]\n"
     ]
    },
    {
     "name": "stdout",
     "output_type": "stream",
     "text": [
      "---- STATISTICS GENERATION 19 ----\n",
      "  Min 725.1441000000001 7426.409185964724\n",
      "  Max 755.4935 7460.201985964725\n",
      "  Avg 732.7682120000001 7440.653241964723\n",
      "  Std 8.410934204731433 8.454682805527622\n",
      "Best individual is 725.1441000000001, 7450.050685964724\n"
     ]
    },
    {
     "name": "stderr",
     "output_type": "stream",
     "text": [
      "100%|██████████| 24/24 [22:05<00:00, 55.25s/it]\n"
     ]
    },
    {
     "name": "stdout",
     "output_type": "stream",
     "text": [
      "---- STATISTICS GENERATION 20 ----\n",
      "  Min 724.6024 7420.186285964725\n",
      "  Max 753.0854999999999 7460.201985964725\n",
      "  Avg 730.2676679999997 7439.387897964725\n",
      "  Std 7.370667967084366 10.24901941234842\n",
      "Best individual is 724.6024, 7449.237185964725\n"
     ]
    },
    {
     "name": "stderr",
     "output_type": "stream",
     "text": [
      "100%|██████████| 24/24 [12:42<00:00, 31.79s/it]\n"
     ]
    },
    {
     "name": "stdout",
     "output_type": "stream",
     "text": [
      "---- STATISTICS GENERATION 21 ----\n",
      "  Min 721.6777 7404.512785964725\n",
      "  Max 753.0854999999999 7455.396885964725\n",
      "  Avg 729.3169319999998 7436.203365964724\n",
      "  Std 7.272808449832437 12.778136280674758\n",
      "Best individual is 721.6777, 7454.886185964725\n"
     ]
    },
    {
     "name": "stderr",
     "output_type": "stream",
     "text": [
      "100%|██████████| 24/24 [12:31<00:00, 31.33s/it]\n"
     ]
    },
    {
     "name": "stdout",
     "output_type": "stream",
     "text": [
      "---- STATISTICS GENERATION 22 ----\n",
      "  Min 720.9087999999999 7404.512785964725\n",
      "  Max 753.2524000000001 7454.886185964725\n",
      "  Avg 730.18678 7431.780953964726\n",
      "  Std 9.065788476816296 12.828299249111453\n",
      "Best individual is 720.9087999999999, 7441.010685964725\n"
     ]
    },
    {
     "name": "stderr",
     "output_type": "stream",
     "text": [
      "100%|██████████| 24/24 [18:26<00:00, 46.11s/it]\n"
     ]
    },
    {
     "name": "stdout",
     "output_type": "stream",
     "text": [
      "---- STATISTICS GENERATION 23 ----\n",
      "  Min 717.2873999999999 7404.512785964725\n",
      "  Max 753.2524000000001 7454.886185964725\n",
      "  Avg 730.8705600000001 7428.014241964723\n",
      "  Std 11.358206534699622 12.301203944871354\n",
      "Best individual is 717.2873999999999, 7437.5460859647255\n"
     ]
    },
    {
     "name": "stderr",
     "output_type": "stream",
     "text": [
      "100%|██████████| 24/24 [17:36<00:00, 44.00s/it]\n"
     ]
    },
    {
     "name": "stdout",
     "output_type": "stream",
     "text": [
      "---- STATISTICS GENERATION 24 ----\n",
      "  Min 717.2873999999999 7404.512785964725\n",
      "  Max 753.0854999999999 7447.561685964725\n",
      "  Avg 732.0011600000001 7422.103497964725\n",
      "  Std 12.190646895543189 10.671520852821422\n",
      "Best individual is 717.2873999999999, 7437.5460859647255\n"
     ]
    },
    {
     "name": "stderr",
     "output_type": "stream",
     "text": [
      "100%|██████████| 24/24 [21:08<00:00, 52.85s/it]\n"
     ]
    },
    {
     "name": "stdout",
     "output_type": "stream",
     "text": [
      "---- STATISTICS GENERATION 25 ----\n",
      "  Min 717.2873999999999 7404.512785964725\n",
      "  Max 752.6208999999999 7441.010685964725\n",
      "  Avg 731.2048119999996 7419.597537964724\n",
      "  Std 11.524481464392855 10.247128117742848\n",
      "Best individual is 717.2873999999999, 7437.5460859647255\n"
     ]
    },
    {
     "name": "stderr",
     "output_type": "stream",
     "text": [
      "100%|██████████| 24/24 [22:22<00:00, 55.95s/it]\n"
     ]
    },
    {
     "name": "stdout",
     "output_type": "stream",
     "text": [
      "---- STATISTICS GENERATION 26 ----\n",
      "  Min 716.6104 7404.512785964725\n",
      "  Max 752.6208999999999 7437.5460859647255\n",
      "  Avg 728.0631639999999 7419.003489964725\n",
      "  Std 10.66426122452625 9.156790696623002\n",
      "Best individual is 716.6104, 7427.402685964725\n"
     ]
    },
    {
     "name": "stderr",
     "output_type": "stream",
     "text": [
      "100%|██████████| 24/24 [20:36<00:00, 51.51s/it]\n"
     ]
    },
    {
     "name": "stdout",
     "output_type": "stream",
     "text": [
      "---- STATISTICS GENERATION 27 ----\n",
      "  Min 715.4471000000001 7401.914485964725\n",
      "  Max 750.398 7437.5460859647255\n",
      "  Avg 725.11798 7417.541421964724\n",
      "  Std 9.169488860435845 9.433650182867172\n",
      "Best individual is 715.4471000000001, 7421.4088859647245\n"
     ]
    },
    {
     "name": "stderr",
     "output_type": "stream",
     "text": [
      "100%|██████████| 24/24 [22:56<00:00, 57.34s/it]\n"
     ]
    },
    {
     "name": "stdout",
     "output_type": "stream",
     "text": [
      "---- STATISTICS GENERATION 28 ----\n",
      "  Min 713.8685 7401.914485964725\n",
      "  Max 750.398 7432.404385964725\n",
      "  Avg 726.117084 7414.386457964724\n",
      "  Std 10.806966482633653 9.199472690325077\n",
      "Best individual is 713.8685, 7431.093585964724\n"
     ]
    },
    {
     "name": "stderr",
     "output_type": "stream",
     "text": [
      "100%|██████████| 24/24 [20:01<00:00, 50.07s/it]\n"
     ]
    },
    {
     "name": "stdout",
     "output_type": "stream",
     "text": [
      "---- STATISTICS GENERATION 29 ----\n",
      "  Min 713.8685 7400.245185964725\n",
      "  Max 750.398 7432.404385964725\n",
      "  Avg 724.106028 7412.367997964725\n",
      "  Std 9.819574601882085 8.916188389001597\n",
      "Best individual is 713.8685, 7431.093585964724\n"
     ]
    },
    {
     "name": "stderr",
     "output_type": "stream",
     "text": [
      "100%|██████████| 24/24 [20:21<00:00, 50.91s/it]\n"
     ]
    },
    {
     "name": "stdout",
     "output_type": "stream",
     "text": [
      "---- STATISTICS GENERATION 30 ----\n",
      "  Min 713.8685 7395.529585964725\n",
      "  Max 736.3915999999999 7431.093585964724\n",
      "  Avg 722.3310120000001 7409.178713964726\n",
      "  Std 6.809051963023225 8.525435048847319\n",
      "Best individual is 713.8685, 7431.093585964724\n"
     ]
    },
    {
     "name": "stderr",
     "output_type": "stream",
     "text": [
      "100%|██████████| 24/24 [12:43<00:00, 31.80s/it]\n"
     ]
    },
    {
     "name": "stdout",
     "output_type": "stream",
     "text": [
      "---- STATISTICS GENERATION 31 ----\n",
      "  Min 712.745 7394.159885964725\n",
      "  Max 732.8348000000001 7432.048885964725\n",
      "  Avg 719.9095000000001 7408.5549619647245\n",
      "  Std 5.340992789568682 9.191964604286694\n",
      "Best individual is 712.745, 7432.048885964725\n"
     ]
    },
    {
     "name": "stderr",
     "output_type": "stream",
     "text": [
      "100%|██████████| 24/24 [12:37<00:00, 31.58s/it]\n"
     ]
    },
    {
     "name": "stdout",
     "output_type": "stream",
     "text": [
      "---- STATISTICS GENERATION 32 ----\n",
      "  Min 710.9105 7394.159885964725\n",
      "  Max 732.8348000000001 7432.048885964725\n",
      "  Avg 718.9953520000001 7406.8320859647265\n",
      "  Std 5.988108537476528 10.130982410925942\n",
      "Best individual is 710.9105, 7412.885585964725\n"
     ]
    },
    {
     "name": "stderr",
     "output_type": "stream",
     "text": [
      "100%|██████████| 24/24 [17:52<00:00, 44.70s/it]\n"
     ]
    },
    {
     "name": "stdout",
     "output_type": "stream",
     "text": [
      "---- STATISTICS GENERATION 33 ----\n",
      "  Min 710.9105 7393.931385964725\n",
      "  Max 732.8348000000001 7432.048885964725\n",
      "  Avg 717.4599519999999 7405.462201964726\n",
      "  Std 5.477070828417526 10.417933879861163\n",
      "Best individual is 710.9105, 7412.885585964725\n"
     ]
    },
    {
     "name": "stderr",
     "output_type": "stream",
     "text": [
      "100%|██████████| 24/24 [22:16<00:00, 55.69s/it]\n"
     ]
    },
    {
     "name": "stdout",
     "output_type": "stream",
     "text": [
      "---- STATISTICS GENERATION 34 ----\n",
      "  Min 709.1322 7389.779085964725\n",
      "  Max 730.0988 7420.1777859647245\n",
      "  Avg 716.980116 7401.337285964724\n",
      "  Std 5.308810016333476 7.617476230431045\n",
      "Best individual is 709.1322, 7411.775685964725\n"
     ]
    },
    {
     "name": "stderr",
     "output_type": "stream",
     "text": [
      "100%|██████████| 24/24 [21:54<00:00, 54.76s/it]\n"
     ]
    },
    {
     "name": "stdout",
     "output_type": "stream",
     "text": [
      "---- STATISTICS GENERATION 35 ----\n",
      "  Min 709.1322 7388.9425859647245\n",
      "  Max 726.0131 7420.1777859647245\n",
      "  Avg 717.0706279999999 7399.092861964725\n",
      "  Std 5.0794326854595475 8.311803705677853\n",
      "Best individual is 709.1322, 7411.775685964725\n"
     ]
    },
    {
     "name": "stderr",
     "output_type": "stream",
     "text": [
      "100%|██████████| 24/24 [22:02<00:00, 55.12s/it]\n"
     ]
    },
    {
     "name": "stdout",
     "output_type": "stream",
     "text": [
      "---- STATISTICS GENERATION 36 ----\n",
      "  Min 709.1322 7380.662685964725\n",
      "  Max 724.7492 7412.885585964725\n",
      "  Avg 715.8058639999998 7395.446681964723\n",
      "  Std 4.862361138223795 7.519380132469542\n",
      "Best individual is 709.1322, 7411.775685964725\n"
     ]
    },
    {
     "name": "stderr",
     "output_type": "stream",
     "text": [
      "100%|██████████| 24/24 [19:40<00:00, 49.21s/it]\n"
     ]
    },
    {
     "name": "stdout",
     "output_type": "stream",
     "text": [
      "---- STATISTICS GENERATION 37 ----\n",
      "  Min 708.8018000000001 7378.4322859647245\n",
      "  Max 724.8497 7411.775685964725\n",
      "  Avg 713.416176 7394.282925964723\n",
      "  Std 4.051644034844248 8.902477869745063\n",
      "Best individual is 708.8018000000001, 7407.091585964725\n"
     ]
    },
    {
     "name": "stderr",
     "output_type": "stream",
     "text": [
      "100%|██████████| 24/24 [22:39<00:00, 56.64s/it]\n"
     ]
    },
    {
     "name": "stdout",
     "output_type": "stream",
     "text": [
      "---- STATISTICS GENERATION 38 ----\n",
      "  Min 708.8018000000001 7378.4322859647245\n",
      "  Max 724.8497 7411.775685964725\n",
      "  Avg 713.596828 7392.0115259647255\n",
      "  Std 4.350448100726078 8.357452338587295\n",
      "Best individual is 708.8018000000001, 7407.091585964725\n"
     ]
    },
    {
     "name": "stderr",
     "output_type": "stream",
     "text": [
      "100%|██████████| 24/24 [23:41<00:00, 59.24s/it]\n"
     ]
    },
    {
     "name": "stdout",
     "output_type": "stream",
     "text": [
      "---- STATISTICS GENERATION 39 ----\n",
      "  Min 706.8115 7378.4322859647245\n",
      "  Max 724.8497 7398.880085964725\n",
      "  Avg 712.96526 7389.581521964724\n",
      "  Std 3.971836012758415 6.23043823653256\n",
      "Best individual is 706.8115, 7397.004585964724\n"
     ]
    },
    {
     "name": "stderr",
     "output_type": "stream",
     "text": [
      "100%|██████████| 24/24 [23:22<00:00, 58.44s/it]\n"
     ]
    },
    {
     "name": "stdout",
     "output_type": "stream",
     "text": [
      "---- STATISTICS GENERATION 40 ----\n",
      "  Min 706.8115 7378.4322859647245\n",
      "  Max 719.4005000000001 7400.240285964725\n",
      "  Avg 712.2528920000001 7388.813773964723\n",
      "  Std 3.627567854188766 6.206032206256765\n",
      "Best individual is 706.8115, 7397.004585964724\n"
     ]
    },
    {
     "name": "stderr",
     "output_type": "stream",
     "text": [
      "100%|██████████| 24/24 [20:27<00:00, 51.15s/it]\n"
     ]
    },
    {
     "name": "stdout",
     "output_type": "stream",
     "text": [
      "---- STATISTICS GENERATION 41 ----\n",
      "  Min 706.2562 7378.4322859647245\n",
      "  Max 719.4005000000001 7400.240285964725\n",
      "  Avg 710.958584 7389.1195139647225\n",
      "  Std 3.611601473225306 6.552949857508781\n",
      "Best individual is 706.2562, 7394.4079859647245\n"
     ]
    },
    {
     "name": "stderr",
     "output_type": "stream",
     "text": [
      "100%|██████████| 24/24 [21:46<00:00, 54.44s/it]\n"
     ]
    },
    {
     "name": "stdout",
     "output_type": "stream",
     "text": [
      "---- STATISTICS GENERATION 42 ----\n",
      "  Min 706.2194999999999 7378.352485964725\n",
      "  Max 717.6106 7400.015585964725\n",
      "  Avg 710.1924399999999 7387.763045964724\n",
      "  Std 3.8739736390693493 6.908560936386242\n",
      "Best individual is 706.2194999999999, 7396.541785964725\n"
     ]
    },
    {
     "name": "stderr",
     "output_type": "stream",
     "text": [
      "100%|██████████| 24/24 [22:20<00:00, 55.84s/it]\n"
     ]
    },
    {
     "name": "stdout",
     "output_type": "stream",
     "text": [
      "---- STATISTICS GENERATION 43 ----\n",
      "  Min 704.3742 7378.352485964725\n",
      "  Max 717.6075 7397.450185964725\n",
      "  Avg 709.606592 7387.089729964728\n",
      "  Std 3.8335710181516833 6.850491379665086\n",
      "Best individual is 704.3742, 7397.1260859647255\n"
     ]
    },
    {
     "name": "stderr",
     "output_type": "stream",
     "text": [
      "100%|██████████| 24/24 [18:15<00:00, 45.65s/it]\n"
     ]
    },
    {
     "name": "stdout",
     "output_type": "stream",
     "text": [
      "---- STATISTICS GENERATION 44 ----\n",
      "  Min 703.5367 7376.781985964724\n",
      "  Max 717.6075 7397.450185964725\n",
      "  Avg 709.818536 7384.795385964725\n",
      "  Std 4.129133477898398 6.832666584570528\n",
      "Best individual is 703.5367, 7395.022185964725\n"
     ]
    },
    {
     "name": "stderr",
     "output_type": "stream",
     "text": [
      "100%|██████████| 24/24 [17:15<00:00, 43.15s/it]\n"
     ]
    },
    {
     "name": "stdout",
     "output_type": "stream",
     "text": [
      "---- STATISTICS GENERATION 45 ----\n",
      "  Min 703.5367 7373.689785964724\n",
      "  Max 717.1082999999999 7399.1435859647245\n",
      "  Avg 707.855816 7386.023905964725\n",
      "  Std 3.668598502292538 8.562432831392872\n",
      "Best individual is 703.5367, 7395.022185964725\n"
     ]
    },
    {
     "name": "stderr",
     "output_type": "stream",
     "text": [
      "100%|██████████| 24/24 [12:30<00:00, 31.26s/it]\n"
     ]
    },
    {
     "name": "stdout",
     "output_type": "stream",
     "text": [
      "---- STATISTICS GENERATION 46 ----\n",
      "  Min 703.5367 7369.781785964725\n",
      "  Max 717.1082999999999 7401.826485964725\n",
      "  Avg 706.8567600000001 7385.148529964725\n",
      "  Std 3.6339574662114607 9.557212875216399\n",
      "Best individual is 703.5367, 7395.022185964725\n"
     ]
    },
    {
     "name": "stderr",
     "output_type": "stream",
     "text": [
      "100%|██████████| 24/24 [16:51<00:00, 42.15s/it]\n"
     ]
    },
    {
     "name": "stdout",
     "output_type": "stream",
     "text": [
      "---- STATISTICS GENERATION 47 ----\n",
      "  Min 702.2111 7367.090385964725\n",
      "  Max 714.7568 7400.385985964725\n",
      "  Avg 707.37262 7380.932013964724\n",
      "  Std 3.7321686196685353 8.889492368370535\n",
      "Best individual is 702.2111, 7377.643085964725\n"
     ]
    },
    {
     "name": "stderr",
     "output_type": "stream",
     "text": [
      "100%|██████████| 24/24 [19:49<00:00, 49.56s/it]\n"
     ]
    },
    {
     "name": "stdout",
     "output_type": "stream",
     "text": [
      "---- STATISTICS GENERATION 48 ----\n",
      "  Min 700.5515 7366.751785964725\n",
      "  Max 714.7568 7388.694185964725\n",
      "  Avg 707.802308 7376.100401964724\n",
      "  Std 4.030610219004692 5.001713092709354\n",
      "Best individual is 700.5515, 7374.039885964725\n"
     ]
    },
    {
     "name": "stderr",
     "output_type": "stream",
     "text": [
      "100%|██████████| 24/24 [24:22<00:00, 60.95s/it]\n"
     ]
    },
    {
     "name": "stdout",
     "output_type": "stream",
     "text": [
      "---- STATISTICS GENERATION 49 ----\n",
      "  Min 700.3883 7366.600385964724\n",
      "  Max 714.7568 7388.694185964725\n",
      "  Avg 706.956988 7374.388929964725\n",
      "  Std 3.917473408219461 5.249978410301775\n",
      "Best individual is 700.3883, 7377.919385964725\n"
     ]
    },
    {
     "name": "stderr",
     "output_type": "stream",
     "text": [
      "100%|██████████| 24/24 [26:56<00:00, 67.37s/it]\n"
     ]
    },
    {
     "name": "stdout",
     "output_type": "stream",
     "text": [
      "---- STATISTICS GENERATION 50 ----\n",
      "  Min 700.3883 7365.053485964725\n",
      "  Max 713.1159 7379.716785964725\n",
      "  Avg 705.9309399999999 7371.993037964725\n",
      "  Std 3.701450061062813 4.0407282891683565\n",
      "Best individual is 700.3883, 7377.919385964725\n"
     ]
    },
    {
     "name": "stderr",
     "output_type": "stream",
     "text": [
      "100%|██████████| 24/24 [27:02<00:00, 67.60s/it]\n"
     ]
    },
    {
     "name": "stdout",
     "output_type": "stream",
     "text": [
      "---- STATISTICS GENERATION 51 ----\n",
      "  Min 700.3883 7365.053485964725\n",
      "  Max 713.1159 7379.716785964725\n",
      "  Avg 705.740064 7370.275077964724\n",
      "  Std 4.294491439786761 4.28181364358761\n",
      "Best individual is 700.3883, 7377.919385964725\n"
     ]
    },
    {
     "name": "stderr",
     "output_type": "stream",
     "text": [
      "100%|██████████| 24/24 [27:05<00:00, 67.72s/it]\n"
     ]
    },
    {
     "name": "stdout",
     "output_type": "stream",
     "text": [
      "---- STATISTICS GENERATION 52 ----\n",
      "  Min 700.3883 7365.053485964725\n",
      "  Max 709.1766 7378.305285964724\n",
      "  Avg 704.5639040000001 7368.851709964725\n",
      "  Std 3.327620359259517 3.7299499230820103\n",
      "Best individual is 700.3883, 7377.919385964725\n"
     ]
    },
    {
     "name": "stderr",
     "output_type": "stream",
     "text": [
      "100%|██████████| 24/24 [23:20<00:00, 58.37s/it]\n"
     ]
    },
    {
     "name": "stdout",
     "output_type": "stream",
     "text": [
      "---- STATISTICS GENERATION 53 ----\n",
      "  Min 700.1474000000001 7364.3715859647245\n",
      "  Max 708.0218 7378.305285964724\n",
      "  Avg 703.3695919999998 7368.385457964725\n",
      "  Std 2.783127716406473 4.089532149867937\n",
      "Best individual is 700.1474000000001, 7372.977685964725\n"
     ]
    },
    {
     "name": "stderr",
     "output_type": "stream",
     "text": [
      "100%|██████████| 24/24 [22:31<00:00, 56.31s/it]\n"
     ]
    },
    {
     "name": "stdout",
     "output_type": "stream",
     "text": [
      "---- STATISTICS GENERATION 54 ----\n",
      "  Min 700.1474000000001 7360.789585964725\n",
      "  Max 707.7491 7377.919385964725\n",
      "  Avg 702.8115399999999 7367.221177964724\n",
      "  Std 2.4427059777400615 3.977564490611885\n",
      "Best individual is 700.1474000000001, 7372.977685964725\n"
     ]
    },
    {
     "name": "stderr",
     "output_type": "stream",
     "text": [
      "100%|██████████| 24/24 [23:34<00:00, 58.95s/it]\n"
     ]
    },
    {
     "name": "stdout",
     "output_type": "stream",
     "text": [
      "---- STATISTICS GENERATION 55 ----\n",
      "  Min 699.6209 7359.003685964725\n",
      "  Max 706.8122000000001 7377.919385964725\n",
      "  Avg 702.435932 7366.410493964725\n",
      "  Std 2.3436893363517615 4.2922030678110215\n",
      "Best individual is 699.6209, 7374.253685964725\n"
     ]
    },
    {
     "name": "stderr",
     "output_type": "stream",
     "text": [
      "100%|██████████| 24/24 [22:15<00:00, 55.63s/it]\n"
     ]
    },
    {
     "name": "stdout",
     "output_type": "stream",
     "text": [
      "---- STATISTICS GENERATION 56 ----\n",
      "  Min 698.8692000000001 7358.499085964725\n",
      "  Max 706.7871 7377.919385964725\n",
      "  Avg 701.903656 7366.046161964726\n",
      "  Std 2.2094029141188685 4.960291924861432\n",
      "Best individual is 698.8692000000001, 7373.896085964724\n"
     ]
    },
    {
     "name": "stderr",
     "output_type": "stream",
     "text": [
      "100%|██████████| 24/24 [16:46<00:00, 41.92s/it]\n"
     ]
    },
    {
     "name": "stdout",
     "output_type": "stream",
     "text": [
      "---- STATISTICS GENERATION 57 ----\n",
      "  Min 698.7544 7355.756385964725\n",
      "  Max 706.7871 7374.253685964725\n",
      "  Avg 701.3418719999999 7365.175397964724\n",
      "  Std 2.1343764610272653 4.998196521738393\n",
      "Best individual is 698.7544, 7368.101885964725\n"
     ]
    },
    {
     "name": "stderr",
     "output_type": "stream",
     "text": [
      "100%|██████████| 24/24 [13:04<00:00, 32.69s/it]\n"
     ]
    },
    {
     "name": "stdout",
     "output_type": "stream",
     "text": [
      "---- STATISTICS GENERATION 58 ----\n",
      "  Min 697.3721 7355.756385964725\n",
      "  Max 704.9829 7373.896085964724\n",
      "  Avg 700.824632 7363.9732339647235\n",
      "  Std 2.047493683630262 4.88097139972599\n",
      "Best individual is 697.3721, 7367.561985964726\n"
     ]
    },
    {
     "name": "stderr",
     "output_type": "stream",
     "text": [
      "100%|██████████| 24/24 [15:52<00:00, 39.68s/it]\n"
     ]
    },
    {
     "name": "stdout",
     "output_type": "stream",
     "text": [
      "---- STATISTICS GENERATION 59 ----\n",
      "  Min 697.2685 7355.756385964725\n",
      "  Max 704.9829 7373.805685964725\n",
      "  Avg 700.5806640000001 7362.781029964725\n",
      "  Std 2.3484614554356553 4.829912043213874\n",
      "Best individual is 697.2685, 7363.742785964725\n"
     ]
    },
    {
     "name": "stderr",
     "output_type": "stream",
     "text": [
      "100%|██████████| 24/24 [18:39<00:00, 46.64s/it]\n"
     ]
    },
    {
     "name": "stdout",
     "output_type": "stream",
     "text": [
      "---- STATISTICS GENERATION 60 ----\n",
      "  Min 696.5265999999999 7352.609185964725\n",
      "  Max 704.2484 7373.805685964725\n",
      "  Avg 700.082908 7361.768925964724\n",
      "  Std 2.355212186243994 5.203112839922285\n",
      "Best individual is 696.5265999999999, 7365.197085964725\n"
     ]
    },
    {
     "name": "stderr",
     "output_type": "stream",
     "text": [
      "100%|██████████| 24/24 [20:27<00:00, 51.17s/it]\n"
     ]
    },
    {
     "name": "stdout",
     "output_type": "stream",
     "text": [
      "---- STATISTICS GENERATION 61 ----\n",
      "  Min 696.1081999999999 7352.609185964725\n",
      "  Max 704.7046 7373.805685964725\n",
      "  Avg 700.288012 7360.596429964726\n",
      "  Std 2.882767983769849 5.667151854949624\n",
      "Best individual is 696.1081999999999, 7368.407685964726\n"
     ]
    },
    {
     "name": "stderr",
     "output_type": "stream",
     "text": [
      "100%|██████████| 24/24 [22:22<00:00, 55.92s/it]\n"
     ]
    },
    {
     "name": "stdout",
     "output_type": "stream",
     "text": [
      "---- STATISTICS GENERATION 62 ----\n",
      "  Min 696.1081999999999 7352.402885964725\n",
      "  Max 704.7046 7370.961785964725\n",
      "  Avg 700.0066959999999 7359.017393964725\n",
      "  Std 2.8491799522843984 4.921649543200304\n",
      "Best individual is 696.1081999999999, 7368.407685964726\n"
     ]
    },
    {
     "name": "stderr",
     "output_type": "stream",
     "text": [
      "100%|██████████| 24/24 [22:51<00:00, 57.16s/it]\n"
     ]
    },
    {
     "name": "stdout",
     "output_type": "stream",
     "text": [
      "---- STATISTICS GENERATION 63 ----\n",
      "  Min 694.7471 7346.948085964725\n",
      "  Max 705.2036 7368.407685964726\n",
      "  Avg 699.9419039999999 7357.248077964723\n",
      "  Std 3.0280482274565843 4.655497374929123\n",
      "Best individual is 694.7471, 7361.133785964726\n"
     ]
    },
    {
     "name": "stderr",
     "output_type": "stream",
     "text": [
      "100%|██████████| 24/24 [25:37<00:00, 64.06s/it]\n"
     ]
    },
    {
     "name": "stdout",
     "output_type": "stream",
     "text": [
      "---- STATISTICS GENERATION 64 ----\n",
      "  Min 694.7471 7346.948085964725\n",
      "  Max 705.2036 7368.407685964726\n",
      "  Avg 699.5841200000001 7356.312541964725\n",
      "  Std 3.0379402071529302 4.843735789462748\n",
      "Best individual is 694.7471, 7361.133785964726\n"
     ]
    },
    {
     "name": "stderr",
     "output_type": "stream",
     "text": [
      "100%|██████████| 24/24 [22:10<00:00, 55.43s/it]\n"
     ]
    },
    {
     "name": "stdout",
     "output_type": "stream",
     "text": [
      "---- STATISTICS GENERATION 65 ----\n",
      "  Min 694.6113 7346.948085964725\n",
      "  Max 705.2036 7368.407685964726\n",
      "  Avg 699.3037520000001 7355.738021964726\n",
      "  Std 3.2938495245434445 5.347434867584394\n",
      "Best individual is 694.6113, 7364.229885964724\n"
     ]
    },
    {
     "name": "stderr",
     "output_type": "stream",
     "text": [
      "100%|██████████| 24/24 [19:32<00:00, 48.84s/it]\n"
     ]
    },
    {
     "name": "stdout",
     "output_type": "stream",
     "text": [
      "---- STATISTICS GENERATION 66 ----\n",
      "  Min 694.6113 7346.948085964725\n",
      "  Max 705.2036 7368.407685964726\n",
      "  Avg 698.9515520000001 7355.455097964723\n",
      "  Std 3.411195517443347 5.980427427915291\n",
      "Best individual is 694.6113, 7364.229885964724\n"
     ]
    },
    {
     "ename": "KeyboardInterrupt",
     "evalue": "",
     "output_type": "error",
     "traceback": [
      "\u001b[0;31m---------------------------------------------------------------------------\u001b[0m",
      "\u001b[0;31mKeyboardInterrupt\u001b[0m                         Traceback (most recent call last)",
      "\u001b[0;32m<ipython-input-14-782fd82648aa>\u001b[0m in \u001b[0;36m<module>\u001b[0;34m\u001b[0m\n\u001b[1;32m      1\u001b[0m \u001b[0mcurrent_generation\u001b[0m \u001b[0;34m=\u001b[0m \u001b[0;36m0\u001b[0m\u001b[0;34m\u001b[0m\u001b[0;34m\u001b[0m\u001b[0m\n\u001b[1;32m      2\u001b[0m \u001b[0;32mwhile\u001b[0m \u001b[0mcurrent_generation\u001b[0m \u001b[0;34m<\u001b[0m \u001b[0mnumber_generations\u001b[0m\u001b[0;34m:\u001b[0m\u001b[0;34m\u001b[0m\u001b[0;34m\u001b[0m\u001b[0m\n\u001b[0;32m----> 3\u001b[0;31m     \u001b[0moffspring\u001b[0m \u001b[0;34m=\u001b[0m \u001b[0mlist\u001b[0m\u001b[0;34m(\u001b[0m\u001b[0mmap\u001b[0m\u001b[0;34m(\u001b[0m\u001b[0mtoolbox\u001b[0m\u001b[0;34m.\u001b[0m\u001b[0mclone\u001b[0m\u001b[0;34m,\u001b[0m \u001b[0mpopulation\u001b[0m\u001b[0;34m)\u001b[0m\u001b[0;34m)\u001b[0m\u001b[0;34m\u001b[0m\u001b[0;34m\u001b[0m\u001b[0m\n\u001b[0m\u001b[1;32m      4\u001b[0m     \u001b[0mcrossed_offspring\u001b[0m \u001b[0;34m=\u001b[0m \u001b[0;34m[\u001b[0m\u001b[0;34m]\u001b[0m\u001b[0;34m\u001b[0m\u001b[0;34m\u001b[0m\u001b[0m\n\u001b[1;32m      5\u001b[0m \u001b[0;34m\u001b[0m\u001b[0m\n",
      "\u001b[0;32m/usr/local/anaconda3/lib/python3.7/copy.py\u001b[0m in \u001b[0;36mdeepcopy\u001b[0;34m(x, memo, _nil)\u001b[0m\n\u001b[1;32m    178\u001b[0m                     \u001b[0my\u001b[0m \u001b[0;34m=\u001b[0m \u001b[0mx\u001b[0m\u001b[0;34m\u001b[0m\u001b[0;34m\u001b[0m\u001b[0m\n\u001b[1;32m    179\u001b[0m                 \u001b[0;32melse\u001b[0m\u001b[0;34m:\u001b[0m\u001b[0;34m\u001b[0m\u001b[0;34m\u001b[0m\u001b[0m\n\u001b[0;32m--> 180\u001b[0;31m                     \u001b[0my\u001b[0m \u001b[0;34m=\u001b[0m \u001b[0m_reconstruct\u001b[0m\u001b[0;34m(\u001b[0m\u001b[0mx\u001b[0m\u001b[0;34m,\u001b[0m \u001b[0mmemo\u001b[0m\u001b[0;34m,\u001b[0m \u001b[0;34m*\u001b[0m\u001b[0mrv\u001b[0m\u001b[0;34m)\u001b[0m\u001b[0;34m\u001b[0m\u001b[0;34m\u001b[0m\u001b[0m\n\u001b[0m\u001b[1;32m    181\u001b[0m \u001b[0;34m\u001b[0m\u001b[0m\n\u001b[1;32m    182\u001b[0m     \u001b[0;31m# If is its own copy, don't memoize.\u001b[0m\u001b[0;34m\u001b[0m\u001b[0;34m\u001b[0m\u001b[0;34m\u001b[0m\u001b[0m\n",
      "\u001b[0;32m/usr/local/anaconda3/lib/python3.7/copy.py\u001b[0m in \u001b[0;36m_reconstruct\u001b[0;34m(x, memo, func, args, state, listiter, dictiter, deepcopy)\u001b[0m\n\u001b[1;32m    295\u001b[0m         \u001b[0;32mif\u001b[0m \u001b[0mdeep\u001b[0m\u001b[0;34m:\u001b[0m\u001b[0;34m\u001b[0m\u001b[0;34m\u001b[0m\u001b[0m\n\u001b[1;32m    296\u001b[0m             \u001b[0;32mfor\u001b[0m \u001b[0mitem\u001b[0m \u001b[0;32min\u001b[0m \u001b[0mlistiter\u001b[0m\u001b[0;34m:\u001b[0m\u001b[0;34m\u001b[0m\u001b[0;34m\u001b[0m\u001b[0m\n\u001b[0;32m--> 297\u001b[0;31m                 \u001b[0mitem\u001b[0m \u001b[0;34m=\u001b[0m \u001b[0mdeepcopy\u001b[0m\u001b[0;34m(\u001b[0m\u001b[0mitem\u001b[0m\u001b[0;34m,\u001b[0m \u001b[0mmemo\u001b[0m\u001b[0;34m)\u001b[0m\u001b[0;34m\u001b[0m\u001b[0;34m\u001b[0m\u001b[0m\n\u001b[0m\u001b[1;32m    298\u001b[0m                 \u001b[0my\u001b[0m\u001b[0;34m.\u001b[0m\u001b[0mappend\u001b[0m\u001b[0;34m(\u001b[0m\u001b[0mitem\u001b[0m\u001b[0;34m)\u001b[0m\u001b[0;34m\u001b[0m\u001b[0;34m\u001b[0m\u001b[0m\n\u001b[1;32m    299\u001b[0m         \u001b[0;32melse\u001b[0m\u001b[0;34m:\u001b[0m\u001b[0;34m\u001b[0m\u001b[0;34m\u001b[0m\u001b[0m\n",
      "\u001b[0;32m/usr/local/anaconda3/lib/python3.7/copy.py\u001b[0m in \u001b[0;36mdeepcopy\u001b[0;34m(x, memo, _nil)\u001b[0m\n\u001b[1;32m    159\u001b[0m             \u001b[0mcopier\u001b[0m \u001b[0;34m=\u001b[0m \u001b[0mgetattr\u001b[0m\u001b[0;34m(\u001b[0m\u001b[0mx\u001b[0m\u001b[0;34m,\u001b[0m \u001b[0;34m\"__deepcopy__\"\u001b[0m\u001b[0;34m,\u001b[0m \u001b[0;32mNone\u001b[0m\u001b[0;34m)\u001b[0m\u001b[0;34m\u001b[0m\u001b[0;34m\u001b[0m\u001b[0m\n\u001b[1;32m    160\u001b[0m             \u001b[0;32mif\u001b[0m \u001b[0mcopier\u001b[0m\u001b[0;34m:\u001b[0m\u001b[0;34m\u001b[0m\u001b[0;34m\u001b[0m\u001b[0m\n\u001b[0;32m--> 161\u001b[0;31m                 \u001b[0my\u001b[0m \u001b[0;34m=\u001b[0m \u001b[0mcopier\u001b[0m\u001b[0;34m(\u001b[0m\u001b[0mmemo\u001b[0m\u001b[0;34m)\u001b[0m\u001b[0;34m\u001b[0m\u001b[0;34m\u001b[0m\u001b[0m\n\u001b[0m\u001b[1;32m    162\u001b[0m             \u001b[0;32melse\u001b[0m\u001b[0;34m:\u001b[0m\u001b[0;34m\u001b[0m\u001b[0;34m\u001b[0m\u001b[0m\n\u001b[1;32m    163\u001b[0m                 \u001b[0mreductor\u001b[0m \u001b[0;34m=\u001b[0m \u001b[0mdispatch_table\u001b[0m\u001b[0;34m.\u001b[0m\u001b[0mget\u001b[0m\u001b[0;34m(\u001b[0m\u001b[0mcls\u001b[0m\u001b[0;34m)\u001b[0m\u001b[0;34m\u001b[0m\u001b[0;34m\u001b[0m\u001b[0m\n",
      "\u001b[0;31mKeyboardInterrupt\u001b[0m: "
     ]
    }
   ],
   "source": [
    "current_generation = 0\n",
    "while current_generation < number_generations:\n",
    "    offspring = list(map(toolbox.clone, population))\n",
    "    crossed_offspring = []\n",
    "\n",
    "    # Crossing\n",
    "    for child_1, child_2 in zip(offspring[::2], offspring[1::2]):\n",
    "        child_a, child_b = toolbox.crossover(child_1, child_2)\n",
    "        del child_a.fitness.values\n",
    "        del child_b.fitness.values\n",
    "        crossed_offspring.append(child_a)\n",
    "        crossed_offspring.append(child_b)\n",
    "\n",
    "    # Mutation\n",
    "    for mu in range(0,len(crossed_offspring)):\n",
    "        mutant = toolbox.mutate(crossed_offspring[mu])\n",
    "        del mutant.fitness.values\n",
    "        crossed_offspring[mu] = mutant\n",
    "\n",
    "    # Fitness\n",
    "    crossed_offspring_fitnesses = [toolbox.evaluate(individual) for individual in tqdm(crossed_offspring)]\n",
    "    for individual, fitness in zip(crossed_offspring, crossed_offspring_fitnesses):\n",
    "        individual.fitness.values = fitness\n",
    "\n",
    "    new_population = population+crossed_offspring\n",
    "\n",
    "    # Selection\n",
    "    selected = toolbox.select(new_population, population_size)\n",
    "    population_selected = list(map(toolbox.clone, selected))\n",
    "\n",
    "    population[:] = population_selected\n",
    "\n",
    "    print(\"---- STATISTICS GENERATION %s ----\" % (current_generation))\n",
    "\n",
    "    fits_client = [ind.fitness.values[0] for ind in population]\n",
    "    fits_operator = [ind.fitness.values[1] for ind in population]\n",
    "\n",
    "    length = len(population)\n",
    "    mean_client = sum(fits_client) / length\n",
    "    mean_operator= sum(fits_operator) / length\n",
    "    sum2_client = sum(x*x for x in fits_client)\n",
    "    sum2_operator = sum(x*x for x in fits_operator)\n",
    "    std_client = abs(sum2_client / length - mean_client**2)**0.5\n",
    "    std_operator = abs(sum2_operator / length - mean_operator**2)**0.5\n",
    "    \n",
    "    list_generations_mean_fitness.append((mean_client, mean_operator))\n",
    "    list_generations_std_fitness.append((std_client, std_operator))\n",
    "    list_generations_min_fitness.append((min(fits_client), min(fits_operator)))\n",
    "    list_generations_max_fitness.append((max(fits_client), max(fits_operator)))\n",
    "    \n",
    "    list_population_generations.append(population)\n",
    "    \n",
    "    print(\"  Min %s %s\" % (min(fits_client), min(fits_operator)))\n",
    "    print(\"  Max %s %s\" % (max(fits_client), max(fits_operator)))\n",
    "    print(\"  Avg %s %s\" % (mean_client, mean_operator))\n",
    "    print(\"  Std %s %s\" % (std_client, std_operator))\n",
    "    \n",
    "    current_generation+= 1\n",
    "    \n",
    "    best_ind = tools.selBest(population, 1)[0]\n",
    "    \n",
    "    list_best_individuo_generations.append(best_ind)\n",
    "    list_best_individuo_fitness_generations.append(tuple(best_ind.fitness.values))\n",
    "    \n",
    "    print(\"Best individual is %s, %s\" % (best_ind.fitness.values))\n",
    "    \n",
    "    data_ga = [list_generations_mean_fitness, list_generations_std_fitness,\n",
    "              list_generations_min_fitness, list_generations_max_fitness,\n",
    "              list_population_generations, list_best_individuo_generations,\n",
    "              list_best_individuo_fitness_generations]\n",
    "    \n",
    "    pickle.dump(data_ga, open(\"data_ga_evol_\"+str(idx_evol)+\".pkl\", \"wb\"))\n",
    "print(\"--- %s seconds ---\" % round(time.time() - start_time))"
   ]
  },
  {
   "cell_type": "code",
   "execution_count": null,
   "metadata": {},
   "outputs": [],
   "source": [
    "import pickle"
   ]
  },
  {
   "cell_type": "code",
   "execution_count": null,
   "metadata": {},
   "outputs": [],
   "source": [
    "best_ind = tools.selBest(population, 1)[0]"
   ]
  },
  {
   "cell_type": "code",
   "execution_count": null,
   "metadata": {},
   "outputs": [],
   "source": [
    "pickle.dump(np.array(best_ind), open(\"best_individual\"+str(idx_evol)+\".pkl\", \"wb\"))"
   ]
  }
 ],
 "metadata": {
  "kernelspec": {
   "display_name": "Python 3",
   "language": "python",
   "name": "python3"
  },
  "language_info": {
   "codemirror_mode": {
    "name": "ipython",
    "version": 3
   },
   "file_extension": ".py",
   "mimetype": "text/x-python",
   "name": "python",
   "nbconvert_exporter": "python",
   "pygments_lexer": "ipython3",
   "version": "3.7.4"
  }
 },
 "nbformat": 4,
 "nbformat_minor": 4
}
