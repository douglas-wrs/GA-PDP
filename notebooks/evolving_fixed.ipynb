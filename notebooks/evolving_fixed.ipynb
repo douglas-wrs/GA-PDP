{
 "cells": [
  {
   "cell_type": "code",
   "execution_count": 1,
   "metadata": {},
   "outputs": [],
   "source": [
    "import auxiliary_tools\n",
    "from tqdm import tqdm \n",
    "from geopy.distance import geodesic"
   ]
  },
  {
   "cell_type": "code",
   "execution_count": 2,
   "metadata": {},
   "outputs": [],
   "source": [
    "import array\n",
    "import copy\n",
    "import random\n",
    "import numpy as np\n",
    "import json\n",
    "import pickle\n",
    "import numpy\n",
    "from math import sqrt\n",
    "from deap import algorithms\n",
    "from deap import base\n",
    "from deap import benchmarks\n",
    "from deap.benchmarks.tools import diversity, convergence, hypervolume\n",
    "from deap import creator\n",
    "from deap import tools"
   ]
  },
  {
   "cell_type": "code",
   "execution_count": 3,
   "metadata": {},
   "outputs": [],
   "source": [
    "def generate_individual(creator, route_requests, rand_dist_min, rand_dist_max):\n",
    "    individual = []\n",
    "    for request in route_requests:\n",
    "        \n",
    "        rand_distance = random.randint(rand_dist_min, rand_dist_max)/1000\n",
    "        rand_angle = random.randint(1, 360)\n",
    "        \n",
    "        gene = geodesic(kilometers=rand_distance).destination(request, rand_angle)[:2]\n",
    "        \n",
    "        individual.append(gene)\n",
    "    individual = np.array(individual)\n",
    "    return creator.individual(individual)"
   ]
  },
  {
   "cell_type": "code",
   "execution_count": 4,
   "metadata": {},
   "outputs": [],
   "source": [
    "def mutation(individual, mutation_probability, rand_dist_min, rand_dist_max):\n",
    "    mutated_individual = []\n",
    "    for gene in individual:\n",
    "        if random.random() < mutation_probability:\n",
    "            rand_distance = random.randint(rand_dist_min, rand_dist_max)/1000\n",
    "            rand_angle = random.randint(1, 360)\n",
    "            \n",
    "            mutated_gene = geodesic(kilometers=rand_distance).destination(gene, rand_angle)[:2]\n",
    "            mutated_individual.append( mutated_gene )\n",
    "        else:\n",
    "            mutated_individual.append( gene )\n",
    "    return  creator.individual(np.array(mutated_individual))"
   ]
  },
  {
   "cell_type": "code",
   "execution_count": 5,
   "metadata": {},
   "outputs": [],
   "source": [
    "def crossover(individual_a, individual_b, crossover_probability):\n",
    "    child_a = []\n",
    "    child_b = []\n",
    "\n",
    "    for i, (gene_a, gene_b) in enumerate(zip(individual_a, individual_b)):\n",
    "        if random.random() < crossover_probability:\n",
    "            child_a.append(gene_b)\n",
    "            child_b.append(gene_a)\n",
    "        else:\n",
    "            child_a.append(gene_a)\n",
    "            child_b.append(gene_b)\n",
    "\n",
    "    return (creator.individual(np.array(child_a)), creator.individual(np.array(child_b)))"
   ]
  },
  {
   "cell_type": "code",
   "execution_count": 6,
   "metadata": {},
   "outputs": [],
   "source": [
    "def client_fitness(route_requests, individual):\n",
    "    c_fitness = []\n",
    "    for i in range(len(route_requests)):\n",
    "        request_r = route_requests[i]\n",
    "        request_origin = [request_r[0], request_r[1]]\n",
    "        vs_individual = individual[i]\n",
    "        vs_destination = vs_individual\n",
    "#         c_fitness.append(auxiliary_tools.getGeoDistanceETA_OSRM(request_origin, vs_destination, 5001, 'walking'))\n",
    "        c_fitness.append((random.random(), random.random()))\n",
    "    fitness_value = np.sum([f[0] for f in c_fitness])\n",
    "    return fitness_value\n",
    "\n",
    "def operator_fitness(individual, penalty_const):\n",
    "    ori_dest = [(first, second) for first, second in zip(individual, individual[1:])]\n",
    "    penalty_sum = 0\n",
    "    for pair in ori_dest:\n",
    "        if max(pair[0] != pair[1]) == True:\n",
    "            penalty_sum+=penalty_const\n",
    "    o_fitness = []\n",
    "    for od_r in ori_dest:\n",
    "#         o_fitness.append(auxiliary_tools.getGeoDistanceETA_OSRM(od_r[0], od_r[1], 5000, 'driving'))\n",
    "        o_fitness.append((random.random(), random.random()))\n",
    "        \n",
    "    fitness_value = np.sum([f[0] for f in o_fitness]) + penalty_sum\n",
    "    return fitness_value\n",
    "\n",
    "def fitness(individual, route_requests, penalty_const):\n",
    "    import time\n",
    "#     start_time = time.time()\n",
    "    from pexecute.thread import ThreadLoom\n",
    "    loom = ThreadLoom(max_runner_cap=10)\n",
    "    \n",
    "    loom.add_function(client_fitness, [route_requests, individual], {})\n",
    "    loom.add_function(operator_fitness, [individual, penalty_const], {})\n",
    "\n",
    "    output = loom.execute()\n",
    "    client_f = output[0]['output']\n",
    "    operator_f = output[1]['output']\n",
    "#     print(\"--- %s seconds ---\" % round(time.time() - start_time))\n",
    "    return client_f, operator_f"
   ]
  },
  {
   "cell_type": "code",
   "execution_count": 7,
   "metadata": {},
   "outputs": [
    {
     "name": "stdout",
     "output_type": "stream",
     "text": [
      "# proposals:  123402\n",
      "# requests 121427\n",
      "# rides 46616\n"
     ]
    }
   ],
   "source": [
    "penalty_const = auxiliary_tools.getPenaltyConst(2)\n",
    "\n",
    "route_requests = auxiliary_tools.loadPrep(1, 0)\n",
    "\n",
    "crossover_probability = 0.6\n",
    "mutation_probability = 0.4\n",
    "\n",
    "rand_dist_min = 0\n",
    "rand_dist_max = 500\n",
    "\n",
    "population_size = 25\n",
    "number_generations = 100\n",
    "\n",
    "idx_evol = 10"
   ]
  },
  {
   "cell_type": "code",
   "execution_count": 8,
   "metadata": {},
   "outputs": [],
   "source": [
    "import time\n",
    "start_time = time.time()"
   ]
  },
  {
   "cell_type": "code",
   "execution_count": 9,
   "metadata": {},
   "outputs": [],
   "source": [
    "creator.create(\"min_fitness\", base.Fitness, weights=(-1.0, -1.0))\n",
    "creator.create(\"individual\", list, fitness=creator.min_fitness)\n",
    "\n",
    "toolbox = base.Toolbox()\n",
    "\n",
    "toolbox.register(\"create_individual\", generate_individual, creator, route_requests=route_requests,  rand_dist_min=rand_dist_min, rand_dist_max=rand_dist_max)\n",
    "toolbox.register(\"initialize_population\", tools.initRepeat, list, toolbox.create_individual)\n",
    "\n",
    "toolbox.register(\"evaluate\", fitness, route_requests=route_requests, penalty_const=penalty_const)\n",
    "toolbox.register(\"crossover\", crossover, crossover_probability=crossover_probability)\n",
    "toolbox.register(\"mutate\", mutation, mutation_probability=mutation_probability, rand_dist_min=rand_dist_min, rand_dist_max=rand_dist_min)\n",
    "\n",
    "toolbox.register(\"select\", tools.selNSGA2)"
   ]
  },
  {
   "cell_type": "code",
   "execution_count": 10,
   "metadata": {},
   "outputs": [],
   "source": [
    "population = toolbox.initialize_population(n=population_size)"
   ]
  },
  {
   "cell_type": "code",
   "execution_count": 11,
   "metadata": {},
   "outputs": [
    {
     "name": "stderr",
     "output_type": "stream",
     "text": [
      "100%|██████████| 25/25 [00:15<00:00,  1.62it/s]\n"
     ]
    }
   ],
   "source": [
    "population_fitnesses = [toolbox.evaluate(individual) for individual in tqdm(population)]"
   ]
  },
  {
   "cell_type": "code",
   "execution_count": 12,
   "metadata": {},
   "outputs": [],
   "source": [
    "for individual, fitness in zip(population, population_fitnesses):\n",
    "    individual.fitness.values = fitness"
   ]
  },
  {
   "cell_type": "code",
   "execution_count": 13,
   "metadata": {},
   "outputs": [],
   "source": [
    "list_generations_mean_fitness = []\n",
    "list_generations_std_fitness = []\n",
    "list_generations_min_fitness = []\n",
    "list_generations_max_fitness = []\n",
    "\n",
    "list_population_generations = []\n",
    "list_best_individuo_generations = []\n",
    "list_best_individuo_fitness_generations = []"
   ]
  },
  {
   "cell_type": "code",
   "execution_count": 14,
   "metadata": {},
   "outputs": [
    {
     "name": "stdout",
     "output_type": "stream",
     "text": [
      "Crossing\n",
      "Mutation\n"
     ]
    },
    {
     "name": "stderr",
     "output_type": "stream",
     "text": [
      "  0%|          | 0/24 [00:00<?, ?it/s]"
     ]
    },
    {
     "name": "stdout",
     "output_type": "stream",
     "text": [
      "Fitness\n"
     ]
    },
    {
     "name": "stderr",
     "output_type": "stream",
     "text": [
      "100%|██████████| 24/24 [00:14<00:00,  1.67it/s]\n"
     ]
    },
    {
     "name": "stdout",
     "output_type": "stream",
     "text": [
      "Selection\n",
      "---- STATISTICS GENERATION 0 ----\n",
      "  Min 1025.913759063462 2088.668180321368\n",
      "  Max 1074.8596023696782 2127.2459236579884\n",
      "  Avg 1049.9548626519756 2106.4568303444134\n",
      "  Std 12.969210999236699 8.715594266743773\n",
      "Select Best\n",
      "Best individual is 1025.913759063462, 2110.811026788743\n",
      "Save Data\n",
      "Crossing\n",
      "Mutation\n"
     ]
    },
    {
     "name": "stderr",
     "output_type": "stream",
     "text": [
      "  0%|          | 0/24 [00:00<?, ?it/s]"
     ]
    },
    {
     "name": "stdout",
     "output_type": "stream",
     "text": [
      "Fitness\n"
     ]
    },
    {
     "name": "stderr",
     "output_type": "stream",
     "text": [
      "100%|██████████| 24/24 [00:17<00:00,  1.36it/s]\n"
     ]
    },
    {
     "name": "stdout",
     "output_type": "stream",
     "text": [
      "Selection\n",
      "---- STATISTICS GENERATION 1 ----\n",
      "  Min 1025.913759063462 2088.668180321368\n",
      "  Max 1074.8596023696782 2143.769675203951\n",
      "  Avg 1046.2889324472876 2107.4697815477457\n",
      "  Std 14.583162773247548 13.322818621729391\n",
      "Select Best\n",
      "Best individual is 1025.913759063462, 2110.811026788743\n",
      "Save Data\n",
      "Crossing\n",
      "Mutation\n"
     ]
    },
    {
     "name": "stderr",
     "output_type": "stream",
     "text": [
      "  0%|          | 0/24 [00:00<?, ?it/s]"
     ]
    },
    {
     "name": "stdout",
     "output_type": "stream",
     "text": [
      "Fitness\n"
     ]
    },
    {
     "name": "stderr",
     "output_type": "stream",
     "text": [
      "100%|██████████| 24/24 [00:24<00:00,  1.02s/it]\n"
     ]
    },
    {
     "name": "stdout",
     "output_type": "stream",
     "text": [
      "Selection\n",
      "---- STATISTICS GENERATION 2 ----\n",
      "  Min 1025.913759063462 2088.668180321368\n",
      "  Max 1069.30487975863 2143.769675203951\n",
      "  Avg 1043.7790112854211 2107.752431288637\n",
      "  Std 12.939880493915748 13.396548629504593\n",
      "Select Best\n",
      "Best individual is 1025.913759063462, 2110.811026788743\n",
      "Save Data\n",
      "Crossing\n",
      "Mutation\n"
     ]
    },
    {
     "name": "stderr",
     "output_type": "stream",
     "text": [
      "  0%|          | 0/24 [00:00<?, ?it/s]"
     ]
    },
    {
     "name": "stdout",
     "output_type": "stream",
     "text": [
      "Fitness\n"
     ]
    },
    {
     "name": "stderr",
     "output_type": "stream",
     "text": [
      "100%|██████████| 24/24 [00:16<00:00,  1.47it/s]\n"
     ]
    },
    {
     "name": "stdout",
     "output_type": "stream",
     "text": [
      "Selection\n",
      "---- STATISTICS GENERATION 3 ----\n",
      "  Min 1015.3665601969828 2081.918181241936\n",
      "  Max 1067.8118773615452 2143.769675203951\n",
      "  Avg 1043.211834876589 2103.9588826582567\n",
      "  Std 13.801411341293397 12.367494549195843\n",
      "Select Best\n",
      "Best individual is 1015.3665601969828, 2102.820951664594\n",
      "Save Data\n"
     ]
    },
    {
     "ename": "KeyboardInterrupt",
     "evalue": "",
     "output_type": "error",
     "traceback": [
      "\u001b[0;31m---------------------------------------------------------------------------\u001b[0m",
      "\u001b[0;31mKeyboardInterrupt\u001b[0m                         Traceback (most recent call last)",
      "\u001b[0;32m<ipython-input-14-89daaa458d94>\u001b[0m in \u001b[0;36m<module>\u001b[0;34m\u001b[0m\n\u001b[1;32m      1\u001b[0m \u001b[0mcurrent_generation\u001b[0m \u001b[0;34m=\u001b[0m \u001b[0;36m0\u001b[0m\u001b[0;34m\u001b[0m\u001b[0;34m\u001b[0m\u001b[0m\n\u001b[1;32m      2\u001b[0m \u001b[0;32mwhile\u001b[0m \u001b[0mcurrent_generation\u001b[0m \u001b[0;34m<\u001b[0m \u001b[0mnumber_generations\u001b[0m\u001b[0;34m:\u001b[0m\u001b[0;34m\u001b[0m\u001b[0;34m\u001b[0m\u001b[0m\n\u001b[0;32m----> 3\u001b[0;31m     \u001b[0moffspring\u001b[0m \u001b[0;34m=\u001b[0m \u001b[0mlist\u001b[0m\u001b[0;34m(\u001b[0m\u001b[0mmap\u001b[0m\u001b[0;34m(\u001b[0m\u001b[0mtoolbox\u001b[0m\u001b[0;34m.\u001b[0m\u001b[0mclone\u001b[0m\u001b[0;34m,\u001b[0m \u001b[0mpopulation\u001b[0m\u001b[0;34m)\u001b[0m\u001b[0;34m)\u001b[0m\u001b[0;34m\u001b[0m\u001b[0;34m\u001b[0m\u001b[0m\n\u001b[0m\u001b[1;32m      4\u001b[0m     \u001b[0mcrossed_offspring\u001b[0m \u001b[0;34m=\u001b[0m \u001b[0;34m[\u001b[0m\u001b[0;34m]\u001b[0m\u001b[0;34m\u001b[0m\u001b[0;34m\u001b[0m\u001b[0m\n\u001b[1;32m      5\u001b[0m \u001b[0;34m\u001b[0m\u001b[0m\n",
      "\u001b[0;32m/usr/local/anaconda3/lib/python3.7/copy.py\u001b[0m in \u001b[0;36mdeepcopy\u001b[0;34m(x, memo, _nil)\u001b[0m\n\u001b[1;32m    178\u001b[0m                     \u001b[0my\u001b[0m \u001b[0;34m=\u001b[0m \u001b[0mx\u001b[0m\u001b[0;34m\u001b[0m\u001b[0;34m\u001b[0m\u001b[0m\n\u001b[1;32m    179\u001b[0m                 \u001b[0;32melse\u001b[0m\u001b[0;34m:\u001b[0m\u001b[0;34m\u001b[0m\u001b[0;34m\u001b[0m\u001b[0m\n\u001b[0;32m--> 180\u001b[0;31m                     \u001b[0my\u001b[0m \u001b[0;34m=\u001b[0m \u001b[0m_reconstruct\u001b[0m\u001b[0;34m(\u001b[0m\u001b[0mx\u001b[0m\u001b[0;34m,\u001b[0m \u001b[0mmemo\u001b[0m\u001b[0;34m,\u001b[0m \u001b[0;34m*\u001b[0m\u001b[0mrv\u001b[0m\u001b[0;34m)\u001b[0m\u001b[0;34m\u001b[0m\u001b[0;34m\u001b[0m\u001b[0m\n\u001b[0m\u001b[1;32m    181\u001b[0m \u001b[0;34m\u001b[0m\u001b[0m\n\u001b[1;32m    182\u001b[0m     \u001b[0;31m# If is its own copy, don't memoize.\u001b[0m\u001b[0;34m\u001b[0m\u001b[0;34m\u001b[0m\u001b[0;34m\u001b[0m\u001b[0m\n",
      "\u001b[0;32m/usr/local/anaconda3/lib/python3.7/copy.py\u001b[0m in \u001b[0;36m_reconstruct\u001b[0;34m(x, memo, func, args, state, listiter, dictiter, deepcopy)\u001b[0m\n\u001b[1;32m    295\u001b[0m         \u001b[0;32mif\u001b[0m \u001b[0mdeep\u001b[0m\u001b[0;34m:\u001b[0m\u001b[0;34m\u001b[0m\u001b[0;34m\u001b[0m\u001b[0m\n\u001b[1;32m    296\u001b[0m             \u001b[0;32mfor\u001b[0m \u001b[0mitem\u001b[0m \u001b[0;32min\u001b[0m \u001b[0mlistiter\u001b[0m\u001b[0;34m:\u001b[0m\u001b[0;34m\u001b[0m\u001b[0;34m\u001b[0m\u001b[0m\n\u001b[0;32m--> 297\u001b[0;31m                 \u001b[0mitem\u001b[0m \u001b[0;34m=\u001b[0m \u001b[0mdeepcopy\u001b[0m\u001b[0;34m(\u001b[0m\u001b[0mitem\u001b[0m\u001b[0;34m,\u001b[0m \u001b[0mmemo\u001b[0m\u001b[0;34m)\u001b[0m\u001b[0;34m\u001b[0m\u001b[0;34m\u001b[0m\u001b[0m\n\u001b[0m\u001b[1;32m    298\u001b[0m                 \u001b[0my\u001b[0m\u001b[0;34m.\u001b[0m\u001b[0mappend\u001b[0m\u001b[0;34m(\u001b[0m\u001b[0mitem\u001b[0m\u001b[0;34m)\u001b[0m\u001b[0;34m\u001b[0m\u001b[0;34m\u001b[0m\u001b[0m\n\u001b[1;32m    299\u001b[0m         \u001b[0;32melse\u001b[0m\u001b[0;34m:\u001b[0m\u001b[0;34m\u001b[0m\u001b[0;34m\u001b[0m\u001b[0m\n",
      "\u001b[0;32m/usr/local/anaconda3/lib/python3.7/copy.py\u001b[0m in \u001b[0;36mdeepcopy\u001b[0;34m(x, memo, _nil)\u001b[0m\n\u001b[1;32m    159\u001b[0m             \u001b[0mcopier\u001b[0m \u001b[0;34m=\u001b[0m \u001b[0mgetattr\u001b[0m\u001b[0;34m(\u001b[0m\u001b[0mx\u001b[0m\u001b[0;34m,\u001b[0m \u001b[0;34m\"__deepcopy__\"\u001b[0m\u001b[0;34m,\u001b[0m \u001b[0;32mNone\u001b[0m\u001b[0;34m)\u001b[0m\u001b[0;34m\u001b[0m\u001b[0;34m\u001b[0m\u001b[0m\n\u001b[1;32m    160\u001b[0m             \u001b[0;32mif\u001b[0m \u001b[0mcopier\u001b[0m\u001b[0;34m:\u001b[0m\u001b[0;34m\u001b[0m\u001b[0;34m\u001b[0m\u001b[0m\n\u001b[0;32m--> 161\u001b[0;31m                 \u001b[0my\u001b[0m \u001b[0;34m=\u001b[0m \u001b[0mcopier\u001b[0m\u001b[0;34m(\u001b[0m\u001b[0mmemo\u001b[0m\u001b[0;34m)\u001b[0m\u001b[0;34m\u001b[0m\u001b[0;34m\u001b[0m\u001b[0m\n\u001b[0m\u001b[1;32m    162\u001b[0m             \u001b[0;32melse\u001b[0m\u001b[0;34m:\u001b[0m\u001b[0;34m\u001b[0m\u001b[0;34m\u001b[0m\u001b[0m\n\u001b[1;32m    163\u001b[0m                 \u001b[0mreductor\u001b[0m \u001b[0;34m=\u001b[0m \u001b[0mdispatch_table\u001b[0m\u001b[0;34m.\u001b[0m\u001b[0mget\u001b[0m\u001b[0;34m(\u001b[0m\u001b[0mcls\u001b[0m\u001b[0;34m)\u001b[0m\u001b[0;34m\u001b[0m\u001b[0;34m\u001b[0m\u001b[0m\n",
      "\u001b[0;31mKeyboardInterrupt\u001b[0m: "
     ]
    }
   ],
   "source": [
    "current_generation = 0\n",
    "while current_generation < number_generations:\n",
    "    offspring = list(map(toolbox.clone, population))\n",
    "    crossed_offspring = []\n",
    "\n",
    "    # Crossing\n",
    "    print(\"Crossing\")\n",
    "    for child_1, child_2 in zip(offspring[::2], offspring[1::2]):\n",
    "        child_a, child_b = toolbox.crossover(child_1, child_2)\n",
    "        del child_a.fitness.values\n",
    "        del child_b.fitness.values\n",
    "        crossed_offspring.append(child_a)\n",
    "        crossed_offspring.append(child_b)\n",
    "\n",
    "    # Mutation\n",
    "    print(\"Mutation\")\n",
    "    for mu in range(0,len(crossed_offspring)):\n",
    "        mutant = toolbox.mutate(crossed_offspring[mu])\n",
    "        del mutant.fitness.values\n",
    "        crossed_offspring[mu] = mutant\n",
    "\n",
    "    # Fitness\n",
    "    print(\"Fitness\")\n",
    "    crossed_offspring_fitnesses = [toolbox.evaluate(individual) for individual in tqdm(crossed_offspring)]\n",
    "    for individual, fitness in zip(crossed_offspring, crossed_offspring_fitnesses):\n",
    "        individual.fitness.values = fitness\n",
    "\n",
    "    new_population = population+crossed_offspring\n",
    "\n",
    "    # Selection\n",
    "    print(\"Selection\")\n",
    "    selected = toolbox.select(new_population, population_size)\n",
    "    population_selected = list(map(toolbox.clone, selected))\n",
    "\n",
    "    population[:] = population_selected\n",
    "\n",
    "    print(\"---- STATISTICS GENERATION %s ----\" % (current_generation))\n",
    "\n",
    "    fits_client = [ind.fitness.values[0] for ind in population]\n",
    "    fits_operator = [ind.fitness.values[1] for ind in population]\n",
    "\n",
    "    length = len(population)\n",
    "    mean_client = sum(fits_client) / length\n",
    "    mean_operator= sum(fits_operator) / length\n",
    "    sum2_client = sum(x*x for x in fits_client)\n",
    "    sum2_operator = sum(x*x for x in fits_operator)\n",
    "    std_client = abs(sum2_client / length - mean_client**2)**0.5\n",
    "    std_operator = abs(sum2_operator / length - mean_operator**2)**0.5\n",
    "    \n",
    "    list_generations_mean_fitness.append((mean_client, mean_operator))\n",
    "    list_generations_std_fitness.append((std_client, std_operator))\n",
    "    list_generations_min_fitness.append((min(fits_client), min(fits_operator)))\n",
    "    list_generations_max_fitness.append((max(fits_client), max(fits_operator)))\n",
    "    \n",
    "    list_population_generations.append(list(map(toolbox.clone, population)))\n",
    "    \n",
    "    print(\"  Min %s %s\" % (min(fits_client), min(fits_operator)))\n",
    "    print(\"  Max %s %s\" % (max(fits_client), max(fits_operator)))\n",
    "    print(\"  Avg %s %s\" % (mean_client, mean_operator))\n",
    "    print(\"  Std %s %s\" % (std_client, std_operator))\n",
    "    \n",
    "    current_generation+= 1\n",
    "    \n",
    "    print(\"Select Best\")\n",
    "    best_ind = tools.selBest(population, 1)[0]\n",
    "    \n",
    "    list_best_individuo_generations.append(copy.deepcopy(best_ind))\n",
    "    list_best_individuo_fitness_generations.append(tuple(best_ind.fitness.values))\n",
    "    \n",
    "    print(\"Best individual is %s, %s\" % (best_ind.fitness.values))\n",
    "    \n",
    "    data_ga = [list_generations_mean_fitness, list_generations_std_fitness,\n",
    "              list_generations_min_fitness, list_generations_max_fitness,\n",
    "              list_population_generations, list_best_individuo_generations,\n",
    "              list_best_individuo_fitness_generations]\n",
    "    \n",
    "    print(\"Save Data\")\n",
    "    pickle.dump(data_ga, open(\"data_ga_evol_\"+str(idx_evol)+\".pkl\", \"wb\"))\n",
    "print(\"--- %s seconds ---\" % round(time.time() - start_time))"
   ]
  },
  {
   "cell_type": "code",
   "execution_count": null,
   "metadata": {},
   "outputs": [],
   "source": [
    "import pickle"
   ]
  },
  {
   "cell_type": "code",
   "execution_count": null,
   "metadata": {},
   "outputs": [],
   "source": [
    "best_ind = tools.selBest(population, 1)[0]"
   ]
  },
  {
   "cell_type": "code",
   "execution_count": null,
   "metadata": {},
   "outputs": [],
   "source": [
    "pickle.dump(np.array(best_ind), open(\"best_individual\"+str(idx_evol)+\".pkl\", \"wb\"))"
   ]
  }
 ],
 "metadata": {
  "kernelspec": {
   "display_name": "Python 3",
   "language": "python",
   "name": "python3"
  },
  "language_info": {
   "codemirror_mode": {
    "name": "ipython",
    "version": 3
   },
   "file_extension": ".py",
   "mimetype": "text/x-python",
   "name": "python",
   "nbconvert_exporter": "python",
   "pygments_lexer": "ipython3",
   "version": "3.7.4"
  }
 },
 "nbformat": 4,
 "nbformat_minor": 4
}
