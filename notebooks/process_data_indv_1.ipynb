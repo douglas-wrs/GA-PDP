{
 "cells": [
  {
   "cell_type": "code",
   "execution_count": 1,
   "metadata": {},
   "outputs": [],
   "source": [
    "import auxiliary_tools"
   ]
  },
  {
   "cell_type": "code",
   "execution_count": 2,
   "metadata": {},
   "outputs": [
    {
     "name": "stdout",
     "output_type": "stream",
     "text": [
      "# proposals:  123402\n",
      "# requests 121427\n",
      "# rides 46616\n"
     ]
    }
   ],
   "source": [
    "df_proposals_shrt, requests_ids = auxiliary_tools.prepProposals(\"../proposals/\")\n",
    "df_requests_shrt = auxiliary_tools.prepRequests(\"../requests/\", requests_ids)\n",
    "df_rides_shrt = auxiliary_tools.prepRides(\"../rides/\")"
   ]
  },
  {
   "cell_type": "code",
   "execution_count": null,
   "metadata": {},
   "outputs": [],
   "source": [
    "df_drt_dataset = auxiliary_tools.mergePropRequRides(df_proposals_shrt, df_requests_shrt, df_rides_shrt)"
   ]
  },
  {
   "cell_type": "code",
   "execution_count": null,
   "metadata": {},
   "outputs": [],
   "source": [
    "df_routes, _ = auxiliary_tools.routesTransformation(\"../data/drt_dataset.csv\")"
   ]
  },
  {
   "cell_type": "code",
   "execution_count": null,
   "metadata": {},
   "outputs": [],
   "source": [
    "df_van_50 = df_routes[df_routes['VAN_ID'] == '50']"
   ]
  },
  {
   "cell_type": "code",
   "execution_count": null,
   "metadata": {},
   "outputs": [],
   "source": [
    "individual = df_van_50[['LATITUDE', 'LONGITUDE']].values.tolist()"
   ]
  },
  {
   "cell_type": "code",
   "execution_count": null,
   "metadata": {},
   "outputs": [],
   "source": [
    "import numpy as np\n",
    "from tqdm import tqdm\n",
    "\n",
    "def client_fitness(route_requests, individual):\n",
    "    c_fitness = []\n",
    "    print(\"Client Fitness\")\n",
    "    for i in range(len(route_requests)):\n",
    "        request_r = route_requests[i]\n",
    "        request_origin = [request_r[0], request_r[1]]\n",
    "        print(request_origin)\n",
    "        vs_individual = individual[i]\n",
    "        vs_destination = vs_individual\n",
    "        c_fitness.append(auxiliary_tools.getGeoDistanceETA_OSRM(request_origin, vs_destination, 5001, 'walking'))\n",
    "    fitness_value = np.sum([f[0] for f in c_fitness])\n",
    "    return fitness_value\n",
    "\n",
    "def operator_fitness(individual, penalty_const):\n",
    "    ori_dest = [(first, second) for first, second in zip(individual, individual[1:])]\n",
    "    penalty_sum = 0\n",
    "    \n",
    "    for pair in ori_dest:\n",
    "        if (pair[0] != pair[1]) == True :\n",
    "            penalty_sum+=penalty_const\n",
    "    o_fitness = []\n",
    "    print(\"Operator Fitness\")\n",
    "    for od_r in ori_dest:\n",
    "        o_fitness.append(auxiliary_tools.getGeoDistanceETA_OSRM(od_r[0], od_r[1], 5000, 'driving'))\n",
    "        \n",
    "    fitness_value = np.sum([f[0] for f in o_fitness]) + penalty_sum\n",
    "    return fitness_value\n",
    "\n",
    "def fitness(individual, route_requests, penalty_const):\n",
    "    import time\n",
    "    start_time = time.time()\n",
    "    from pexecute.thread import ThreadLoom\n",
    "    loom = ThreadLoom(max_runner_cap=10)\n",
    "    \n",
    "    loom.add_function(client_fitness, [route_requests, individual], {})\n",
    "    loom.add_function(operator_fitness, [individual, penalty_const], {})\n",
    "\n",
    "#     client_f = client_fitness(route_requests, individual)\n",
    "#     operator_f = operator_fitness(individual, penalty_const)\n",
    "    output = loom.execute()\n",
    "    client_f = output[0]['output']\n",
    "    operator_f = output[1]['output']\n",
    "    print(\"--- %s seconds ---\" % round(time.time() - start_time))\n",
    "    return client_f, operator_f"
   ]
  },
  {
   "cell_type": "code",
   "execution_count": null,
   "metadata": {},
   "outputs": [],
   "source": [
    "while True:\n",
    "    fitness(individual, individual, 0.2)"
   ]
  }
 ],
 "metadata": {
  "kernelspec": {
   "display_name": "Python 3",
   "language": "python",
   "name": "python3"
  },
  "language_info": {
   "codemirror_mode": {
    "name": "ipython",
    "version": 3
   },
   "file_extension": ".py",
   "mimetype": "text/x-python",
   "name": "python",
   "nbconvert_exporter": "python",
   "pygments_lexer": "ipython3",
   "version": "3.7.4"
  }
 },
 "nbformat": 4,
 "nbformat_minor": 4
}
