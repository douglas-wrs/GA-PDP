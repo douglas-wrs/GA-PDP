{
 "cells": [
  {
   "cell_type": "code",
   "execution_count": 1,
   "metadata": {},
   "outputs": [],
   "source": [
    "import auxiliary_tools\n",
    "from tqdm import tqdm \n",
    "from geopy.distance import geodesic"
   ]
  },
  {
   "cell_type": "code",
   "execution_count": 2,
   "metadata": {},
   "outputs": [],
   "source": [
    "import array\n",
    "import random\n",
    "import numpy as np\n",
    "import json\n",
    "import pickle\n",
    "import numpy\n",
    "from math import sqrt\n",
    "from deap import algorithms\n",
    "from deap import base\n",
    "from deap import benchmarks\n",
    "from deap.benchmarks.tools import diversity, convergence, hypervolume\n",
    "from deap import creator\n",
    "from deap import tools"
   ]
  },
  {
   "cell_type": "code",
   "execution_count": 3,
   "metadata": {},
   "outputs": [],
   "source": [
    "def generate_individual(creator, route_requests, rand_dist_min, rand_dist_max):\n",
    "    individual = []\n",
    "    for request in route_requests:\n",
    "        \n",
    "        rand_distance = random.randint(rand_dist_min, rand_dist_max)/1000\n",
    "        rand_angle = random.randint(1, 360)\n",
    "        \n",
    "        gene = geodesic(kilometers=rand_distance).destination(request, rand_angle)[:2]\n",
    "        \n",
    "        individual.append(gene)\n",
    "    individual = np.array(individual)\n",
    "    return creator.individual(individual)"
   ]
  },
  {
   "cell_type": "code",
   "execution_count": 4,
   "metadata": {},
   "outputs": [],
   "source": [
    "def mutation(individual, mutation_probability, rand_dist_min, rand_dist_max):\n",
    "    mutated_individual = []\n",
    "    for gene in individual:\n",
    "        if random.random() < mutation_probability:\n",
    "            rand_distance = random.randint(rand_dist_min, rand_dist_max)/1000\n",
    "            rand_angle = random.randint(1, 360)\n",
    "            \n",
    "            mutated_gene = geodesic(kilometers=rand_distance).destination(gene, rand_angle)[:2]\n",
    "            mutated_individual.append( mutated_gene )\n",
    "        else:\n",
    "            mutated_individual.append( gene )\n",
    "    return  creator.individual(np.array(mutated_individual))"
   ]
  },
  {
   "cell_type": "code",
   "execution_count": 5,
   "metadata": {},
   "outputs": [],
   "source": [
    "def crossover(individual_a, individual_b, crossover_probability):\n",
    "    child_a = []\n",
    "    child_b = []\n",
    "\n",
    "    for i, (gene_a, gene_b) in enumerate(zip(individual_a, individual_b)):\n",
    "        if random.random() < crossover_probability:\n",
    "            child_a.append(gene_b)\n",
    "            child_b.append(gene_a)\n",
    "        else:\n",
    "            child_a.append(gene_a)\n",
    "            child_b.append(gene_b)\n",
    "\n",
    "    return (creator.individual(np.array(child_a)), creator.individual(np.array(child_b)))"
   ]
  },
  {
   "cell_type": "code",
   "execution_count": 6,
   "metadata": {},
   "outputs": [],
   "source": [
    "def client_fitness(route_requests, individual):\n",
    "    c_fitness = []\n",
    "    for i in range(len(route_requests)):\n",
    "        request_r = route_requests[i]\n",
    "        request_origin = [request_r[0], request_r[1]]\n",
    "        vs_individual = individual[i]\n",
    "        vs_destination = vs_individual\n",
    "        c_fitness.append(auxiliary_tools.getGeoDistanceETA_OSRM(request_origin, vs_destination, 5005, 'walking'))\n",
    "    fitness_value = np.sum([f[0] for f in c_fitness])\n",
    "    return fitness_value\n",
    "\n",
    "def operator_fitness(individual, penalty_const):\n",
    "    ori_dest = [(first, second) for first, second in zip(individual, individual[1:])]\n",
    "    penalty_sum = 0\n",
    "    for pair in ori_dest:\n",
    "        if max(pair[0] != pair[1]) == True:\n",
    "            penalty_sum+=penalty_const\n",
    "    o_fitness = []\n",
    "    for od_r in ori_dest:\n",
    "        o_fitness.append(auxiliary_tools.getGeoDistanceETA_OSRM(od_r[0], od_r[1], 5004, 'driving'))\n",
    "        \n",
    "    fitness_value = np.sum([f[0] for f in o_fitness]) + penalty_sum\n",
    "    return fitness_value\n",
    "\n",
    "def fitness(individual, route_requests, penalty_const):\n",
    "    import time\n",
    "#     start_time = time.time()\n",
    "    from pexecute.thread import ThreadLoom\n",
    "    loom = ThreadLoom(max_runner_cap=10)\n",
    "    \n",
    "    loom.add_function(client_fitness, [route_requests, individual], {})\n",
    "    loom.add_function(operator_fitness, [individual, penalty_const], {})\n",
    "\n",
    "    output = loom.execute()\n",
    "    client_f = output[0]['output']\n",
    "    operator_f = output[1]['output']\n",
    "#     print(\"--- %s seconds ---\" % round(time.time() - start_time))\n",
    "    return client_f, operator_f"
   ]
  },
  {
   "cell_type": "code",
   "execution_count": 17,
   "metadata": {},
   "outputs": [
    {
     "name": "stdout",
     "output_type": "stream",
     "text": [
      "# proposals:  123402\n",
      "# requests 121427\n",
      "# rides 46616\n"
     ]
    }
   ],
   "source": [
    "penalty_const = auxiliary_tools.getPenaltyConst(2)\n",
    "\n",
    "route_requests = auxiliary_tools.loadPrep(1, 0)\n",
    "\n",
    "crossover_probability = 0.4\n",
    "mutation_probability = 0.5\n",
    "\n",
    "rand_dist_min = 0\n",
    "rand_dist_max = 500\n",
    "\n",
    "population_size = 25\n",
    "number_generations = 100\n",
    "\n",
    "idx_evol = 5"
   ]
  },
  {
   "cell_type": "code",
   "execution_count": 16,
   "metadata": {},
   "outputs": [
    {
     "data": {
      "text/plain": [
       "array([], dtype=float64)"
      ]
     },
     "execution_count": 16,
     "metadata": {},
     "output_type": "execute_result"
    }
   ],
   "source": [
    "route_requests"
   ]
  },
  {
   "cell_type": "code",
   "execution_count": 8,
   "metadata": {},
   "outputs": [],
   "source": [
    "import time\n",
    "start_time = time.time()"
   ]
  },
  {
   "cell_type": "code",
   "execution_count": 9,
   "metadata": {},
   "outputs": [],
   "source": [
    "creator.create(\"min_fitness\", base.Fitness, weights=(-1.0, -1.0))\n",
    "creator.create(\"individual\", list, fitness=creator.min_fitness)\n",
    "\n",
    "toolbox = base.Toolbox()\n",
    "\n",
    "toolbox.register(\"create_individual\", generate_individual, creator, route_requests=route_requests,  rand_dist_min=rand_dist_min, rand_dist_max=rand_dist_max)\n",
    "toolbox.register(\"initialize_population\", tools.initRepeat, list, toolbox.create_individual)\n",
    "\n",
    "toolbox.register(\"evaluate\", fitness, route_requests=route_requests, penalty_const=penalty_const)\n",
    "toolbox.register(\"crossover\", crossover, crossover_probability=crossover_probability)\n",
    "toolbox.register(\"mutate\", mutation, mutation_probability=mutation_probability, rand_dist_min=rand_dist_min, rand_dist_max=rand_dist_min)\n",
    "\n",
    "toolbox.register(\"select\", tools.selNSGA2)"
   ]
  },
  {
   "cell_type": "code",
   "execution_count": 10,
   "metadata": {},
   "outputs": [],
   "source": [
    "population = toolbox.initialize_population(n=population_size)"
   ]
  },
  {
   "cell_type": "code",
   "execution_count": 11,
   "metadata": {},
   "outputs": [
    {
     "name": "stderr",
     "output_type": "stream",
     "text": [
      "100%|██████████| 25/25 [15:09<00:00, 36.39s/it]\n"
     ]
    }
   ],
   "source": [
    "population_fitnesses = [toolbox.evaluate(individual) for individual in tqdm(population)]"
   ]
  },
  {
   "cell_type": "code",
   "execution_count": 12,
   "metadata": {},
   "outputs": [],
   "source": [
    "for individual, fitness in zip(population, population_fitnesses):\n",
    "    individual.fitness.values = fitness"
   ]
  },
  {
   "cell_type": "code",
   "execution_count": 13,
   "metadata": {},
   "outputs": [],
   "source": [
    "list_generations_mean_fitness = []\n",
    "list_generations_std_fitness = []\n",
    "list_generations_min_fitness = []\n",
    "list_generations_max_fitness = []\n",
    "\n",
    "list_population_generations = []\n",
    "list_best_individuo_generations = []\n",
    "list_best_individuo_fitness_generations = []"
   ]
  },
  {
   "cell_type": "code",
   "execution_count": 14,
   "metadata": {},
   "outputs": [
    {
     "name": "stderr",
     "output_type": "stream",
     "text": [
      "100%|██████████| 24/24 [15:28<00:00, 38.68s/it]\n"
     ]
    },
    {
     "name": "stdout",
     "output_type": "stream",
     "text": [
      "---- STATISTICS GENERATION 0 ----\n",
      "  Min 733.7726 7347.252494721697\n",
      "  Max 763.4063 7435.944594721696\n",
      "  Avg 747.8544399999998 7398.055994721698\n",
      "  Std 7.917801780257855 20.925418408580555\n",
      "Best individual is 733.7726, 7393.897994721696\n"
     ]
    },
    {
     "name": "stderr",
     "output_type": "stream",
     "text": [
      "100%|██████████| 24/24 [15:11<00:00, 37.96s/it]\n"
     ]
    },
    {
     "name": "stdout",
     "output_type": "stream",
     "text": [
      "---- STATISTICS GENERATION 1 ----\n",
      "  Min 722.8282999999999 7347.252494721697\n",
      "  Max 755.9088999999999 7456.787994721696\n",
      "  Avg 741.9619800000002 7388.005526721697\n",
      "  Std 8.23704306947931 22.358326297367878\n",
      "Best individual is 722.8282999999999, 7402.246994721696\n"
     ]
    },
    {
     "name": "stderr",
     "output_type": "stream",
     "text": [
      "100%|██████████| 24/24 [14:00<00:00, 35.02s/it]\n"
     ]
    },
    {
     "name": "stdout",
     "output_type": "stream",
     "text": [
      "---- STATISTICS GENERATION 2 ----\n",
      "  Min 712.0751 7276.428094721696\n",
      "  Max 751.3961999999999 7447.947694721696\n",
      "  Avg 736.3856640000001 7374.272962721697\n",
      "  Std 9.041575443766162 30.05595679772245\n",
      "Best individual is 712.0751, 7394.242094721696\n"
     ]
    },
    {
     "name": "stderr",
     "output_type": "stream",
     "text": [
      "100%|██████████| 24/24 [13:58<00:00, 34.92s/it]\n"
     ]
    },
    {
     "name": "stdout",
     "output_type": "stream",
     "text": [
      "---- STATISTICS GENERATION 3 ----\n",
      "  Min 710.7022999999999 7276.428094721696\n",
      "  Max 751.3961999999999 7447.947694721696\n",
      "  Avg 731.1304199999998 7364.174866721694\n",
      "  Std 9.30824296972477 31.572602219325702\n",
      "Best individual is 710.7022999999999, 7366.281194721697\n"
     ]
    },
    {
     "name": "stderr",
     "output_type": "stream",
     "text": [
      "100%|██████████| 24/24 [18:13<00:00, 45.57s/it]\n"
     ]
    },
    {
     "name": "stdout",
     "output_type": "stream",
     "text": [
      "---- STATISTICS GENERATION 4 ----\n",
      "  Min 708.1349 7276.428094721696\n",
      "  Max 743.4464 7402.246994721696\n",
      "  Avg 725.429116 7357.573266721695\n",
      "  Std 8.541381788479354 33.396415354207114\n",
      "Best individual is 708.1349, 7390.099994721697\n"
     ]
    },
    {
     "name": "stderr",
     "output_type": "stream",
     "text": [
      "100%|██████████| 24/24 [15:58<00:00, 39.93s/it]\n"
     ]
    },
    {
     "name": "stdout",
     "output_type": "stream",
     "text": [
      "---- STATISTICS GENERATION 5 ----\n",
      "  Min 708.1349 7276.428094721696\n",
      "  Max 734.8204 7401.139894721697\n",
      "  Avg 720.9433160000001 7345.792654721698\n",
      "  Std 7.1764935700136165 33.317456904109584\n",
      "Best individual is 708.1349, 7390.099994721697\n"
     ]
    },
    {
     "name": "stderr",
     "output_type": "stream",
     "text": [
      "100%|██████████| 24/24 [12:23<00:00, 30.97s/it]\n"
     ]
    },
    {
     "name": "stdout",
     "output_type": "stream",
     "text": [
      "---- STATISTICS GENERATION 6 ----\n",
      "  Min 708.1349 7276.428094721696\n",
      "  Max 731.727 7397.346694721697\n",
      "  Avg 717.5405960000003 7344.927046721697\n",
      "  Std 6.5139403464229755 31.943760798517207\n",
      "Best individual is 708.1349, 7390.099994721697\n"
     ]
    },
    {
     "name": "stderr",
     "output_type": "stream",
     "text": [
      "100%|██████████| 24/24 [12:28<00:00, 31.19s/it]\n"
     ]
    },
    {
     "name": "stdout",
     "output_type": "stream",
     "text": [
      "---- STATISTICS GENERATION 7 ----\n",
      "  Min 707.1455 7276.428094721696\n",
      "  Max 731.727 7397.346694721697\n",
      "  Avg 716.7574400000002 7334.8389947216965\n",
      "  Std 7.889023053371127 31.294149640922576\n",
      "Best individual is 707.1455, 7371.488194721696\n"
     ]
    },
    {
     "name": "stderr",
     "output_type": "stream",
     "text": [
      "100%|██████████| 24/24 [13:53<00:00, 34.73s/it]\n"
     ]
    },
    {
     "name": "stdout",
     "output_type": "stream",
     "text": [
      "---- STATISTICS GENERATION 8 ----\n",
      "  Min 691.9774 7276.428094721696\n",
      "  Max 731.727 7369.227594721697\n",
      "  Avg 716.572472 7320.9881787216955\n",
      "  Std 9.931334000362208 23.047849507014753\n",
      "Best individual is 691.9774, 7336.352294721697\n"
     ]
    },
    {
     "name": "stderr",
     "output_type": "stream",
     "text": [
      "100%|██████████| 24/24 [19:06<00:00, 47.78s/it]\n"
     ]
    },
    {
     "name": "stdout",
     "output_type": "stream",
     "text": [
      "---- STATISTICS GENERATION 9 ----\n",
      "  Min 691.9774 7276.428094721696\n",
      "  Max 731.1988 7364.399394721696\n",
      "  Avg 715.299264 7314.704158721696\n",
      "  Std 10.637756660380482 24.75004764619128\n",
      "Best individual is 691.9774, 7336.352294721697\n"
     ]
    },
    {
     "name": "stderr",
     "output_type": "stream",
     "text": [
      "100%|██████████| 24/24 [20:40<00:00, 51.71s/it]\n"
     ]
    },
    {
     "name": "stdout",
     "output_type": "stream",
     "text": [
      "---- STATISTICS GENERATION 10 ----\n",
      "  Min 691.9774 7276.428094721696\n",
      "  Max 731.1988 7360.841494721697\n",
      "  Avg 714.3830399999999 7306.007502721694\n",
      "  Std 12.294209969124383 22.60637935055504\n",
      "Best individual is 691.9774, 7336.352294721697\n"
     ]
    },
    {
     "name": "stderr",
     "output_type": "stream",
     "text": [
      "100%|██████████| 24/24 [18:09<00:00, 45.40s/it]\n"
     ]
    },
    {
     "name": "stdout",
     "output_type": "stream",
     "text": [
      "---- STATISTICS GENERATION 11 ----\n",
      "  Min 691.9774 7267.701594721696\n",
      "  Max 731.1988 7360.841494721697\n",
      "  Avg 709.7996919999999 7306.918286721696\n",
      "  Std 11.483121322706857 23.674634077724644\n",
      "Best individual is 691.9774, 7336.352294721697\n"
     ]
    },
    {
     "name": "stderr",
     "output_type": "stream",
     "text": [
      "100%|██████████| 24/24 [17:08<00:00, 42.86s/it]\n"
     ]
    },
    {
     "name": "stdout",
     "output_type": "stream",
     "text": [
      "---- STATISTICS GENERATION 12 ----\n",
      "  Min 691.9774 7267.701594721696\n",
      "  Max 731.0274999999999 7360.841494721697\n",
      "  Avg 707.3140119999999 7303.022726721697\n",
      "  Std 11.42351757568566 23.516637405039333\n",
      "Best individual is 691.9774, 7336.352294721697\n"
     ]
    },
    {
     "name": "stderr",
     "output_type": "stream",
     "text": [
      "100%|██████████| 24/24 [15:21<00:00, 38.41s/it]\n"
     ]
    },
    {
     "name": "stdout",
     "output_type": "stream",
     "text": [
      "---- STATISTICS GENERATION 13 ----\n",
      "  Min 688.6417000000001 7267.701594721696\n",
      "  Max 731.0274999999999 7340.8524947216965\n",
      "  Avg 704.954272 7300.096970721696\n",
      "  Std 11.14738149212049 23.387374336231545\n",
      "Best individual is 688.6417000000001, 7330.287694721696\n"
     ]
    },
    {
     "name": "stderr",
     "output_type": "stream",
     "text": [
      "100%|██████████| 24/24 [15:50<00:00, 39.60s/it]\n"
     ]
    },
    {
     "name": "stdout",
     "output_type": "stream",
     "text": [
      "---- STATISTICS GENERATION 14 ----\n",
      "  Min 683.9473 7263.060094721696\n",
      "  Max 726.1881000000001 7336.352294721697\n",
      "  Avg 704.4761720000001 7289.622458721695\n",
      "  Std 10.367497164822264 19.92028410281408\n",
      "Best individual is 683.9473, 7304.846494721696\n"
     ]
    },
    {
     "name": "stderr",
     "output_type": "stream",
     "text": [
      "100%|██████████| 24/24 [20:13<00:00, 50.55s/it]\n"
     ]
    },
    {
     "name": "stdout",
     "output_type": "stream",
     "text": [
      "---- STATISTICS GENERATION 15 ----\n",
      "  Min 683.4734000000001 7246.479394721697\n",
      "  Max 718.6612 7338.555094721696\n",
      "  Avg 700.011144 7291.028294721698\n",
      "  Std 9.692648167439941 23.504151165348542\n",
      "Best individual is 683.4734000000001, 7338.555094721696\n"
     ]
    },
    {
     "name": "stderr",
     "output_type": "stream",
     "text": [
      "100%|██████████| 24/24 [21:57<00:00, 54.88s/it]\n"
     ]
    },
    {
     "name": "stdout",
     "output_type": "stream",
     "text": [
      "---- STATISTICS GENERATION 16 ----\n",
      "  Min 683.4734000000001 7246.479394721697\n",
      "  Max 718.6612 7338.555094721696\n",
      "  Avg 698.873456 7285.931710721697\n",
      "  Std 9.029742872136397 22.58177030960614\n",
      "Best individual is 683.4734000000001, 7338.555094721696\n"
     ]
    },
    {
     "name": "stderr",
     "output_type": "stream",
     "text": [
      "100%|██████████| 24/24 [22:25<00:00, 56.08s/it]\n"
     ]
    },
    {
     "name": "stdout",
     "output_type": "stream",
     "text": [
      "---- STATISTICS GENERATION 17 ----\n",
      "  Min 681.0067 7246.479394721697\n",
      "  Max 718.6612 7338.555094721696\n",
      "  Avg 698.5080679999999 7278.349174721696\n",
      "  Std 10.57768364223262 21.67237682885712\n",
      "Best individual is 681.0067, 7288.790494721696\n"
     ]
    },
    {
     "name": "stderr",
     "output_type": "stream",
     "text": [
      "100%|██████████| 24/24 [22:38<00:00, 56.62s/it]\n"
     ]
    },
    {
     "name": "stdout",
     "output_type": "stream",
     "text": [
      "---- STATISTICS GENERATION 18 ----\n",
      "  Min 681.0067 7246.479394721697\n",
      "  Max 718.6612 7338.555094721696\n",
      "  Avg 696.8671960000001 7274.744382721697\n",
      "  Std 10.812060859990941 22.74066644834909\n",
      "Best individual is 681.0067, 7288.790494721696\n"
     ]
    },
    {
     "name": "stderr",
     "output_type": "stream",
     "text": [
      "100%|██████████| 24/24 [24:19<00:00, 60.82s/it]\n"
     ]
    },
    {
     "name": "stdout",
     "output_type": "stream",
     "text": [
      "---- STATISTICS GENERATION 19 ----\n",
      "  Min 681.0067 7233.860894721696\n",
      "  Max 718.6612 7338.555094721696\n",
      "  Avg 695.8833040000001 7270.441154721699\n",
      "  Std 10.76252133699072 24.860027956074855\n",
      "Best individual is 681.0067, 7288.790494721696\n"
     ]
    },
    {
     "name": "stderr",
     "output_type": "stream",
     "text": [
      "100%|██████████| 24/24 [24:37<00:00, 61.58s/it]\n"
     ]
    },
    {
     "name": "stdout",
     "output_type": "stream",
     "text": [
      "---- STATISTICS GENERATION 20 ----\n",
      "  Min 681.0067 7233.860894721696\n",
      "  Max 714.6170999999999 7321.4423947216965\n",
      "  Avg 691.8964 7269.092202721697\n",
      "  Std 9.858558220434059 22.628410810028203\n",
      "Best individual is 681.0067, 7288.790494721696\n"
     ]
    },
    {
     "name": "stderr",
     "output_type": "stream",
     "text": [
      "100%|██████████| 24/24 [23:41<00:00, 59.24s/it]\n"
     ]
    },
    {
     "name": "stdout",
     "output_type": "stream",
     "text": [
      "---- STATISTICS GENERATION 21 ----\n",
      "  Min 680.9907000000001 7233.154394721696\n",
      "  Max 710.534 7304.064494721697\n",
      "  Avg 690.417824 7261.071746721695\n",
      "  Std 8.748775364417966 18.490343071390505\n",
      "Best individual is 680.9907000000001, 7283.718094721697\n"
     ]
    },
    {
     "name": "stderr",
     "output_type": "stream",
     "text": [
      "100%|██████████| 24/24 [19:26<00:00, 48.60s/it]\n"
     ]
    },
    {
     "name": "stdout",
     "output_type": "stream",
     "text": [
      "---- STATISTICS GENERATION 22 ----\n",
      "  Min 677.8334 7232.506094721696\n",
      "  Max 705.4413 7283.718094721697\n",
      "  Avg 687.0476 7257.670794721696\n",
      "  Std 6.400024254460429 14.486782765027186\n",
      "Best individual is 677.8334, 7281.812994721697\n"
     ]
    },
    {
     "name": "stderr",
     "output_type": "stream",
     "text": [
      "100%|██████████| 24/24 [16:15<00:00, 40.63s/it]\n"
     ]
    },
    {
     "name": "stdout",
     "output_type": "stream",
     "text": [
      "---- STATISTICS GENERATION 23 ----\n",
      "  Min 677.8334 7230.932794721697\n",
      "  Max 705.4413 7283.718094721697\n",
      "  Avg 685.1364839999999 7254.970226721697\n",
      "  Std 6.072967950765518 15.535323035879808\n",
      "Best individual is 677.8334, 7281.812994721697\n"
     ]
    },
    {
     "name": "stderr",
     "output_type": "stream",
     "text": [
      "100%|██████████| 24/24 [15:13<00:00, 38.06s/it]\n"
     ]
    },
    {
     "name": "stdout",
     "output_type": "stream",
     "text": [
      "---- STATISTICS GENERATION 24 ----\n",
      "  Min 672.4751000000001 7221.465294721696\n",
      "  Max 694.6403 7283.113694721696\n",
      "  Avg 682.0947519999999 7251.580538721697\n",
      "  Std 5.041561054622819 16.583048215308835\n",
      "Best individual is 672.4751000000001, 7263.781094721696\n"
     ]
    },
    {
     "name": "stderr",
     "output_type": "stream",
     "text": [
      "100%|██████████| 24/24 [11:07<00:00, 27.79s/it]\n"
     ]
    },
    {
     "name": "stdout",
     "output_type": "stream",
     "text": [
      "---- STATISTICS GENERATION 25 ----\n",
      "  Min 670.4549999999999 7221.465294721696\n",
      "  Max 694.6403 7283.113694721696\n",
      "  Avg 679.997476 7247.647218721697\n",
      "  Std 5.244596089553518 16.09848072210406\n",
      "Best individual is 670.4549999999999, 7265.024994721696\n"
     ]
    },
    {
     "name": "stderr",
     "output_type": "stream",
     "text": [
      "100%|██████████| 24/24 [15:22<00:00, 38.44s/it]\n"
     ]
    },
    {
     "name": "stdout",
     "output_type": "stream",
     "text": [
      "---- STATISTICS GENERATION 26 ----\n",
      "  Min 669.7422 7221.465294721696\n",
      "  Max 694.6403 7270.119194721696\n",
      "  Avg 678.8619640000001 7240.494618721696\n",
      "  Std 5.552804948772845 12.74103749638783\n",
      "Best individual is 669.7422, 7255.195494721696\n"
     ]
    },
    {
     "name": "stderr",
     "output_type": "stream",
     "text": [
      "100%|██████████| 24/24 [19:29<00:00, 48.72s/it]\n"
     ]
    },
    {
     "name": "stdout",
     "output_type": "stream",
     "text": [
      "---- STATISTICS GENERATION 27 ----\n",
      "  Min 667.7918000000001 7205.143994721697\n",
      "  Max 687.0721000000001 7265.024994721696\n",
      "  Avg 676.39868 7236.501062721696\n",
      "  Std 5.385719158518071 14.817194835707689\n",
      "Best individual is 667.7918000000001, 7264.851794721696\n"
     ]
    },
    {
     "name": "stderr",
     "output_type": "stream",
     "text": [
      "100%|██████████| 24/24 [19:27<00:00, 48.65s/it]\n"
     ]
    },
    {
     "name": "stdout",
     "output_type": "stream",
     "text": [
      "---- STATISTICS GENERATION 28 ----\n",
      "  Min 664.7230000000001 7205.143994721697\n",
      "  Max 683.2296 7265.024994721696\n",
      "  Avg 673.8356879999999 7232.863114721696\n",
      "  Std 4.7318815231693465 15.828105718209288\n",
      "Best individual is 664.7230000000001, 7227.110394721696\n"
     ]
    },
    {
     "name": "stderr",
     "output_type": "stream",
     "text": [
      "100%|██████████| 24/24 [22:49<00:00, 57.06s/it]\n"
     ]
    },
    {
     "name": "stdout",
     "output_type": "stream",
     "text": [
      "---- STATISTICS GENERATION 29 ----\n",
      "  Min 659.9181000000001 7204.960694721697\n",
      "  Max 683.344 7265.024994721696\n",
      "  Avg 671.534188 7227.034810721695\n",
      "  Std 5.4072005944152055 16.70368316157612\n",
      "Best individual is 659.9181000000001, 7258.239594721696\n"
     ]
    },
    {
     "name": "stderr",
     "output_type": "stream",
     "text": [
      "100%|██████████| 24/24 [22:21<00:00, 55.89s/it]\n"
     ]
    },
    {
     "name": "stdout",
     "output_type": "stream",
     "text": [
      "---- STATISTICS GENERATION 30 ----\n",
      "  Min 659.9181000000001 7204.960694721697\n",
      "  Max 682.7936 7264.851794721696\n",
      "  Avg 669.9372520000002 7223.865542721697\n",
      "  Std 5.8039312111606485 16.452553944083007\n",
      "Best individual is 659.9181000000001, 7258.239594721696\n"
     ]
    },
    {
     "name": "stderr",
     "output_type": "stream",
     "text": [
      "100%|██████████| 24/24 [23:12<00:00, 58.01s/it]\n"
     ]
    },
    {
     "name": "stdout",
     "output_type": "stream",
     "text": [
      "---- STATISTICS GENERATION 31 ----\n",
      "  Min 658.3471999999999 7203.240694721697\n",
      "  Max 682.7936 7258.239594721696\n",
      "  Avg 666.8186000000001 7220.907302721695\n",
      "  Std 5.739131196476736 13.292812088102906\n",
      "Best individual is 658.3471999999999, 7245.139894721697\n"
     ]
    },
    {
     "name": "stderr",
     "output_type": "stream",
     "text": [
      "100%|██████████| 24/24 [20:23<00:00, 50.99s/it]\n"
     ]
    },
    {
     "name": "stdout",
     "output_type": "stream",
     "text": [
      "---- STATISTICS GENERATION 32 ----\n",
      "  Min 657.1195 7201.7782947216965\n",
      "  Max 681.8066 7258.239594721696\n",
      "  Avg 664.42912 7218.731522721696\n",
      "  Std 5.191604181372617 15.521085232865648\n",
      "Best individual is 657.1195, 7248.3290947216965\n"
     ]
    },
    {
     "name": "stderr",
     "output_type": "stream",
     "text": [
      "100%|██████████| 24/24 [22:14<00:00, 55.60s/it]\n"
     ]
    },
    {
     "name": "stdout",
     "output_type": "stream",
     "text": [
      "---- STATISTICS GENERATION 33 ----\n",
      "  Min 652.3799000000001 7196.504594721697\n",
      "  Max 681.8066 7248.3290947216965\n",
      "  Avg 663.1370880000001 7214.8501627216965\n",
      "  Std 5.9228993613798 12.845962454225731\n",
      "Best individual is 652.3799000000001, 7216.8879947216965\n"
     ]
    },
    {
     "name": "stderr",
     "output_type": "stream",
     "text": [
      "100%|██████████| 24/24 [22:18<00:00, 55.78s/it]\n"
     ]
    },
    {
     "name": "stdout",
     "output_type": "stream",
     "text": [
      "---- STATISTICS GENERATION 34 ----\n",
      "  Min 652.3799000000001 7196.504594721697\n",
      "  Max 681.8066 7248.3290947216965\n",
      "  Avg 661.592988 7211.976726721695\n",
      "  Std 5.914591776437606 11.919966838713737\n",
      "Best individual is 652.3799000000001, 7216.8879947216965\n"
     ]
    },
    {
     "name": "stderr",
     "output_type": "stream",
     "text": [
      "100%|██████████| 24/24 [22:34<00:00, 56.45s/it]\n"
     ]
    },
    {
     "name": "stdout",
     "output_type": "stream",
     "text": [
      "---- STATISTICS GENERATION 35 ----\n",
      "  Min 650.6279999999999 7194.569894721696\n",
      "  Max 671.2974 7226.307994721697\n",
      "  Avg 659.817496 7206.769906721696\n",
      "  Std 4.87796929145154 8.89194356186249\n",
      "Best individual is 650.6279999999999, 7216.704394721697\n"
     ]
    },
    {
     "name": "stderr",
     "output_type": "stream",
     "text": [
      "100%|██████████| 24/24 [20:12<00:00, 50.54s/it]\n"
     ]
    },
    {
     "name": "stdout",
     "output_type": "stream",
     "text": [
      "---- STATISTICS GENERATION 36 ----\n",
      "  Min 650.6279999999999 7189.808894721697\n",
      "  Max 668.6707 7226.307994721697\n",
      "  Avg 657.0673760000001 7206.436986721697\n",
      "  Std 3.860642710658391 9.556215712228193\n",
      "Best individual is 650.6279999999999, 7216.704394721697\n"
     ]
    },
    {
     "name": "stderr",
     "output_type": "stream",
     "text": [
      "100%|██████████| 24/24 [14:21<00:00, 35.88s/it]\n"
     ]
    },
    {
     "name": "stdout",
     "output_type": "stream",
     "text": [
      "---- STATISTICS GENERATION 37 ----\n",
      "  Min 649.8332 7188.184794721696\n",
      "  Max 661.0619999999999 7220.801394721696\n",
      "  Avg 655.0014319999998 7204.731954721696\n",
      "  Std 2.961827007536455 9.414238082071437\n",
      "Best individual is 649.8332, 7198.162094721696\n"
     ]
    },
    {
     "name": "stderr",
     "output_type": "stream",
     "text": [
      "100%|██████████| 24/24 [11:38<00:00, 29.09s/it]\n"
     ]
    },
    {
     "name": "stdout",
     "output_type": "stream",
     "text": [
      "---- STATISTICS GENERATION 38 ----\n",
      "  Min 648.6154 7186.566194721696\n",
      "  Max 661.0619999999999 7216.704394721697\n",
      "  Avg 653.6803520000001 7201.195574721696\n",
      "  Std 3.101069097072842 8.610871593394096\n",
      "Best individual is 648.6154, 7212.946494721697\n"
     ]
    },
    {
     "name": "stderr",
     "output_type": "stream",
     "text": [
      "100%|██████████| 24/24 [18:54<00:00, 47.25s/it]\n"
     ]
    },
    {
     "name": "stdout",
     "output_type": "stream",
     "text": [
      "---- STATISTICS GENERATION 39 ----\n",
      "  Min 646.1547 7183.581494721697\n",
      "  Max 661.0619999999999 7216.868994721696\n",
      "  Avg 652.0269800000001 7199.912978721695\n",
      "  Std 3.1529052428396214 10.849809278746177\n",
      "Best individual is 646.1547, 7203.835094721697\n"
     ]
    },
    {
     "name": "stderr",
     "output_type": "stream",
     "text": [
      "100%|██████████| 24/24 [20:46<00:00, 51.96s/it]\n"
     ]
    },
    {
     "name": "stdout",
     "output_type": "stream",
     "text": [
      "---- STATISTICS GENERATION 40 ----\n",
      "  Min 646.1547 7178.0952947216965\n",
      "  Max 657.6031 7219.155694721697\n",
      "  Avg 650.601864 7196.283510721696\n",
      "  Std 2.5962173606865013 10.405105357108154\n",
      "Best individual is 646.1547, 7203.835094721697\n"
     ]
    },
    {
     "name": "stderr",
     "output_type": "stream",
     "text": [
      "100%|██████████| 24/24 [22:54<00:00, 57.25s/it]\n"
     ]
    },
    {
     "name": "stdout",
     "output_type": "stream",
     "text": [
      "---- STATISTICS GENERATION 41 ----\n",
      "  Min 645.201 7177.873794721696\n",
      "  Max 657.6031 7219.155694721697\n",
      "  Avg 649.9549480000002 7191.353318721697\n",
      "  Std 3.0095300439708383 8.603183331605313\n",
      "Best individual is 645.201, 7201.116094721696\n"
     ]
    },
    {
     "name": "stderr",
     "output_type": "stream",
     "text": [
      "100%|██████████| 24/24 [20:52<00:00, 52.19s/it]\n"
     ]
    },
    {
     "name": "stdout",
     "output_type": "stream",
     "text": [
      "---- STATISTICS GENERATION 42 ----\n",
      "  Min 643.7475000000001 7177.873794721696\n",
      "  Max 653.1939 7203.835094721697\n",
      "  Avg 649.03294 7188.233494721697\n",
      "  Std 2.773734028032899 6.946588439260597\n",
      "Best individual is 643.7475000000001, 7191.306994721697\n"
     ]
    },
    {
     "name": "stderr",
     "output_type": "stream",
     "text": [
      "100%|██████████| 24/24 [18:18<00:00, 45.76s/it]\n"
     ]
    },
    {
     "name": "stdout",
     "output_type": "stream",
     "text": [
      "---- STATISTICS GENERATION 43 ----\n",
      "  Min 643.1482000000001 7174.080994721696\n",
      "  Max 652.6252999999999 7201.116094721696\n",
      "  Avg 647.75294 7186.373522721696\n",
      "  Std 2.6966304485215673 7.207264886599483\n",
      "Best individual is 643.1482000000001, 7189.5012947216965\n"
     ]
    },
    {
     "name": "stderr",
     "output_type": "stream",
     "text": [
      "100%|██████████| 24/24 [16:12<00:00, 40.53s/it]\n"
     ]
    },
    {
     "name": "stdout",
     "output_type": "stream",
     "text": [
      "---- STATISTICS GENERATION 44 ----\n",
      "  Min 642.0757 7173.121094721696\n",
      "  Max 651.9189 7202.1307947216965\n",
      "  Avg 646.1606159999999 7184.728610721696\n",
      "  Std 2.342249981529295 7.681692955426613\n",
      "Best individual is 642.0757, 7194.936794721696\n"
     ]
    },
    {
     "name": "stderr",
     "output_type": "stream",
     "text": [
      "100%|██████████| 24/24 [12:18<00:00, 30.78s/it]\n"
     ]
    },
    {
     "name": "stdout",
     "output_type": "stream",
     "text": [
      "---- STATISTICS GENERATION 45 ----\n",
      "  Min 641.1346 7172.525794721696\n",
      "  Max 648.6358 7194.936794721696\n",
      "  Avg 645.140544 7181.175730721697\n",
      "  Std 1.9876575826208125 5.599176844539448\n",
      "Best individual is 641.1346, 7187.884294721696\n"
     ]
    },
    {
     "name": "stderr",
     "output_type": "stream",
     "text": [
      "100%|██████████| 24/24 [14:45<00:00, 36.90s/it]\n"
     ]
    },
    {
     "name": "stdout",
     "output_type": "stream",
     "text": [
      "---- STATISTICS GENERATION 46 ----\n",
      "  Min 640.1181 7167.541594721696\n",
      "  Max 649.6877999999999 7194.936794721696\n",
      "  Avg 644.1093 7179.204374721697\n",
      "  Std 2.388465276318006 6.386188255816293\n",
      "Best individual is 640.1181, 7179.617994721697\n"
     ]
    },
    {
     "name": "stderr",
     "output_type": "stream",
     "text": [
      "100%|██████████| 24/24 [17:24<00:00, 43.51s/it]\n"
     ]
    },
    {
     "name": "stdout",
     "output_type": "stream",
     "text": [
      "---- STATISTICS GENERATION 47 ----\n",
      "  Min 637.4421 7167.541594721696\n",
      "  Max 649.6877999999999 7195.519094721696\n",
      "  Avg 642.962536 7178.432474721697\n",
      "  Std 2.765896676276492 7.498648501358827\n",
      "Best individual is 637.4421, 7195.519094721696\n"
     ]
    },
    {
     "name": "stderr",
     "output_type": "stream",
     "text": [
      "100%|██████████| 24/24 [22:02<00:00, 55.09s/it]\n"
     ]
    },
    {
     "name": "stdout",
     "output_type": "stream",
     "text": [
      "---- STATISTICS GENERATION 48 ----\n",
      "  Min 635.9697 7166.660694721696\n",
      "  Max 648.832 7195.519094721696\n",
      "  Avg 641.9238520000001 7176.668642721696\n",
      "  Std 3.3829568793973817 7.995159945822694\n",
      "Best individual is 635.9697, 7175.105294721696\n"
     ]
    },
    {
     "name": "stderr",
     "output_type": "stream",
     "text": [
      "100%|██████████| 24/24 [23:12<00:00, 58.03s/it]\n"
     ]
    },
    {
     "name": "stdout",
     "output_type": "stream",
     "text": [
      "---- STATISTICS GENERATION 49 ----\n",
      "  Min 635.3187 7164.122994721696\n",
      "  Max 646.7769 7186.171394721697\n",
      "  Avg 641.553884 7172.977726721697\n",
      "  Std 3.2623672403545285 5.704860372282731\n",
      "Best individual is 635.3187, 7176.510894721696\n"
     ]
    },
    {
     "name": "stderr",
     "output_type": "stream",
     "text": [
      "100%|██████████| 24/24 [25:41<00:00, 64.24s/it]\n"
     ]
    },
    {
     "name": "stdout",
     "output_type": "stream",
     "text": [
      "---- STATISTICS GENERATION 50 ----\n",
      "  Min 635.3187 7162.719194721696\n",
      "  Max 646.1435000000001 7186.171394721697\n",
      "  Avg 640.5623999999999 7171.535726721695\n",
      "  Std 3.1974936497481607 5.919662205593181\n",
      "Best individual is 635.3187, 7176.510894721696\n"
     ]
    },
    {
     "name": "stderr",
     "output_type": "stream",
     "text": [
      "100%|██████████| 24/24 [27:32<00:00, 68.84s/it]\n"
     ]
    },
    {
     "name": "stdout",
     "output_type": "stream",
     "text": [
      "---- STATISTICS GENERATION 51 ----\n",
      "  Min 633.6695 7162.155594721696\n",
      "  Max 645.0598 7183.832394721697\n",
      "  Avg 639.264616 7170.886714721697\n",
      "  Std 3.015247708113738 5.410632391403841\n",
      "Best individual is 633.6695, 7173.273594721696\n"
     ]
    },
    {
     "name": "stderr",
     "output_type": "stream",
     "text": [
      "100%|██████████| 24/24 [26:46<00:00, 66.95s/it]\n"
     ]
    },
    {
     "name": "stdout",
     "output_type": "stream",
     "text": [
      "---- STATISTICS GENERATION 52 ----\n",
      "  Min 633.6695 7159.971594721696\n",
      "  Max 645.0598 7183.832394721697\n",
      "  Avg 638.320464 7169.923718721696\n",
      "  Std 3.1049509218305777 5.935824072999995\n",
      "Best individual is 633.6695, 7173.273594721696\n"
     ]
    },
    {
     "name": "stderr",
     "output_type": "stream",
     "text": [
      "100%|██████████| 24/24 [26:56<00:00, 67.35s/it]\n"
     ]
    },
    {
     "name": "stdout",
     "output_type": "stream",
     "text": [
      "---- STATISTICS GENERATION 53 ----\n",
      "  Min 631.6877 7158.524694721696\n",
      "  Max 645.3436999999999 7177.709794721696\n",
      "  Avg 637.954868 7166.946734721697\n",
      "  Std 3.461118918682223 5.326104620077711\n",
      "Best individual is 631.6877, 7164.308194721696\n"
     ]
    },
    {
     "name": "stderr",
     "output_type": "stream",
     "text": [
      "100%|██████████| 24/24 [24:33<00:00, 61.38s/it]\n"
     ]
    },
    {
     "name": "stdout",
     "output_type": "stream",
     "text": [
      "---- STATISTICS GENERATION 54 ----\n",
      "  Min 631.6877 7157.264294721696\n",
      "  Max 645.3436999999999 7177.709794721696\n",
      "  Avg 637.408836 7164.359498721696\n",
      "  Std 3.981846293864168 4.741486955616762\n",
      "Best individual is 631.6877, 7164.308194721696\n"
     ]
    },
    {
     "name": "stderr",
     "output_type": "stream",
     "text": [
      "100%|██████████| 24/24 [24:39<00:00, 61.66s/it]\n"
     ]
    },
    {
     "name": "stdout",
     "output_type": "stream",
     "text": [
      "---- STATISTICS GENERATION 55 ----\n",
      "  Min 631.5934 7156.402694721696\n",
      "  Max 644.1220000000001 7173.273594721696\n",
      "  Avg 636.2680079999999 7161.943134721696\n",
      "  Std 4.164361465299184 4.6171149201344415\n",
      "Best individual is 631.5934, 7164.165494721697\n"
     ]
    },
    {
     "name": "stderr",
     "output_type": "stream",
     "text": [
      "100%|██████████| 24/24 [19:59<00:00, 50.00s/it]\n"
     ]
    },
    {
     "name": "stdout",
     "output_type": "stream",
     "text": [
      "---- STATISTICS GENERATION 56 ----\n",
      "  Min 631.5115000000001 7153.306194721696\n",
      "  Max 644.1220000000001 7172.845694721696\n",
      "  Avg 635.3985839999998 7160.424666721698\n",
      "  Std 4.234767103579248 4.922660857995944\n",
      "Best individual is 631.5115000000001, 7163.2966947216955\n"
     ]
    },
    {
     "name": "stderr",
     "output_type": "stream",
     "text": [
      "100%|██████████| 24/24 [16:26<00:00, 41.09s/it]\n"
     ]
    },
    {
     "name": "stdout",
     "output_type": "stream",
     "text": [
      "---- STATISTICS GENERATION 57 ----\n",
      "  Min 630.5714 7152.090894721696\n",
      "  Max 641.7721 7171.808494721696\n",
      "  Avg 634.115276 7158.685814721697\n",
      "  Std 3.3345158177284757 4.531743982124668\n",
      "Best individual is 630.5714, 7157.078894721696\n"
     ]
    },
    {
     "name": "stderr",
     "output_type": "stream",
     "text": [
      "100%|██████████| 24/24 [14:41<00:00, 36.73s/it]\n"
     ]
    },
    {
     "name": "stdout",
     "output_type": "stream",
     "text": [
      "---- STATISTICS GENERATION 58 ----\n",
      "  Min 629.6431 7149.470594721696\n",
      "  Max 641.7721 7171.808494721696\n",
      "  Avg 634.215496 7157.797094721696\n",
      "  Std 3.8816448795186695 5.58197610612971\n",
      "Best individual is 629.6431, 7166.143894721696\n"
     ]
    },
    {
     "name": "stderr",
     "output_type": "stream",
     "text": [
      "100%|██████████| 24/24 [19:16<00:00, 48.17s/it]\n"
     ]
    },
    {
     "name": "stdout",
     "output_type": "stream",
     "text": [
      "---- STATISTICS GENERATION 59 ----\n",
      "  Min 628.8705 7148.7710947216965\n",
      "  Max 640.8264 7166.143894721696\n",
      "  Avg 633.1591759999999 7155.659350721697\n",
      "  Std 3.1375643986387844 3.826034533697151\n",
      "Best individual is 628.8705, 7161.012194721697\n"
     ]
    },
    {
     "name": "stderr",
     "output_type": "stream",
     "text": [
      "100%|██████████| 24/24 [21:48<00:00, 54.51s/it]\n"
     ]
    },
    {
     "name": "stdout",
     "output_type": "stream",
     "text": [
      "---- STATISTICS GENERATION 60 ----\n",
      "  Min 628.8705 7148.7710947216965\n",
      "  Max 640.7643 7166.143894721696\n",
      "  Avg 632.598176 7155.024098721696\n",
      "  Std 3.275280159185448 4.265315532811811\n",
      "Best individual is 628.8705, 7161.012194721697\n"
     ]
    },
    {
     "name": "stderr",
     "output_type": "stream",
     "text": [
      "100%|██████████| 24/24 [22:39<00:00, 56.64s/it]\n"
     ]
    },
    {
     "name": "stdout",
     "output_type": "stream",
     "text": [
      "---- STATISTICS GENERATION 61 ----\n",
      "  Min 628.6637 7148.7710947216965\n",
      "  Max 640.7643 7166.143894721696\n",
      "  Avg 632.2273800000002 7154.735542721697\n",
      "  Std 3.570304279782898 4.325069804641207\n",
      "Best individual is 628.6637, 7159.772294721697\n"
     ]
    },
    {
     "name": "stderr",
     "output_type": "stream",
     "text": [
      "100%|██████████| 24/24 [23:25<00:00, 58.56s/it]\n"
     ]
    },
    {
     "name": "stdout",
     "output_type": "stream",
     "text": [
      "---- STATISTICS GENERATION 62 ----\n",
      "  Min 626.0483 7142.934394721697\n",
      "  Max 636.386 7164.120194721696\n",
      "  Avg 630.635528 7154.257102721696\n",
      "  Std 2.099920540293692 4.918550506918427\n",
      "Best individual is 626.0483, 7161.056294721697\n"
     ]
    },
    {
     "name": "stderr",
     "output_type": "stream",
     "text": [
      "100%|██████████| 24/24 [24:50<00:00, 62.11s/it]\n"
     ]
    },
    {
     "name": "stdout",
     "output_type": "stream",
     "text": [
      "---- STATISTICS GENERATION 63 ----\n",
      "  Min 626.0483 7142.934394721697\n",
      "  Max 636.386 7161.056294721697\n",
      "  Avg 630.3703199999999 7152.563010721695\n",
      "  Std 2.333318796434747 4.561146076382229\n",
      "Best individual is 626.0483, 7161.056294721697\n"
     ]
    },
    {
     "name": "stderr",
     "output_type": "stream",
     "text": [
      "100%|██████████| 24/24 [25:21<00:00, 63.40s/it]\n"
     ]
    },
    {
     "name": "stdout",
     "output_type": "stream",
     "text": [
      "---- STATISTICS GENERATION 64 ----\n",
      "  Min 625.624 7142.934394721697\n",
      "  Max 636.386 7161.056294721697\n",
      "  Avg 630.139592 7151.408398721696\n",
      "  Std 2.745396914681877 5.089776939662093\n",
      "Best individual is 625.624, 7158.0039947216965\n"
     ]
    },
    {
     "name": "stderr",
     "output_type": "stream",
     "text": [
      "100%|██████████| 24/24 [24:20<00:00, 60.84s/it]\n"
     ]
    },
    {
     "name": "stdout",
     "output_type": "stream",
     "text": [
      "---- STATISTICS GENERATION 65 ----\n",
      "  Min 625.5867999999999 7142.934394721697\n",
      "  Max 635.0753 7161.056294721697\n",
      "  Avg 629.546876 7150.115546721695\n",
      "  Std 2.6221460701189563 4.872633347328262\n",
      "Best individual is 625.5867999999999, 7156.106394721696\n"
     ]
    },
    {
     "name": "stderr",
     "output_type": "stream",
     "text": [
      "100%|██████████| 24/24 [19:07<00:00, 47.81s/it]\n"
     ]
    },
    {
     "name": "stdout",
     "output_type": "stream",
     "text": [
      "---- STATISTICS GENERATION 66 ----\n",
      "  Min 625.5867999999999 7142.934394721697\n",
      "  Max 633.3577 7161.056294721697\n",
      "  Avg 628.2825359999999 7150.922938721696\n",
      "  Std 2.1710560768383864 5.150291622745189\n",
      "Best individual is 625.5867999999999, 7156.106394721696\n"
     ]
    },
    {
     "name": "stderr",
     "output_type": "stream",
     "text": [
      "100%|██████████| 24/24 [11:52<00:00, 29.69s/it]\n"
     ]
    },
    {
     "name": "stdout",
     "output_type": "stream",
     "text": [
      "---- STATISTICS GENERATION 67 ----\n",
      "  Min 625.3621 7142.934394721697\n",
      "  Max 633.3577 7159.502394721696\n",
      "  Avg 627.951544 7149.826322721696\n",
      "  Std 2.298449256874177 4.8142265042094\n",
      "Best individual is 625.3621, 7150.764894721697\n"
     ]
    },
    {
     "name": "stderr",
     "output_type": "stream",
     "text": [
      " 71%|███████   | 17/24 [10:25<03:48, 32.64s/it]"
     ]
    },
    {
     "ename": "KeyboardInterrupt",
     "evalue": "",
     "output_type": "error",
     "traceback": [
      "\u001b[0;31m---------------------------------------------------------------------------\u001b[0m",
      "\u001b[0;31mKeyboardInterrupt\u001b[0m                         Traceback (most recent call last)",
      "\u001b[0;32m<ipython-input-14-782fd82648aa>\u001b[0m in \u001b[0;36m<module>\u001b[0;34m\u001b[0m\n\u001b[1;32m     19\u001b[0m \u001b[0;34m\u001b[0m\u001b[0m\n\u001b[1;32m     20\u001b[0m     \u001b[0;31m# Fitness\u001b[0m\u001b[0;34m\u001b[0m\u001b[0;34m\u001b[0m\u001b[0;34m\u001b[0m\u001b[0m\n\u001b[0;32m---> 21\u001b[0;31m     \u001b[0mcrossed_offspring_fitnesses\u001b[0m \u001b[0;34m=\u001b[0m \u001b[0;34m[\u001b[0m\u001b[0mtoolbox\u001b[0m\u001b[0;34m.\u001b[0m\u001b[0mevaluate\u001b[0m\u001b[0;34m(\u001b[0m\u001b[0mindividual\u001b[0m\u001b[0;34m)\u001b[0m \u001b[0;32mfor\u001b[0m \u001b[0mindividual\u001b[0m \u001b[0;32min\u001b[0m \u001b[0mtqdm\u001b[0m\u001b[0;34m(\u001b[0m\u001b[0mcrossed_offspring\u001b[0m\u001b[0;34m)\u001b[0m\u001b[0;34m]\u001b[0m\u001b[0;34m\u001b[0m\u001b[0;34m\u001b[0m\u001b[0m\n\u001b[0m\u001b[1;32m     22\u001b[0m     \u001b[0;32mfor\u001b[0m \u001b[0mindividual\u001b[0m\u001b[0;34m,\u001b[0m \u001b[0mfitness\u001b[0m \u001b[0;32min\u001b[0m \u001b[0mzip\u001b[0m\u001b[0;34m(\u001b[0m\u001b[0mcrossed_offspring\u001b[0m\u001b[0;34m,\u001b[0m \u001b[0mcrossed_offspring_fitnesses\u001b[0m\u001b[0;34m)\u001b[0m\u001b[0;34m:\u001b[0m\u001b[0;34m\u001b[0m\u001b[0;34m\u001b[0m\u001b[0m\n\u001b[1;32m     23\u001b[0m         \u001b[0mindividual\u001b[0m\u001b[0;34m.\u001b[0m\u001b[0mfitness\u001b[0m\u001b[0;34m.\u001b[0m\u001b[0mvalues\u001b[0m \u001b[0;34m=\u001b[0m \u001b[0mfitness\u001b[0m\u001b[0;34m\u001b[0m\u001b[0;34m\u001b[0m\u001b[0m\n",
      "\u001b[0;32m<ipython-input-14-782fd82648aa>\u001b[0m in \u001b[0;36m<listcomp>\u001b[0;34m(.0)\u001b[0m\n\u001b[1;32m     19\u001b[0m \u001b[0;34m\u001b[0m\u001b[0m\n\u001b[1;32m     20\u001b[0m     \u001b[0;31m# Fitness\u001b[0m\u001b[0;34m\u001b[0m\u001b[0;34m\u001b[0m\u001b[0;34m\u001b[0m\u001b[0m\n\u001b[0;32m---> 21\u001b[0;31m     \u001b[0mcrossed_offspring_fitnesses\u001b[0m \u001b[0;34m=\u001b[0m \u001b[0;34m[\u001b[0m\u001b[0mtoolbox\u001b[0m\u001b[0;34m.\u001b[0m\u001b[0mevaluate\u001b[0m\u001b[0;34m(\u001b[0m\u001b[0mindividual\u001b[0m\u001b[0;34m)\u001b[0m \u001b[0;32mfor\u001b[0m \u001b[0mindividual\u001b[0m \u001b[0;32min\u001b[0m \u001b[0mtqdm\u001b[0m\u001b[0;34m(\u001b[0m\u001b[0mcrossed_offspring\u001b[0m\u001b[0;34m)\u001b[0m\u001b[0;34m]\u001b[0m\u001b[0;34m\u001b[0m\u001b[0;34m\u001b[0m\u001b[0m\n\u001b[0m\u001b[1;32m     22\u001b[0m     \u001b[0;32mfor\u001b[0m \u001b[0mindividual\u001b[0m\u001b[0;34m,\u001b[0m \u001b[0mfitness\u001b[0m \u001b[0;32min\u001b[0m \u001b[0mzip\u001b[0m\u001b[0;34m(\u001b[0m\u001b[0mcrossed_offspring\u001b[0m\u001b[0;34m,\u001b[0m \u001b[0mcrossed_offspring_fitnesses\u001b[0m\u001b[0;34m)\u001b[0m\u001b[0;34m:\u001b[0m\u001b[0;34m\u001b[0m\u001b[0;34m\u001b[0m\u001b[0m\n\u001b[1;32m     23\u001b[0m         \u001b[0mindividual\u001b[0m\u001b[0;34m.\u001b[0m\u001b[0mfitness\u001b[0m\u001b[0;34m.\u001b[0m\u001b[0mvalues\u001b[0m \u001b[0;34m=\u001b[0m \u001b[0mfitness\u001b[0m\u001b[0;34m\u001b[0m\u001b[0;34m\u001b[0m\u001b[0m\n",
      "\u001b[0;32m<ipython-input-6-c82dd197566c>\u001b[0m in \u001b[0;36mfitness\u001b[0;34m(individual, route_requests, penalty_const)\u001b[0m\n\u001b[1;32m     32\u001b[0m     \u001b[0mloom\u001b[0m\u001b[0;34m.\u001b[0m\u001b[0madd_function\u001b[0m\u001b[0;34m(\u001b[0m\u001b[0moperator_fitness\u001b[0m\u001b[0;34m,\u001b[0m \u001b[0;34m[\u001b[0m\u001b[0mindividual\u001b[0m\u001b[0;34m,\u001b[0m \u001b[0mpenalty_const\u001b[0m\u001b[0;34m]\u001b[0m\u001b[0;34m,\u001b[0m \u001b[0;34m{\u001b[0m\u001b[0;34m}\u001b[0m\u001b[0;34m)\u001b[0m\u001b[0;34m\u001b[0m\u001b[0;34m\u001b[0m\u001b[0m\n\u001b[1;32m     33\u001b[0m \u001b[0;34m\u001b[0m\u001b[0m\n\u001b[0;32m---> 34\u001b[0;31m     \u001b[0moutput\u001b[0m \u001b[0;34m=\u001b[0m \u001b[0mloom\u001b[0m\u001b[0;34m.\u001b[0m\u001b[0mexecute\u001b[0m\u001b[0;34m(\u001b[0m\u001b[0;34m)\u001b[0m\u001b[0;34m\u001b[0m\u001b[0;34m\u001b[0m\u001b[0m\n\u001b[0m\u001b[1;32m     35\u001b[0m     \u001b[0mclient_f\u001b[0m \u001b[0;34m=\u001b[0m \u001b[0moutput\u001b[0m\u001b[0;34m[\u001b[0m\u001b[0;36m0\u001b[0m\u001b[0;34m]\u001b[0m\u001b[0;34m[\u001b[0m\u001b[0;34m'output'\u001b[0m\u001b[0;34m]\u001b[0m\u001b[0;34m\u001b[0m\u001b[0;34m\u001b[0m\u001b[0m\n\u001b[1;32m     36\u001b[0m     \u001b[0moperator_f\u001b[0m \u001b[0;34m=\u001b[0m \u001b[0moutput\u001b[0m\u001b[0;34m[\u001b[0m\u001b[0;36m1\u001b[0m\u001b[0;34m]\u001b[0m\u001b[0;34m[\u001b[0m\u001b[0;34m'output'\u001b[0m\u001b[0;34m]\u001b[0m\u001b[0;34m\u001b[0m\u001b[0;34m\u001b[0m\u001b[0m\n",
      "\u001b[0;32m/usr/local/anaconda3/lib/python3.7/site-packages/pexecute/base_loom.py\u001b[0m in \u001b[0;36mexecute\u001b[0;34m(self)\u001b[0m\n\u001b[1;32m    127\u001b[0m \u001b[0;34m\u001b[0m\u001b[0m\n\u001b[1;32m    128\u001b[0m         \u001b[0;32mwhile\u001b[0m \u001b[0mself\u001b[0m\u001b[0;34m.\u001b[0m\u001b[0mget_active_runner_count\u001b[0m\u001b[0;34m(\u001b[0m\u001b[0;34m)\u001b[0m\u001b[0;34m:\u001b[0m\u001b[0;34m\u001b[0m\u001b[0;34m\u001b[0m\u001b[0m\n\u001b[0;32m--> 129\u001b[0;31m             \u001b[0mtime\u001b[0m\u001b[0;34m.\u001b[0m\u001b[0msleep\u001b[0m\u001b[0;34m(\u001b[0m\u001b[0mself\u001b[0m\u001b[0;34m.\u001b[0m\u001b[0mPOOL_FILL_PAUSE\u001b[0m\u001b[0;34m)\u001b[0m\u001b[0;34m\u001b[0m\u001b[0;34m\u001b[0m\u001b[0m\n\u001b[0m\u001b[1;32m    130\u001b[0m \u001b[0;34m\u001b[0m\u001b[0m\n\u001b[1;32m    131\u001b[0m         \u001b[0moutput\u001b[0m \u001b[0;34m=\u001b[0m \u001b[0mdict\u001b[0m\u001b[0;34m(\u001b[0m\u001b[0mself\u001b[0m\u001b[0;34m.\u001b[0m\u001b[0mtracker_dict\u001b[0m\u001b[0;34m)\u001b[0m\u001b[0;34m\u001b[0m\u001b[0;34m\u001b[0m\u001b[0m\n",
      "\u001b[0;31mKeyboardInterrupt\u001b[0m: "
     ]
    }
   ],
   "source": [
    "current_generation = 0\n",
    "while current_generation < number_generations:\n",
    "    offspring = list(map(toolbox.clone, population))\n",
    "    crossed_offspring = []\n",
    "\n",
    "    # Crossing\n",
    "    for child_1, child_2 in zip(offspring[::2], offspring[1::2]):\n",
    "        child_a, child_b = toolbox.crossover(child_1, child_2)\n",
    "        del child_a.fitness.values\n",
    "        del child_b.fitness.values\n",
    "        crossed_offspring.append(child_a)\n",
    "        crossed_offspring.append(child_b)\n",
    "\n",
    "    # Mutation\n",
    "    for mu in range(0,len(crossed_offspring)):\n",
    "        mutant = toolbox.mutate(crossed_offspring[mu])\n",
    "        del mutant.fitness.values\n",
    "        crossed_offspring[mu] = mutant\n",
    "\n",
    "    # Fitness\n",
    "    crossed_offspring_fitnesses = [toolbox.evaluate(individual) for individual in tqdm(crossed_offspring)]\n",
    "    for individual, fitness in zip(crossed_offspring, crossed_offspring_fitnesses):\n",
    "        individual.fitness.values = fitness\n",
    "\n",
    "    new_population = population+crossed_offspring\n",
    "\n",
    "    # Selection\n",
    "    selected = toolbox.select(new_population, population_size)\n",
    "    population_selected = list(map(toolbox.clone, selected))\n",
    "\n",
    "    population[:] = population_selected\n",
    "\n",
    "    print(\"---- STATISTICS GENERATION %s ----\" % (current_generation))\n",
    "\n",
    "    fits_client = [ind.fitness.values[0] for ind in population]\n",
    "    fits_operator = [ind.fitness.values[1] for ind in population]\n",
    "\n",
    "    length = len(population)\n",
    "    mean_client = sum(fits_client) / length\n",
    "    mean_operator= sum(fits_operator) / length\n",
    "    sum2_client = sum(x*x for x in fits_client)\n",
    "    sum2_operator = sum(x*x for x in fits_operator)\n",
    "    std_client = abs(sum2_client / length - mean_client**2)**0.5\n",
    "    std_operator = abs(sum2_operator / length - mean_operator**2)**0.5\n",
    "    \n",
    "    list_generations_mean_fitness.append((mean_client, mean_operator))\n",
    "    list_generations_std_fitness.append((std_client, std_operator))\n",
    "    list_generations_min_fitness.append((min(fits_client), min(fits_operator)))\n",
    "    list_generations_max_fitness.append((max(fits_client), max(fits_operator)))\n",
    "    \n",
    "    list_population_generations.append(population)\n",
    "    \n",
    "    print(\"  Min %s %s\" % (min(fits_client), min(fits_operator)))\n",
    "    print(\"  Max %s %s\" % (max(fits_client), max(fits_operator)))\n",
    "    print(\"  Avg %s %s\" % (mean_client, mean_operator))\n",
    "    print(\"  Std %s %s\" % (std_client, std_operator))\n",
    "    \n",
    "    current_generation+= 1\n",
    "    \n",
    "    best_ind = tools.selBest(population, 1)[0]\n",
    "    \n",
    "    list_best_individuo_generations.append(best_ind)\n",
    "    list_best_individuo_fitness_generations.append(tuple(best_ind.fitness.values))\n",
    "    \n",
    "    print(\"Best individual is %s, %s\" % (best_ind.fitness.values))\n",
    "    \n",
    "    data_ga = [list_generations_mean_fitness, list_generations_std_fitness,\n",
    "              list_generations_min_fitness, list_generations_max_fitness,\n",
    "              list_population_generations, list_best_individuo_generations,\n",
    "              list_best_individuo_fitness_generations]\n",
    "    \n",
    "    pickle.dump(data_ga, open(\"data_ga_evol_\"+str(idx_evol)+\".pkl\", \"wb\"))\n",
    "print(\"--- %s seconds ---\" % round(time.time() - start_time))"
   ]
  },
  {
   "cell_type": "code",
   "execution_count": null,
   "metadata": {},
   "outputs": [],
   "source": [
    "import pickle"
   ]
  },
  {
   "cell_type": "code",
   "execution_count": null,
   "metadata": {},
   "outputs": [],
   "source": [
    "best_ind = tools.selBest(population, 1)[0]"
   ]
  },
  {
   "cell_type": "code",
   "execution_count": null,
   "metadata": {},
   "outputs": [],
   "source": [
    "pickle.dump(np.array(best_ind), open(\"best_individual\"+str(idx_evol)+\".pkl\", \"wb\"))"
   ]
  }
 ],
 "metadata": {
  "kernelspec": {
   "display_name": "Python 3",
   "language": "python",
   "name": "python3"
  },
  "language_info": {
   "codemirror_mode": {
    "name": "ipython",
    "version": 3
   },
   "file_extension": ".py",
   "mimetype": "text/x-python",
   "name": "python",
   "nbconvert_exporter": "python",
   "pygments_lexer": "ipython3",
   "version": "3.7.4"
  }
 },
 "nbformat": 4,
 "nbformat_minor": 4
}
