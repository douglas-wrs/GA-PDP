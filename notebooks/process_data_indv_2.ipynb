{
 "cells": [
  {
   "cell_type": "code",
   "execution_count": 1,
   "metadata": {},
   "outputs": [],
   "source": []
  },
  {
   "cell_type": "code",
   "execution_count": 2,
   "metadata": {},
   "outputs": [
    {
     "name": "stdout",
     "output_type": "stream",
     "text": [
      "# proposals:  123402\n",
      "# requests 121427\n",
      "# rides 46616\n"
     ]
    }
   ],
   "source": [
    "import auxiliary_tools\n",
    "df_proposals_shrt, requests_ids = auxiliary_tools.prepProposals(\"../proposals/\")\n",
    "df_requests_shrt = auxiliary_tools.prepRequests(\"../requests/\", requests_ids)\n",
    "df_rides_shrt = auxiliary_tools.prepRides(\"../rides/\")\n",
    "df_drt_dataset = auxiliary_tools.mergePropRequRides(df_proposals_shrt, df_requests_shrt, df_rides_shrt)\n",
    "df_routes = auxiliary_tools.routesTransformation(\"../data/drt_dataset.csv\")"
   ]
  },
  {
   "cell_type": "code",
   "execution_count": 3,
   "metadata": {},
   "outputs": [],
   "source": []
  },
  {
   "cell_type": "code",
   "execution_count": 4,
   "metadata": {},
   "outputs": [],
   "source": []
  },
  {
   "cell_type": "code",
   "execution_count": 5,
   "metadata": {},
   "outputs": [],
   "source": [
    "df_van_50 = df_routes[df_routes['VAN_ID'] == '50']"
   ]
  },
  {
   "cell_type": "code",
   "execution_count": 6,
   "metadata": {},
   "outputs": [],
   "source": [
    "individual = df_van_50[['LATITUDE', 'LONGITUDE']].values.tolist()"
   ]
  },
  {
   "cell_type": "code",
   "execution_count": 42,
   "metadata": {},
   "outputs": [],
   "source": [
    "import numpy as np\n",
    "from tqdm import tqdm\n",
    "def client_fitness(route_requests, individual):\n",
    "    c_fitness = []\n",
    "    print(\"Client Fitness\")\n",
    "    for i in range(len(route_requests)):\n",
    "        request_r = route_requests[i]\n",
    "        request_origin = [request_r[0], request_r[1]]\n",
    "        vs_individual = individual[i]\n",
    "        vs_destination = vs_individual\n",
    "        c_fitness.append(auxiliary_tools.getGeoDistanceETA_OSRM(request_origin, vs_destination, 5005, 'walking'))\n",
    "    fitness_value = np.sum([f[0] for f in c_fitness])\n",
    "    return fitness_value\n",
    "\n",
    "def operator_fitness(individual, penalty_const):\n",
    "    ori_dest = [(first, second) for first, second in zip(individual, individual[1:])]\n",
    "    penalty_sum = 0\n",
    "    \n",
    "    for pair in ori_dest:\n",
    "        if (pair[0] != pair[1]) == True :\n",
    "            penalty_sum+=penalty_const\n",
    "    o_fitness = []\n",
    "    print(\"Operator Fitness\")\n",
    "    for od_r in ori_dest:\n",
    "        o_fitness.append(auxiliary_tools.getGeoDistanceETA_OSRM(od_r[0], od_r[1], 5004, 'driving'))\n",
    "        \n",
    "    fitness_value = np.sum([f[0] for f in o_fitness]) + penalty_sum\n",
    "    return fitness_value\n",
    "\n",
    "def fitness(individual, route_requests, penalty_const):\n",
    "    import time\n",
    "    start_time = time.time()\n",
    "    from pexecute.thread import ThreadLoom\n",
    "    loom = ThreadLoom(max_runner_cap=10)\n",
    "    \n",
    "    loom.add_function(client_fitness, [route_requests, individual], {})\n",
    "    loom.add_function(operator_fitness, [individual, penalty_const], {})\n",
    "\n",
    "#     client_f = client_fitness(route_requests, individual)\n",
    "#     operator_f = operator_fitness(individual, penalty_const)\n",
    "    output = loom.execute()\n",
    "    client_f = output[0]['output']\n",
    "    operator_f = output[1]['output']\n",
    "    print(\"--- %s seconds ---\" % round(time.time() - start_time))\n",
    "    return client_f, operator_f"
   ]
  },
  {
   "cell_type": "code",
   "execution_count": 46,
   "metadata": {},
   "outputs": [
    {
     "name": "stdout",
     "output_type": "stream",
     "text": [
      "Client FitnessOperator Fitness\n",
      "\n",
      "--- 8 seconds ---\n",
      "Client Fitness\n",
      "Operator Fitness\n",
      "--- 12 seconds ---\n",
      "Client FitnessOperator Fitness\n",
      "\n",
      "--- 80 seconds ---\n",
      "Client FitnessOperator Fitness\n",
      "\n",
      "--- 34 seconds ---\n",
      "Client FitnessOperator Fitness\n",
      "\n",
      "--- 14 seconds ---\n",
      "Client Fitness\n",
      "Operator Fitness\n",
      "--- 76 seconds ---\n",
      "Client Fitness\n",
      "Operator Fitness\n",
      "--- 30 seconds ---\n",
      "Client FitnessOperator Fitness\n",
      "\n"
     ]
    },
    {
     "ename": "KeyboardInterrupt",
     "evalue": "",
     "output_type": "error",
     "traceback": [
      "\u001b[1;31m---------------------------------------------------------------------------\u001b[0m",
      "\u001b[1;31mKeyboardInterrupt\u001b[0m                         Traceback (most recent call last)",
      "\u001b[1;32m<ipython-input-46-2a53f83c6432>\u001b[0m in \u001b[0;36m<module>\u001b[1;34m\u001b[0m\n\u001b[0;32m      1\u001b[0m \u001b[1;32mwhile\u001b[0m \u001b[1;32mTrue\u001b[0m\u001b[1;33m:\u001b[0m\u001b[1;33m\u001b[0m\u001b[1;33m\u001b[0m\u001b[0m\n\u001b[1;32m----> 2\u001b[1;33m     \u001b[0mfitness\u001b[0m\u001b[1;33m(\u001b[0m\u001b[0mindividual\u001b[0m\u001b[1;33m,\u001b[0m \u001b[0mindividual\u001b[0m\u001b[1;33m,\u001b[0m \u001b[1;36m0.2\u001b[0m\u001b[1;33m)\u001b[0m\u001b[1;33m\u001b[0m\u001b[1;33m\u001b[0m\u001b[0m\n\u001b[0m",
      "\u001b[1;32m<ipython-input-42-789359d89317>\u001b[0m in \u001b[0;36mfitness\u001b[1;34m(individual, route_requests, penalty_const)\u001b[0m\n\u001b[0;32m     39\u001b[0m \u001b[1;31m#     client_f = client_fitness(route_requests, individual)\u001b[0m\u001b[1;33m\u001b[0m\u001b[1;33m\u001b[0m\u001b[1;33m\u001b[0m\u001b[0m\n\u001b[0;32m     40\u001b[0m \u001b[1;31m#     operator_f = operator_fitness(individual, penalty_const)\u001b[0m\u001b[1;33m\u001b[0m\u001b[1;33m\u001b[0m\u001b[1;33m\u001b[0m\u001b[0m\n\u001b[1;32m---> 41\u001b[1;33m     \u001b[0moutput\u001b[0m \u001b[1;33m=\u001b[0m \u001b[0mloom\u001b[0m\u001b[1;33m.\u001b[0m\u001b[0mexecute\u001b[0m\u001b[1;33m(\u001b[0m\u001b[1;33m)\u001b[0m\u001b[1;33m\u001b[0m\u001b[1;33m\u001b[0m\u001b[0m\n\u001b[0m\u001b[0;32m     42\u001b[0m     \u001b[0mclient_f\u001b[0m \u001b[1;33m=\u001b[0m \u001b[0moutput\u001b[0m\u001b[1;33m[\u001b[0m\u001b[1;36m0\u001b[0m\u001b[1;33m]\u001b[0m\u001b[1;33m[\u001b[0m\u001b[1;34m'output'\u001b[0m\u001b[1;33m]\u001b[0m\u001b[1;33m\u001b[0m\u001b[1;33m\u001b[0m\u001b[0m\n\u001b[0;32m     43\u001b[0m     \u001b[0moperator_f\u001b[0m \u001b[1;33m=\u001b[0m \u001b[0moutput\u001b[0m\u001b[1;33m[\u001b[0m\u001b[1;36m1\u001b[0m\u001b[1;33m]\u001b[0m\u001b[1;33m[\u001b[0m\u001b[1;34m'output'\u001b[0m\u001b[1;33m]\u001b[0m\u001b[1;33m\u001b[0m\u001b[1;33m\u001b[0m\u001b[0m\n",
      "\u001b[1;32mC:\\Anaconda\\lib\\site-packages\\pexecute\\base_loom.py\u001b[0m in \u001b[0;36mexecute\u001b[1;34m(self)\u001b[0m\n\u001b[0;32m    127\u001b[0m \u001b[1;33m\u001b[0m\u001b[0m\n\u001b[0;32m    128\u001b[0m         \u001b[1;32mwhile\u001b[0m \u001b[0mself\u001b[0m\u001b[1;33m.\u001b[0m\u001b[0mget_active_runner_count\u001b[0m\u001b[1;33m(\u001b[0m\u001b[1;33m)\u001b[0m\u001b[1;33m:\u001b[0m\u001b[1;33m\u001b[0m\u001b[1;33m\u001b[0m\u001b[0m\n\u001b[1;32m--> 129\u001b[1;33m             \u001b[0mtime\u001b[0m\u001b[1;33m.\u001b[0m\u001b[0msleep\u001b[0m\u001b[1;33m(\u001b[0m\u001b[0mself\u001b[0m\u001b[1;33m.\u001b[0m\u001b[0mPOOL_FILL_PAUSE\u001b[0m\u001b[1;33m)\u001b[0m\u001b[1;33m\u001b[0m\u001b[1;33m\u001b[0m\u001b[0m\n\u001b[0m\u001b[0;32m    130\u001b[0m \u001b[1;33m\u001b[0m\u001b[0m\n\u001b[0;32m    131\u001b[0m         \u001b[0moutput\u001b[0m \u001b[1;33m=\u001b[0m \u001b[0mdict\u001b[0m\u001b[1;33m(\u001b[0m\u001b[0mself\u001b[0m\u001b[1;33m.\u001b[0m\u001b[0mtracker_dict\u001b[0m\u001b[1;33m)\u001b[0m\u001b[1;33m\u001b[0m\u001b[1;33m\u001b[0m\u001b[0m\n",
      "\u001b[1;31mKeyboardInterrupt\u001b[0m: "
     ]
    }
   ],
   "source": [
    "while True:\n",
    "    fitness(individual, individual, 0.2)"
   ]
  }
 ],
 "metadata": {
  "kernelspec": {
   "display_name": "Python 3",
   "language": "python",
   "name": "python3"
  },
  "language_info": {
   "codemirror_mode": {
    "name": "ipython",
    "version": 3
   },
   "file_extension": ".py",
   "mimetype": "text/x-python",
   "name": "python",
   "nbconvert_exporter": "python",
   "pygments_lexer": "ipython3",
   "version": "3.7.3"
  }
 },
 "nbformat": 4,
 "nbformat_minor": 4
}
